{
 "cells": [
  {
   "cell_type": "code",
   "execution_count": 41,
   "metadata": {
    "collapsed": true
   },
   "outputs": [],
   "source": [
    "import invisible_cities.reset.utils as rst_util\n",
    "import numpy as np\n",
    "from invisible_cities.core.system_of_units import pes, mm, mus, ns\n",
    "import invisible_cities.reco.corrections    as corrf\n",
    "import invisible_cities.database.load_db as dbf \n",
    "\n",
    "# Initialize RESET\n",
    "iterations = 100\n",
    "pitch      = 10\n",
    "run_number = 4495\n",
    "nsipms     = 1792\n",
    "npmts      = 1 \n",
    "dist       = 20. \n",
    "sipm_dist  = 20. \n",
    "pmt_dist   = 200 # max distance included in the param file\n",
    "sipm_thr   = 5.\n",
    "#x_size     = 2.\n",
    "#y_size     = 2.\n",
    "\n",
    "x_size     = 10.\n",
    "y_size     = 10.\n",
    "\n",
    "rmax       = 198 #\n",
    "slice_width = 2.\n",
    "pmt_param  = \"/home/jmbenlloch/reset_data/mapas/PMT_Map_corr_keV.h5\"\n",
    "sipm_param = \"/home/jmbenlloch/reset_data/mapas/SiPM_Map_corr_z0.0_keV.h5\"\n",
    "\n",
    "pmap_file = '4495_21215.h5'\n",
    "\n",
    "pmap_conf = {}\n",
    "pmap_conf['s1_emin'] = 54 * pes \n",
    "pmap_conf['s1_emax'] = 2400. * pes \n",
    "pmap_conf['s1_wmin'] = 7*25 * ns\n",
    "pmap_conf['s1_wmax'] = 16*25 * ns\n",
    "pmap_conf['s1_hmin'] = 12. * pes \n",
    "pmap_conf['s1_hmax'] = 400. * pes \n",
    "pmap_conf['s1_num'] = 1 \n",
    "pmap_conf['s1_ethr'] = 0.5 * pes \n",
    "\n",
    "pmap_conf['s2_emin'] = 200000. * pes \n",
    "pmap_conf['s2_emax'] = 2.e6 * pes \n",
    "pmap_conf['s2_wmin'] = 4.* mus \n",
    "pmap_conf['s2_wmax'] = 500. * mus \n",
    "pmap_conf['s2_hmin'] = 600. * pes \n",
    "pmap_conf['s2_hmax'] = 60000. * pes \n",
    "pmap_conf['s2_numMin'] = 1 \n",
    "pmap_conf['s2_numMax'] = 3 \n",
    "pmap_conf['s2_ethr'] = 0. * pes \n",
    "pmap_conf['s2_nsipmmin'] = 1 \n",
    "pmap_conf['s2_nsipmmax'] = 1792\n",
    "\n",
    "# Read file and select peaks\n",
    "selector = rst_util.refresh_selector(pmap_conf)\n",
    "s1s, s2s, s2sis, peaks = rst_util.load_and_select_peaks(pmap_file, 21215, selector)\n",
    "\n",
    "# Lifetime correction\n",
    "ZCorr = corrf.LifetimeCorrection(1093.77, 23.99)\n",
    "\n",
    "# Sensors info\n",
    "data_sipm = dbf.DataSiPM(run_number)\n",
    "\n",
    "# Take the first peak\n",
    "peak = next(iter(peaks))\n",
    "evt = 21215\n",
    "sipm_thr = sipm_thr\n",
    "\n",
    "# Prepare data\n",
    "voxels_data, slices, energies, zs = rst_util.prepare_data(s1s, s2s, s2sis, slice_width, evt, peak, data_sipm, nsipms, sipm_thr, dist, ZCorr)\n",
    "slices_start = rst_util.slices_start(voxels_data, x_size, y_size)"
   ]
  },
  {
   "cell_type": "code",
   "execution_count": 42,
   "metadata": {
    "collapsed": true
   },
   "outputs": [],
   "source": [
    "import invisible_cities.reset.reset_serial as rst_serial"
   ]
  },
  {
   "cell_type": "markdown",
   "metadata": {},
   "source": [
    "# Create voxels"
   ]
  },
  {
   "cell_type": "code",
   "execution_count": 43,
   "metadata": {
    "collapsed": true
   },
   "outputs": [],
   "source": [
    "rst_voxels = rst_serial.create_voxels(voxels_data, slices_start, x_size, y_size, rmax)"
   ]
  },
  {
   "cell_type": "code",
   "execution_count": 44,
   "metadata": {},
   "outputs": [
    {
     "data": {
      "text/plain": [
       "ResetVoxels(nslices=6, nvoxels=1717, voxels=array([(115., 25.,  6.3964443), (115., 35.,  6.3964443),\n",
       "       (115., 45.,  6.3964443), ..., (195.,  5., 10.671945 ),\n",
       "       (195., 15., 10.671945 ), (195., 25., 10.671945 )],\n",
       "      dtype=[('x', '<f4'), ('y', '<f4'), ('E', '<f4')]), slice_ids=array([0, 0, 0, ..., 5, 5, 5], dtype=int32), slice_start=array([   0,   67,  173,  470,  872, 1404, 1717], dtype=int32), address=array([   0,    1,    2, ..., 1717, 1717, 1717]))"
      ]
     },
     "execution_count": 44,
     "metadata": {},
     "output_type": "execute_result"
    }
   ],
   "source": [
    "rst_voxels"
   ]
  },
  {
   "cell_type": "markdown",
   "metadata": {},
   "source": [
    "# Anode response"
   ]
  },
  {
   "cell_type": "code",
   "execution_count": 15,
   "metadata": {
    "collapsed": true
   },
   "outputs": [],
   "source": [
    "nslices = voxels_data.xmin.shape[0]\n",
    "anode_response = rst_serial.create_anode_response(slices)"
   ]
  },
  {
   "cell_type": "markdown",
   "metadata": {},
   "source": [
    "# Create cathode response"
   ]
  },
  {
   "cell_type": "code",
   "execution_count": 16,
   "metadata": {
    "collapsed": true
   },
   "outputs": [],
   "source": [
    "cath_response = energies"
   ]
  },
  {
   "cell_type": "markdown",
   "metadata": {},
   "source": [
    "# Compute probs"
   ]
  },
  {
   "cell_type": "code",
   "execution_count": 17,
   "metadata": {
    "collapsed": true
   },
   "outputs": [],
   "source": [
    "import math"
   ]
  },
  {
   "cell_type": "code",
   "execution_count": 18,
   "metadata": {
    "collapsed": true
   },
   "outputs": [],
   "source": [
    "sipm_param_file  = \"/home/jmbenlloch/reset_data/mapas/SiPM_Map_corr_z0.0_keV.h5\"\n",
    "sipm_params = rst_util.read_corrections_file(sipm_param_file, 'SiPM')\n",
    "\n",
    "sipms_per_voxel = int(math.floor(2 * sipm_dist / pitch) + 1)**2\n",
    "voxels_per_sipm = int((2 * sipm_dist)**2 / (x_size * y_size))\n",
    "xs = data_sipm.X\n",
    "ys = data_sipm.Y"
   ]
  },
  {
   "cell_type": "code",
   "execution_count": null,
   "metadata": {
    "collapsed": true
   },
   "outputs": [],
   "source": [
    "sipm_probs = rst_serial.compute_probabilities_cuda(rst_voxels, xs, ys, nsipms, sipms_per_voxel, sipm_dist, sipm_params, anode_response)"
   ]
  },
  {
   "cell_type": "code",
   "execution_count": null,
   "metadata": {
    "collapsed": true
   },
   "outputs": [],
   "source": [
    "sipm_probs.nprobs"
   ]
  },
  {
   "cell_type": "markdown",
   "metadata": {},
   "source": [
    "### PMTs"
   ]
  },
  {
   "cell_type": "code",
   "execution_count": 19,
   "metadata": {
    "collapsed": true
   },
   "outputs": [],
   "source": [
    "pmt_param_file = \"/home/jmbenlloch/reset_data/mapas/PMT_Map_corr_keV.h5\"\n",
    "pmt_params = rst_util.read_corrections_file(pmt_param_file, 'PMT')\n",
    "\n",
    "pmts_per_voxel = npmts\n",
    "voxels_per_pmt = int((2 * pmt_dist)**2 / (x_size * y_size))\n",
    "\n",
    "xs_pmts = np.array([0.], dtype='f4')\n",
    "ys_pmts = np.array([0.], dtype='f4')"
   ]
  },
  {
   "cell_type": "code",
   "execution_count": 20,
   "metadata": {
    "collapsed": true
   },
   "outputs": [],
   "source": [
    "pmt_probs = rst_serial.compute_probabilities_cuda(rst_voxels, xs_pmts, ys_pmts, npmts, pmts_per_voxel, pmt_dist, pmt_params, cath_response)"
   ]
  },
  {
   "cell_type": "markdown",
   "metadata": {},
   "source": [
    "# Sensor probs"
   ]
  },
  {
   "cell_type": "code",
   "execution_count": null,
   "metadata": {
    "collapsed": true
   },
   "outputs": [],
   "source": [
    "sipm_sns_probs = rst_serial.compute_sensor_probs(sipm_probs, nslices, nsipms, rst_voxels.slice_ids)\n",
    "pmt_sns_probs = rst_serial.compute_sensor_probs(pmt_probs, nslices, npmts, rst_voxels.slice_ids)"
   ]
  },
  {
   "cell_type": "markdown",
   "metadata": {},
   "source": [
    "# Forward denom"
   ]
  },
  {
   "cell_type": "code",
   "execution_count": null,
   "metadata": {
    "collapsed": true
   },
   "outputs": [],
   "source": [
    "sipm_fwd_denom = rst_serial.forward_denoms(nsipms, nslices, rst_voxels.voxels, sipm_sns_probs)\n",
    "pmt_fwd_denom = rst_serial.forward_denoms(npmts, nslices, rst_voxels.voxels, pmt_sns_probs)"
   ]
  },
  {
   "cell_type": "markdown",
   "metadata": {},
   "source": [
    "# MLEM step"
   ]
  },
  {
   "cell_type": "code",
   "execution_count": null,
   "metadata": {
    "collapsed": true
   },
   "outputs": [],
   "source": [
    "rst_serial.compute_mlem(iterations, rst_voxels, nsipms, sipm_probs, sipm_sns_probs, npmts, pmt_probs, pmt_sns_probs)"
   ]
  },
  {
   "cell_type": "code",
   "execution_count": null,
   "metadata": {
    "collapsed": true
   },
   "outputs": [],
   "source": [
    "rst_voxels"
   ]
  },
  {
   "cell_type": "markdown",
   "metadata": {},
   "source": [
    "# RESET serial"
   ]
  },
  {
   "cell_type": "code",
   "execution_count": 9,
   "metadata": {},
   "outputs": [
    {
     "ename": "NameError",
     "evalue": "name 'nslices' is not defined",
     "output_type": "error",
     "traceback": [
      "\u001b[0;31m---------------------------------------------------------------------------\u001b[0m",
      "\u001b[0;31mNameError\u001b[0m                                 Traceback (most recent call last)",
      "\u001b[0;32m<ipython-input-9-be1cb3497ece>\u001b[0m in \u001b[0;36m<module>\u001b[0;34m()\u001b[0m\n\u001b[1;32m     27\u001b[0m \u001b[0mpmt_probs\u001b[0m \u001b[0;34m=\u001b[0m \u001b[0mrst_serial\u001b[0m\u001b[0;34m.\u001b[0m\u001b[0mcompute_probabilities_cuda\u001b[0m\u001b[0;34m(\u001b[0m\u001b[0mrst_voxels\u001b[0m\u001b[0;34m,\u001b[0m \u001b[0mxs_pmts\u001b[0m\u001b[0;34m,\u001b[0m \u001b[0mys_pmts\u001b[0m\u001b[0;34m,\u001b[0m \u001b[0mnpmts\u001b[0m\u001b[0;34m,\u001b[0m \u001b[0mpmt_ratios\u001b[0m\u001b[0;34m.\u001b[0m\u001b[0msns_per_voxel\u001b[0m\u001b[0;34m,\u001b[0m \u001b[0mpmt_dist\u001b[0m\u001b[0;34m,\u001b[0m \u001b[0mpmt_params\u001b[0m\u001b[0;34m,\u001b[0m \u001b[0mcath_response\u001b[0m\u001b[0;34m)\u001b[0m\u001b[0;34m\u001b[0m\u001b[0m\n\u001b[1;32m     28\u001b[0m \u001b[0;34m\u001b[0m\u001b[0m\n\u001b[0;32m---> 29\u001b[0;31m \u001b[0msipm_sns_probs\u001b[0m \u001b[0;34m=\u001b[0m \u001b[0mrst_serial\u001b[0m\u001b[0;34m.\u001b[0m\u001b[0mcompute_sensor_probs\u001b[0m\u001b[0;34m(\u001b[0m\u001b[0msipm_probs\u001b[0m\u001b[0;34m,\u001b[0m \u001b[0mnslices\u001b[0m\u001b[0;34m,\u001b[0m \u001b[0mnsipms\u001b[0m\u001b[0;34m,\u001b[0m \u001b[0mrst_voxels\u001b[0m\u001b[0;34m.\u001b[0m\u001b[0mslice_ids\u001b[0m\u001b[0;34m)\u001b[0m\u001b[0;34m\u001b[0m\u001b[0m\n\u001b[0m\u001b[1;32m     30\u001b[0m \u001b[0mpmt_sns_probs\u001b[0m \u001b[0;34m=\u001b[0m \u001b[0mrst_serial\u001b[0m\u001b[0;34m.\u001b[0m\u001b[0mcompute_sensor_probs\u001b[0m\u001b[0;34m(\u001b[0m\u001b[0mpmt_probs\u001b[0m\u001b[0;34m,\u001b[0m \u001b[0mnslices\u001b[0m\u001b[0;34m,\u001b[0m \u001b[0mnpmts\u001b[0m\u001b[0;34m,\u001b[0m \u001b[0mrst_voxels\u001b[0m\u001b[0;34m.\u001b[0m\u001b[0mslice_ids\u001b[0m\u001b[0;34m)\u001b[0m\u001b[0;34m\u001b[0m\u001b[0m\n\u001b[1;32m     31\u001b[0m \u001b[0;34m\u001b[0m\u001b[0m\n",
      "\u001b[0;31mNameError\u001b[0m: name 'nslices' is not defined"
     ]
    }
   ],
   "source": [
    "rst_voxels = rst_serial.create_voxels(voxels_data, slices_start, x_size, y_size, rmax)\n",
    "anode_response = rst_serial.create_anode_response(slices)\n",
    "cath_response = energies\n",
    "\n",
    "sipm_param_file  = \"/home/jmbenlloch/reset_data/mapas/SiPM_Map_corr_z0.0_keV.h5\"\n",
    "sipm_params = rst_util.read_corrections_file(sipm_param_file, 'SiPM')\n",
    "\n",
    "#sipms_per_voxel = int(math.floor(2 * sipm_dist / pitch) + 1)**2\n",
    "#voxels_per_sipm = int((2 * sipm_dist)**2 / (x_size * y_size))\n",
    "\n",
    "sipm_ratios = rst_util.compute_sipm_ratio(sipm_dist, pitch, x_size, y_size)\n",
    "xs = data_sipm.X\n",
    "ys = data_sipm.Y\n",
    "\n",
    "sipm_probs = rst_serial.compute_probabilities_cuda(rst_voxels, xs, ys, nsipms, sipm_ratios.sns_per_voxel, sipm_dist, sipm_params, anode_response)\n",
    "\n",
    "pmt_param_file = \"/home/jmbenlloch/reset_data/mapas/PMT_Map_corr_keV.h5\"\n",
    "pmt_params = rst_util.read_corrections_file(pmt_param_file, 'PMT')\n",
    "\n",
    "#pmts_per_voxel = npmts\n",
    "#voxels_per_pmt = int((2 * pmt_dist)**2 / (x_size * y_size))\n",
    "pmt_ratios = rst_util.compute_pmt_ratio(pmt_dist, npmts, x_size, y_size)\n",
    "\n",
    "xs_pmts = np.array([0.], dtype='f4')\n",
    "ys_pmts = np.array([0.], dtype='f4')\n",
    "\n",
    "pmt_probs = rst_serial.compute_probabilities_cuda(rst_voxels, xs_pmts, ys_pmts, npmts, pmt_ratios.sns_per_voxel, pmt_dist, pmt_params, cath_response)\n",
    "\n",
    "sipm_sns_probs = rst_serial.compute_sensor_probs(sipm_probs, nslices, nsipms, rst_voxels.slice_ids)\n",
    "pmt_sns_probs = rst_serial.compute_sensor_probs(pmt_probs, nslices, npmts, rst_voxels.slice_ids)\n",
    "\n",
    "sipm_fwd_denom = rst_serial.forward_denoms(nsipms, nslices, rst_voxels.voxels, sipm_sns_probs)\n",
    "pmt_fwd_denom = rst_serial.forward_denoms(npmts, nslices, rst_voxels.voxels, pmt_sns_probs)\n",
    "\n",
    "rst_serial.compute_mlem(iterations, rst_voxels, nsipms, sipm_probs, sipm_sns_probs, npmts, pmt_probs, pmt_sns_probs)"
   ]
  },
  {
   "cell_type": "markdown",
   "metadata": {},
   "source": [
    "# RESET CUDA"
   ]
  },
  {
   "cell_type": "code",
   "execution_count": 21,
   "metadata": {
    "collapsed": true
   },
   "outputs": [],
   "source": [
    "import invisible_cities.reset.reset_functions_event as rstf\n",
    "import invisible_cities.reset.memory as rst_mem"
   ]
  },
  {
   "cell_type": "code",
   "execution_count": 22,
   "metadata": {
    "collapsed": true
   },
   "outputs": [],
   "source": [
    "rst = rstf.RESET(run_number, nsipms, npmts, dist, sipm_dist, pmt_dist, sipm_thr, x_size, y_size, rmax, sipm_param, pmt_param)"
   ]
  },
  {
   "cell_type": "markdown",
   "metadata": {},
   "source": [
    "## Voxels"
   ]
  },
  {
   "cell_type": "code",
   "execution_count": 23,
   "metadata": {
    "collapsed": true
   },
   "outputs": [],
   "source": [
    "import pycuda.driver as cuda\n",
    "voxels_data_d = rst_mem.copy_voxels_data_h2d(voxels_data)\n",
    "slices_data_d = rst_mem.copy_slice_data_h2d(slices)\n",
    "\n",
    "slices_start_nc_d = cuda.to_device(slices_start)"
   ]
  },
  {
   "cell_type": "code",
   "execution_count": 24,
   "metadata": {
    "collapsed": true
   },
   "outputs": [],
   "source": [
    "rst_voxels_d, slice_ids_h = rstf.create_voxels(rst.cudaf, voxels_data_d, rst.xsize,\n",
    "                                            rst.ysize, rst.rmax, rst.max_voxels,\n",
    "                                            slices_start_nc_d, int(slices_start[-1]))\n",
    "\n",
    "rst_voxels_h = rst_mem.copy_voxels_d2h(rst_voxels_d)"
   ]
  },
  {
   "cell_type": "code",
   "execution_count": 25,
   "metadata": {},
   "outputs": [
    {
     "data": {
      "text/plain": [
       "ResetVoxels(nslices=6, nvoxels=1717, voxels=array([(115., 25.,  6.3964443), (115., 35.,  6.3964443),\n",
       "       (115., 45.,  6.3964443), ..., (195.,  5., 10.671945 ),\n",
       "       (195., 15., 10.671945 ), (195., 25., 10.671945 )],\n",
       "      dtype=[('x', '<f4'), ('y', '<f4'), ('E', '<f4')]), slice_ids=array([0, 0, 0, ..., 5, 5, 5], dtype=int32), slice_start=array([   0,   67,  173,  470,  872, 1404, 1717], dtype=int32), address=array([   0,    1,    2, ..., 1717, 1717, 1717], dtype=int32))"
      ]
     },
     "execution_count": 25,
     "metadata": {},
     "output_type": "execute_result"
    }
   ],
   "source": [
    "rst_voxels_h"
   ]
  },
  {
   "cell_type": "markdown",
   "metadata": {},
   "source": [
    "## Anode response"
   ]
  },
  {
   "cell_type": "code",
   "execution_count": 26,
   "metadata": {
    "collapsed": true
   },
   "outputs": [],
   "source": [
    "anode_d = rstf.create_anode_response(rst.cudaf, slices_data_d)\n",
    "\n",
    "total_sensors = nsipms * voxels_data_d.nslices\n",
    "anode_h = cuda.from_device(anode_d, (total_sensors,), np.dtype('f4'))"
   ]
  },
  {
   "cell_type": "markdown",
   "metadata": {},
   "source": [
    "## Cath response"
   ]
  },
  {
   "cell_type": "code",
   "execution_count": 27,
   "metadata": {
    "collapsed": true
   },
   "outputs": [],
   "source": [
    "cath_d  = rstf.create_cath_response(energies)"
   ]
  },
  {
   "cell_type": "markdown",
   "metadata": {
    "collapsed": true
   },
   "source": [
    "## Compute probs"
   ]
  },
  {
   "cell_type": "code",
   "execution_count": 28,
   "metadata": {
    "collapsed": true
   },
   "outputs": [],
   "source": [
    "sipm_probs_d = rstf.compute_probabilites(rst.cudaf,\n",
    "                    rst_voxels_d, rst.nsipms, sipms_per_voxel,\n",
    "                    rst.sipm_dist, rst.xs_sipms_d,\n",
    "                    rst.ys_sipms_d, rst.sipm_param,\n",
    "                    slices_start_nc_d,\n",
    "                    rst.xsize, rst.ysize, anode_d)\n",
    "\n",
    "\n",
    "sipm_probs_h = rst_mem.copy_probs_d2h(sipm_probs_d, rst_voxels.nvoxels, nslices, nsipms)"
   ]
  },
  {
   "cell_type": "code",
   "execution_count": 29,
   "metadata": {
    "collapsed": true
   },
   "outputs": [],
   "source": [
    "pmt_probs_d = rstf.compute_probabilites(rst.cudaf,\n",
    "                    rst_voxels_d, rst.npmts, pmts_per_voxel,\n",
    "                    rst.pmt_dist, rst.xs_pmts_d,\n",
    "                    rst.ys_pmts_d, rst.pmt_param,\n",
    "                    slices_start_nc_d,\n",
    "                    rst.xsize, rst.ysize, cath_d)\n",
    "\n",
    "pmt_probs_h = rst_mem.copy_probs_d2h(pmt_probs_d, rst_voxels.nvoxels, nslices, npmts)"
   ]
  },
  {
   "cell_type": "markdown",
   "metadata": {},
   "source": [
    "## Compute Sensor probs"
   ]
  },
  {
   "cell_type": "code",
   "execution_count": 34,
   "metadata": {
    "collapsed": true
   },
   "outputs": [],
   "source": [
    "sipm_sns_probs_d = rstf.compute_sensor_probs(rst.cudaf,\n",
    "                  rst_voxels_d, rst.nsipms,\n",
    "                  voxels_per_sipm, rst.sipm_dist, rst.xs_sipms_d,\n",
    "                  rst.ys_sipms_d, rst.sipm_param,\n",
    "                  slices_start_nc_d, voxels_data_d,\n",
    "                  rst.xsize, rst.ysize,\n",
    "                  sipm_probs_d.sensor_start)"
   ]
  },
  {
   "cell_type": "code",
   "execution_count": 33,
   "metadata": {
    "collapsed": true
   },
   "outputs": [],
   "source": [
    "pmt_sns_probs_d = rstf.compute_sensor_probs(rst.cudaf,\n",
    "                  rst_voxels_d, rst.npmts,\n",
    "                  voxels_per_pmt, rst.pmt_dist, rst.xs_pmts_d,\n",
    "                  rst.ys_pmts_d, rst.pmt_param,\n",
    "                  slices_start_nc_d, voxels_data_d,\n",
    "                  rst.xsize, rst.ysize,\n",
    "                  pmt_probs_d.sensor_start)"
   ]
  },
  {
   "cell_type": "markdown",
   "metadata": {},
   "source": [
    "## Forward denom"
   ]
  },
  {
   "cell_type": "code",
   "execution_count": null,
   "metadata": {
    "collapsed": true
   },
   "outputs": [],
   "source": [
    "import pycuda\n",
    "sipm_denoms   = pycuda.gpuarray.zeros(int(nsipms * voxels_data_d.nslices), np.dtype('f4'))\n",
    "sipm_denoms_d = sipm_denoms.gpudata\n",
    "\n",
    "block_sipm = 1024\n",
    "grid_sipm  = math.ceil(sipm_sns_probs_d.nsensors / block_sipm)\n",
    "\n",
    "cuda_forward_denom = rst.cudaf.get_function('forward_denom')\n",
    "\n",
    "cuda_forward_denom(sipm_denoms_d, sipm_sns_probs_d.sensor_start,\n",
    "                    sipm_sns_probs_d.sensor_start_ids, sipm_sns_probs_d.probs,\n",
    "                    sipm_sns_probs_d.voxel_ids, rst_voxels_d.voxels, \n",
    "                    sipm_sns_probs_d.nsensors,\n",
    "                    block=(block_sipm, 1, 1), grid=(grid_sipm, 1))\n",
    "\n",
    "sipm_denoms_h = cuda.from_device(sipm_denoms_d, (rst.nsipms * nslices,), np.dtype('f4'))"
   ]
  },
  {
   "cell_type": "markdown",
   "metadata": {},
   "source": [
    "## Compute MLEM"
   ]
  },
  {
   "cell_type": "code",
   "execution_count": null,
   "metadata": {
    "collapsed": true
   },
   "outputs": [],
   "source": [
    "voxels_h = rstf.compute_mlem(rst.cudaf, rst_voxels_d, voxels_data_d.nslices,\n",
    "          rst.npmts,  pmt_probs_d,  pmt_sns_probs_d,\n",
    "          rst.nsipms, sipm_probs_d, sipm_sns_probs_d)"
   ]
  },
  {
   "cell_type": "code",
   "execution_count": null,
   "metadata": {
    "collapsed": true
   },
   "outputs": [],
   "source": [
    "voxels_h.shape"
   ]
  },
  {
   "cell_type": "code",
   "execution_count": null,
   "metadata": {
    "collapsed": true
   },
   "outputs": [],
   "source": [
    "rst_voxels.voxels['x']"
   ]
  },
  {
   "cell_type": "code",
   "execution_count": null,
   "metadata": {
    "collapsed": true
   },
   "outputs": [],
   "source": [
    "np.allclose(voxels_h['x'], rst_voxels.voxels['x'])\n",
    "np.allclose(voxels_h['y'], rst_voxels.voxels['y'])\n",
    "np.allclose(voxels_h['E'], rst_voxels.voxels['E'])"
   ]
  },
  {
   "cell_type": "markdown",
   "metadata": {},
   "source": [
    "# CUDA version"
   ]
  },
  {
   "cell_type": "code",
   "execution_count": 10,
   "metadata": {},
   "outputs": [
    {
     "ename": "NameError",
     "evalue": "name 'sipms_per_voxel' is not defined",
     "output_type": "error",
     "traceback": [
      "\u001b[0;31m---------------------------------------------------------------------------\u001b[0m",
      "\u001b[0;31mNameError\u001b[0m                                 Traceback (most recent call last)",
      "\u001b[0;32m<ipython-input-10-4ef5d3a0399f>\u001b[0m in \u001b[0;36m<module>\u001b[0;34m()\u001b[0m\n\u001b[1;32m     25\u001b[0m \u001b[0;34m\u001b[0m\u001b[0m\n\u001b[1;32m     26\u001b[0m sipm_probs_d = rstf.compute_probabilites(rst.cudaf,\n\u001b[0;32m---> 27\u001b[0;31m                     \u001b[0mrst_voxels_d\u001b[0m\u001b[0;34m,\u001b[0m \u001b[0mrst\u001b[0m\u001b[0;34m.\u001b[0m\u001b[0mnsipms\u001b[0m\u001b[0;34m,\u001b[0m \u001b[0msipms_per_voxel\u001b[0m\u001b[0;34m,\u001b[0m\u001b[0;34m\u001b[0m\u001b[0m\n\u001b[0m\u001b[1;32m     28\u001b[0m                     \u001b[0mrst\u001b[0m\u001b[0;34m.\u001b[0m\u001b[0msipm_dist\u001b[0m\u001b[0;34m,\u001b[0m \u001b[0mrst\u001b[0m\u001b[0;34m.\u001b[0m\u001b[0mxs_sipms_d\u001b[0m\u001b[0;34m,\u001b[0m\u001b[0;34m\u001b[0m\u001b[0m\n\u001b[1;32m     29\u001b[0m                     \u001b[0mrst\u001b[0m\u001b[0;34m.\u001b[0m\u001b[0mys_sipms_d\u001b[0m\u001b[0;34m,\u001b[0m \u001b[0mrst\u001b[0m\u001b[0;34m.\u001b[0m\u001b[0msipm_param\u001b[0m\u001b[0;34m,\u001b[0m\u001b[0;34m\u001b[0m\u001b[0m\n",
      "\u001b[0;31mNameError\u001b[0m: name 'sipms_per_voxel' is not defined"
     ]
    }
   ],
   "source": [
    "import invisible_cities.reset.reset_functions_event as rstf\n",
    "import invisible_cities.reset.memory as rst_mem\n",
    "import pycuda.driver as cuda\n",
    "\n",
    "rst = rstf.RESET(run_number, nsipms, npmts, dist, sipm_dist, pmt_dist, \n",
    "                 sipm_thr, x_size, y_size, rmax, sipm_param, pmt_param)\n",
    "\n",
    "voxels_data_d = rst_mem.copy_voxels_data_h2d(voxels_data)\n",
    "slices_data_d = rst_mem.copy_slice_data_h2d(slices)\n",
    "\n",
    "slices_start_nc_d = cuda.to_device(slices_start)\n",
    "\n",
    "rst_voxels_d, slice_ids_h = rstf.create_voxels(rst.cudaf, voxels_data_d, rst.xsize,\n",
    "                                            rst.ysize, rst.rmax, rst.max_voxels,\n",
    "                                            slices_start_nc_d, int(slices_start[-1]))\n",
    "\n",
    "rst_voxels_h = rst_mem.copy_voxels_d2h(rst_voxels_d)\n",
    "\n",
    "anode_d = rstf.create_anode_response(rst.cudaf, slices_data_d)\n",
    "\n",
    "total_sensors = nsipms * voxels_data_d.nslices\n",
    "anode_h = cuda.from_device(anode_d, (total_sensors,), np.dtype('f4'))\n",
    "\n",
    "cath_d  = rstf.create_cath_response(energies)\n",
    "\n",
    "sipm_probs_d = rstf.compute_probabilites(rst.cudaf,\n",
    "                    rst_voxels_d, rst.nsipms, sipms_per_voxel,\n",
    "                    rst.sipm_dist, rst.xs_sipms_d,\n",
    "                    rst.ys_sipms_d, rst.sipm_param,\n",
    "                    slices_start_nc_d,\n",
    "                    rst.xsize, rst.ysize, anode_d)\n",
    "\n",
    "\n",
    "sipm_probs_h = rst_mem.copy_probs_d2h(sipm_probs_d, rst_voxels.nvoxels, nslices, nsipms)\n",
    "\n",
    "pmt_probs_d = rstf.compute_probabilites(rst.cudaf,\n",
    "                    rst_voxels_d, rst.npmts, pmts_per_voxel,\n",
    "                    rst.pmt_dist, rst.xs_pmts_d,\n",
    "                    rst.ys_pmts_d, rst.pmt_param,\n",
    "                    slices_start_nc_d,\n",
    "                    rst.xsize, rst.ysize, cath_d)\n",
    "\n",
    "pmt_probs_h = rst_mem.copy_probs_d2h(pmt_probs_d, rst_voxels.nvoxels, nslices, npmts)\n",
    "\n",
    "sipm_sns_probs_d = rstf.compute_sensor_probs(rst.cudaf,\n",
    "                  rst_voxels_d, rst.nsipms, sipms_per_voxel,\n",
    "                  voxels_per_sipm, rst.sipm_dist, rst.xs_sipms_d,\n",
    "                  rst.ys_sipms_d, rst.sipm_param,\n",
    "                  slices_start_nc_d, voxels_data_d,\n",
    "                  rst.xsize, rst.ysize,\n",
    "                  sipm_probs_d.sensor_start)\n",
    "\n",
    "pmt_sns_probs_d = rstf.compute_sensor_probs(rst.cudaf,\n",
    "                  rst_voxels_d, rst.npmts, pmts_per_voxel,\n",
    "                  voxels_per_pmt, rst.pmt_dist, rst.xs_pmts_d,\n",
    "                  rst.ys_pmts_d, rst.pmt_param,\n",
    "                  slices_start_nc_d, voxels_data_d,\n",
    "                  rst.xsize, rst.ysize,\n",
    "                  pmt_probs_d.sensor_start)\n",
    "\n",
    "sipm_denoms   = pycuda.gpuarray.zeros(int(nsipms * voxels_data_d.nslices), np.dtype('f4'))\n",
    "sipm_denoms_d = sipm_denoms.gpudata\n",
    "\n",
    "block_sipm = 1024\n",
    "grid_sipm  = math.ceil(sipm_sns_probs_d.nsensors / block_sipm)\n",
    "\n",
    "cuda_forward_denom = rst.cudaf.get_function('forward_denom')\n",
    "\n",
    "cuda_forward_denom(sipm_denoms_d, sipm_sns_probs_d.sensor_start,\n",
    "                    sipm_sns_probs_d.sensor_start_ids, sipm_sns_probs_d.probs,\n",
    "                    sipm_sns_probs_d.voxel_ids, rst_voxels_d.voxels, \n",
    "                    sipm_sns_probs_d.nsensors,\n",
    "                    block=(block_sipm, 1, 1), grid=(grid_sipm, 1))\n",
    "\n",
    "sipm_denoms_h = cuda.from_device(sipm_denoms_d, (rst.nsipms * nslices,), np.dtype('f4'))\n",
    "\n",
    "voxels_h = rstf.compute_mlem(rst.cudaf, rst_voxels_d, voxels_data_d.nslices,\n",
    "          rst.npmts,  pmt_probs_d,  pmt_sns_probs_d,\n",
    "          rst.nsipms, sipm_probs_d, sipm_sns_probs_d)"
   ]
  },
  {
   "cell_type": "code",
   "execution_count": 48,
   "metadata": {},
   "outputs": [
    {
     "ename": "SyntaxError",
     "evalue": "invalid syntax (<ipython-input-48-1f396c4bc9e1>, line 1)",
     "output_type": "error",
     "traceback": [
      "\u001b[0;36m  File \u001b[0;32m\"<ipython-input-48-1f396c4bc9e1>\"\u001b[0;36m, line \u001b[0;32m1\u001b[0m\n\u001b[0;31m    'ResetVoxels'    , 'nslices nvoxels voxels slice_ids slice_start address'),\u001b[0m\n\u001b[0m                                                                             ^\u001b[0m\n\u001b[0;31mSyntaxError\u001b[0m\u001b[0;31m:\u001b[0m invalid syntax\n"
     ]
    }
   ],
   "source": [
    "'ResetVoxels'    , 'nslices nvoxels voxels slice_ids slice_start address'),"
   ]
  },
  {
   "cell_type": "code",
   "execution_count": 49,
   "metadata": {
    "collapsed": true
   },
   "outputs": [],
   "source": [
    "from invisible_cities.evm.ic_containers import ResetVoxels"
   ]
  },
  {
   "cell_type": "code",
   "execution_count": 51,
   "metadata": {},
   "outputs": [
    {
     "data": {
      "text/plain": [
       "ResetVoxels(nslices=6, nvoxels=1717, voxels=array([(115., 25.,  6.3964443), (115., 35.,  6.3964443),\n",
       "       (115., 45.,  6.3964443), ..., (195.,  5., 10.671945 ),\n",
       "       (195., 15., 10.671945 ), (195., 25., 10.671945 )],\n",
       "      dtype=[('x', '<f4'), ('y', '<f4'), ('E', '<f4')]), slice_ids=array([0, 0, 0, ..., 5, 5, 5], dtype=int32), slice_start=array([   0,   67,  173,  470,  872, 1404, 1717], dtype=int32), address=array([   0,    1,    2, ..., 1717, 1717, 1717]))"
      ]
     },
     "execution_count": 51,
     "metadata": {},
     "output_type": "execute_result"
    }
   ],
   "source": [
    "ResetVoxels(rst_voxels.nslices,\n",
    "            rst_voxels.nvoxels,\n",
    "            rst_voxels.voxels.copy(),\n",
    "            rst_voxels.slice_ids,\n",
    "            rst_voxels.slice_start,\n",
    "            rst_voxels.address)"
   ]
  },
  {
   "cell_type": "code",
   "execution_count": null,
   "metadata": {
    "collapsed": true
   },
   "outputs": [],
   "source": []
  }
 ],
 "metadata": {
  "kernelspec": {
   "display_name": "Python 3",
   "language": "python",
   "name": "python3"
  },
  "language_info": {
   "codemirror_mode": {
    "name": "ipython",
    "version": 3
   },
   "file_extension": ".py",
   "mimetype": "text/x-python",
   "name": "python",
   "nbconvert_exporter": "python",
   "pygments_lexer": "ipython3",
   "version": "3.6.2"
  }
 },
 "nbformat": 4,
 "nbformat_minor": 2
}
