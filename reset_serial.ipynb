{
 "cells": [
  {
   "cell_type": "code",
   "execution_count": 1,
   "metadata": {},
   "outputs": [],
   "source": [
    "import invisible_cities.reset.utils as rst_util\n",
    "import numpy as np\n",
    "from invisible_cities.core.system_of_units import pes, mm, mus, ns\n",
    "import invisible_cities.reco.corrections    as corrf\n",
    "import invisible_cities.database.load_db as dbf \n",
    "import reset_functions_event as rstf\n",
    "\n",
    "# Initialize RESET\n",
    "iterations = 100\n",
    "pitch      = 10\n",
    "run_number = 4495\n",
    "nsipms     = 1792\n",
    "npmts      = 1 \n",
    "dist       = 20. \n",
    "sipm_dist  = 20. \n",
    "pmt_dist   = 200 # max distance included in the param file\n",
    "sipm_thr   = 5.\n",
    "#x_size     = 2.\n",
    "#y_size     = 2.\n",
    "\n",
    "x_size     = 10.\n",
    "y_size     = 10.\n",
    "\n",
    "rmax       = 198 #\n",
    "slice_width = 2.\n",
    "pmt_param  = \"/home/jmbenlloch/reset_data/mapas/PMT_Map_corr_keV.h5\"\n",
    "sipm_param = \"/home/jmbenlloch/reset_data/mapas/SiPM_Map_corr_z0.0_keV.h5\"\n",
    "\n",
    "pmap_file = '4495_21215.h5'\n",
    "\n",
    "pmap_conf = {}\n",
    "pmap_conf['s1_emin'] = 54 * pes \n",
    "pmap_conf['s1_emax'] = 2400. * pes \n",
    "pmap_conf['s1_wmin'] = 7*25 * ns\n",
    "pmap_conf['s1_wmax'] = 16*25 * ns\n",
    "pmap_conf['s1_hmin'] = 12. * pes \n",
    "pmap_conf['s1_hmax'] = 400. * pes \n",
    "pmap_conf['s1_num'] = 1 \n",
    "pmap_conf['s1_ethr'] = 0.5 * pes \n",
    "\n",
    "pmap_conf['s2_emin'] = 200000. * pes \n",
    "pmap_conf['s2_emax'] = 2.e6 * pes \n",
    "pmap_conf['s2_wmin'] = 4.* mus \n",
    "pmap_conf['s2_wmax'] = 500. * mus \n",
    "pmap_conf['s2_hmin'] = 600. * pes \n",
    "pmap_conf['s2_hmax'] = 60000. * pes \n",
    "pmap_conf['s2_numMin'] = 1 \n",
    "pmap_conf['s2_numMax'] = 3 \n",
    "pmap_conf['s2_ethr'] = 0. * pes \n",
    "pmap_conf['s2_nsipmmin'] = 1 \n",
    "pmap_conf['s2_nsipmmax'] = 1792\n",
    "\n",
    "# Read file and select peaks\n",
    "selector = rst_util.refresh_selector(pmap_conf)\n",
    "s1s, s2s, s2sis, peaks = rst_util.load_and_select_peaks(pmap_file, 21215, selector)\n",
    "\n",
    "# Lifetime correction\n",
    "ZCorr = corrf.LifetimeCorrection(1093.77, 23.99)\n",
    "\n",
    "# Sensors info\n",
    "data_sipm = dbf.DataSiPM(run_number)\n",
    "\n",
    "# Take the first peak\n",
    "peak = next(iter(peaks))\n",
    "evt = 21215\n",
    "sipm_thr = sipm_thr\n",
    "\n",
    "# Prepare data\n",
    "voxels_data, slices, energies, zs = rst_util.prepare_data(s1s, s2s, s2sis, slice_width, evt, peak, data_sipm, nsipms, sipm_thr, dist, ZCorr)\n",
    "slices_start = rst_util.slices_start(voxels_data, x_size, y_size)"
   ]
  },
  {
   "cell_type": "code",
   "execution_count": 2,
   "metadata": {
    "collapsed": true
   },
   "outputs": [],
   "source": [
    "import invisible_cities.reset.reset_serial as rst_serial"
   ]
  },
  {
   "cell_type": "markdown",
   "metadata": {},
   "source": [
    "# Create voxels"
   ]
  },
  {
   "cell_type": "code",
   "execution_count": 3,
   "metadata": {
    "collapsed": true
   },
   "outputs": [],
   "source": [
    "rst_voxels = rst_serial.create_voxels(voxels_data, slices_start, x_size, y_size, rmax)"
   ]
  },
  {
   "cell_type": "code",
   "execution_count": 4,
   "metadata": {},
   "outputs": [
    {
     "data": {
      "text/plain": [
       "ResetVoxels(nslices=6, nvoxels=1717, voxels=array([(115., 25.,  6.3964443), (115., 35.,  6.3964443),\n",
       "       (115., 45.,  6.3964443), ..., (195.,  5., 10.671945 ),\n",
       "       (195., 15., 10.671945 ), (195., 25., 10.671945 )],\n",
       "      dtype=[('x', '<f4'), ('y', '<f4'), ('E', '<f4')]), slice_ids=array([0, 0, 0, ..., 5, 5, 5], dtype=int32), slice_start=array([   0,   67,  173,  470,  872, 1404, 1717], dtype=int32), address=array([   0,    1,    2, ..., 1717, 1717, 1717]))"
      ]
     },
     "execution_count": 4,
     "metadata": {},
     "output_type": "execute_result"
    }
   ],
   "source": [
    "rst_voxels"
   ]
  },
  {
   "cell_type": "markdown",
   "metadata": {},
   "source": [
    "# Anode response"
   ]
  },
  {
   "cell_type": "code",
   "execution_count": 5,
   "metadata": {
    "collapsed": true
   },
   "outputs": [],
   "source": [
    "nslices = voxels_data.xmin.shape[0]\n",
    "anode_response = rst_serial.create_anode_response(slices)"
   ]
  },
  {
   "cell_type": "markdown",
   "metadata": {},
   "source": [
    "# Create cathode response"
   ]
  },
  {
   "cell_type": "code",
   "execution_count": 6,
   "metadata": {},
   "outputs": [],
   "source": [
    "cath_response = energies"
   ]
  },
  {
   "cell_type": "markdown",
   "metadata": {},
   "source": [
    "# Compute probs"
   ]
  },
  {
   "cell_type": "code",
   "execution_count": 7,
   "metadata": {
    "collapsed": true
   },
   "outputs": [],
   "source": [
    "import math"
   ]
  },
  {
   "cell_type": "code",
   "execution_count": 8,
   "metadata": {},
   "outputs": [],
   "source": [
    "sipm_param_file  = \"/home/jmbenlloch/reset_data/mapas/SiPM_Map_corr_z0.0_keV.h5\"\n",
    "sipm_params = rst_util.read_corrections_file(sipm_param_file, 'SiPM')\n",
    "\n",
    "sipms_per_voxel = int(math.floor(2 * sipm_dist / pitch) + 1)**2\n",
    "voxels_per_sipm = int((2 * sipm_dist)**2 / (x_size * y_size))\n",
    "xs = data_sipm.X\n",
    "ys = data_sipm.Y"
   ]
  },
  {
   "cell_type": "code",
   "execution_count": 9,
   "metadata": {},
   "outputs": [],
   "source": [
    "sipm_probs = rst_serial.compute_probabilities_cuda(rst_voxels, xs, ys, nsipms, sipms_per_voxel, sipm_dist, sipm_params, anode_response)"
   ]
  },
  {
   "cell_type": "code",
   "execution_count": 10,
   "metadata": {},
   "outputs": [
    {
     "data": {
      "text/plain": [
       "42853"
      ]
     },
     "execution_count": 10,
     "metadata": {},
     "output_type": "execute_result"
    }
   ],
   "source": [
    "sipm_probs.nprobs"
   ]
  },
  {
   "cell_type": "markdown",
   "metadata": {},
   "source": [
    "### PMTs"
   ]
  },
  {
   "cell_type": "code",
   "execution_count": 11,
   "metadata": {},
   "outputs": [],
   "source": [
    "pmt_param_file = \"/home/jmbenlloch/reset_data/mapas/PMT_Map_corr_keV.h5\"\n",
    "pmt_params = rst_util.read_corrections_file(pmt_param_file, 'PMT')\n",
    "\n",
    "pmts_per_voxel = npmts\n",
    "voxels_per_pmt = int((2 * pmt_dist)**2 / (x_size * y_size))\n",
    "\n",
    "xs_pmts = np.array([0.], dtype='f4')\n",
    "ys_pmts = np.array([0.], dtype='f4')"
   ]
  },
  {
   "cell_type": "code",
   "execution_count": 12,
   "metadata": {
    "collapsed": true
   },
   "outputs": [],
   "source": [
    "pmt_probs = rst_serial.compute_probabilities_cuda(rst_voxels, xs_pmts, ys_pmts, npmts, pmts_per_voxel, pmt_dist, pmt_params, cath_response)"
   ]
  },
  {
   "cell_type": "markdown",
   "metadata": {},
   "source": [
    "# Sensor probs"
   ]
  },
  {
   "cell_type": "code",
   "execution_count": 13,
   "metadata": {
    "collapsed": true
   },
   "outputs": [],
   "source": [
    "sipm_sns_probs = rst_serial.compute_sensor_probs(sipm_probs, nslices, nsipms, rst_voxels.slice_ids)\n",
    "pmt_sns_probs = rst_serial.compute_sensor_probs(pmt_probs, nslices, npmts, rst_voxels.slice_ids)"
   ]
  },
  {
   "cell_type": "markdown",
   "metadata": {},
   "source": [
    "# Forward denom"
   ]
  },
  {
   "cell_type": "code",
   "execution_count": 14,
   "metadata": {},
   "outputs": [],
   "source": [
    "sipm_fwd_denom = rst_serial.forward_denoms(nsipms, nslices, rst_voxels.voxels, sipm_sns_probs)\n",
    "pmt_fwd_denom = rst_serial.forward_denoms(npmts, nslices, rst_voxels.voxels, pmt_sns_probs)"
   ]
  },
  {
   "cell_type": "markdown",
   "metadata": {},
   "source": [
    "# MLEM step"
   ]
  },
  {
   "cell_type": "code",
   "execution_count": 15,
   "metadata": {},
   "outputs": [],
   "source": [
    "rst_serial.compute_mlem(iterations, rst_voxels, nsipms, sipm_probs, sipm_sns_probs, npmts, pmt_probs, pmt_sns_probs)"
   ]
  },
  {
   "cell_type": "code",
   "execution_count": 16,
   "metadata": {},
   "outputs": [
    {
     "data": {
      "text/plain": [
       "ResetVoxels(nslices=6, nvoxels=1717, voxels=array([(115., 25., 1.1578470e-05), (115., 35., 6.0620841e-02),\n",
       "       (115., 45., 2.5277985e-05), ..., (195.,  5., 2.4371329e-04),\n",
       "       (195., 15., 2.5492685e-04), (195., 25., 2.0281288e-04)],\n",
       "      dtype=[('x', '<f4'), ('y', '<f4'), ('E', '<f4')]), slice_ids=array([0, 0, 0, ..., 5, 5, 5], dtype=int32), slice_start=array([   0,   67,  173,  470,  872, 1404, 1717], dtype=int32), address=array([   0,    1,    2, ..., 1717, 1717, 1717]))"
      ]
     },
     "execution_count": 16,
     "metadata": {},
     "output_type": "execute_result"
    }
   ],
   "source": [
    "rst_voxels"
   ]
  },
  {
   "cell_type": "markdown",
   "metadata": {},
   "source": [
    "# RESET serial"
   ]
  },
  {
   "cell_type": "code",
   "execution_count": 17,
   "metadata": {},
   "outputs": [],
   "source": [
    "rst_voxels = rst_serial.create_voxels(voxels_data, slices_start, x_size, y_size, rmax)\n",
    "anode_response = rst_serial.create_anode_response(slices)\n",
    "cath_response = energies\n",
    "\n",
    "sipm_param_file  = \"/home/jmbenlloch/reset_data/mapas/SiPM_Map_corr_z0.0_keV.h5\"\n",
    "sipm_params = rst_util.read_corrections_file(sipm_param_file, 'SiPM')\n",
    "\n",
    "sipms_per_voxel = int(math.floor(2 * sipm_dist / pitch) + 1)**2\n",
    "voxels_per_sipm = int((2 * sipm_dist)**2 / (x_size * y_size))\n",
    "xs = data_sipm.X\n",
    "ys = data_sipm.Y\n",
    "\n",
    "sipm_probs = rst_serial.compute_probabilities_cuda(rst_voxels, xs, ys, nsipms, sipms_per_voxel, sipm_dist, sipm_params, anode_response)\n",
    "\n",
    "pmt_param_file = \"/home/jmbenlloch/reset_data/mapas/PMT_Map_corr_keV.h5\"\n",
    "pmt_params = rst_util.read_corrections_file(pmt_param_file, 'PMT')\n",
    "\n",
    "pmts_per_voxel = npmts\n",
    "voxels_per_pmt = int((2 * pmt_dist)**2 / (x_size * y_size))\n",
    "\n",
    "xs_pmts = np.array([0.], dtype='f4')\n",
    "ys_pmts = np.array([0.], dtype='f4')\n",
    "\n",
    "pmt_probs = rst_serial.compute_probabilities_cuda(rst_voxels, xs_pmts, ys_pmts, npmts, pmts_per_voxel, pmt_dist, pmt_params, cath_response)\n",
    "\n",
    "sipm_sns_probs = rst_serial.compute_sensor_probs(sipm_probs, nslices, nsipms, rst_voxels.slice_ids)\n",
    "pmt_sns_probs = rst_serial.compute_sensor_probs(pmt_probs, nslices, npmts, rst_voxels.slice_ids)\n",
    "\n",
    "sipm_fwd_denom = rst_serial.forward_denoms(nsipms, nslices, rst_voxels.voxels, sipm_sns_probs)\n",
    "pmt_fwd_denom = rst_serial.forward_denoms(npmts, nslices, rst_voxels.voxels, pmt_sns_probs)\n",
    "\n",
    "rst_serial.compute_mlem(iterations, rst_voxels, nsipms, sipm_probs, sipm_sns_probs, npmts, pmt_probs, pmt_sns_probs)"
   ]
  },
  {
   "cell_type": "code",
   "execution_count": 18,
   "metadata": {},
   "outputs": [
    {
     "data": {
      "text/plain": [
       "array([   0,   81,  201,  592, 1078, 1702, 2070], dtype=int32)"
      ]
     },
     "execution_count": 18,
     "metadata": {},
     "output_type": "execute_result"
    }
   ],
   "source": [
    "slices_start"
   ]
  },
  {
   "cell_type": "code",
   "execution_count": 19,
   "metadata": {},
   "outputs": [
    {
     "data": {
      "text/plain": [
       "ResetSlices(nslices=6, nsensors=1792, ncharges=591, start=array([  0,  26,  92, 195, 326, 456, 591], dtype=int32), sensors=array([1023, 1601, 1609, 1687, 1403, 1376, 1379, 1384, 1385, 1386, 1387,\n",
       "       1392, 1393, 1394, 1395, 1396, 1397, 1400, 1401, 1402, 1431, 1454,\n",
       "       1455, 1462, 1471, 1125, 1062,  552, 1600, 1601, 1602, 1291, 1604,\n",
       "       1608, 1609, 1610, 1100, 1617, 1621, 1624, 1626, 1603, 1136, 1669,\n",
       "       1670, 1671, 1679, 1687, 1403, 1293, 1312, 1321, 1355, 1360,  568,\n",
       "       1376, 1377, 1378, 1379, 1384, 1385, 1386, 1387, 1388, 1392, 1393,\n",
       "       1394, 1395, 1396, 1397, 1398, 1400, 1401, 1402,  379, 1411, 1431,\n",
       "       1438, 1447, 1454, 1455, 1460, 1461, 1462, 1463, 1468, 1470, 1471,\n",
       "       1612, 1487, 1361, 1019, 1062, 1073, 1077, 1084, 1086, 1600, 1601,\n",
       "       1602, 1604, 1605, 1608, 1609, 1610, 1611, 1613, 1617, 1619, 1624,\n",
       "       1625, 1626, 1115, 1603, 1126, 1127, 1131, 1669, 1670, 1671, 1676,\n",
       "       1677, 1678, 1695, 1627, 1403, 1151, 1305,  290, 1347, 1352, 1353,\n",
       "       1360, 1362,  340, 1365, 1368, 1369, 1370, 1371, 1372, 1376, 1377,\n",
       "       1378, 1379, 1380, 1381, 1384, 1385, 1386, 1387, 1388, 1389, 1392,\n",
       "       1393, 1394, 1395, 1396, 1398, 1400, 1401, 1402, 1404, 1414, 1415,\n",
       "       1418, 1419, 1422, 1431, 1436, 1437, 1438, 1439, 1445, 1446, 1447,\n",
       "       1452, 1453, 1454, 1455, 1460, 1461, 1462, 1463, 1467, 1470, 1471,\n",
       "       1612, 1487,  980, 1003, 1005, 1364, 1020, 1125, 1025, 1042, 1053,\n",
       "       1057, 1059, 1060, 1063, 1065, 1069, 1070, 1072, 1073, 1074, 1083,\n",
       "       1084, 1600, 1601, 1602, 1291, 1604, 1607, 1608, 1609, 1610, 1611,\n",
       "       1100, 1613, 1617, 1618, 1619, 1621, 1622, 1624, 1625, 1626, 1603,\n",
       "       1634, 1142,  642, 1670, 1671, 1675, 1676, 1678, 1666, 1685, 1687,\n",
       "       1688, 1375, 1693, 1694,  688, 1205,  190, 1743, 1456, 1627, 1403,\n",
       "        267, 1296, 1306, 1328, 1329, 1336, 1346, 1347, 1352, 1357, 1360,\n",
       "       1362, 1363, 1366, 1368, 1369, 1371, 1372, 1376, 1377, 1378, 1379,\n",
       "       1380, 1381, 1383, 1384, 1385, 1386, 1387, 1388, 1389, 1391, 1392,\n",
       "       1393, 1394, 1395, 1396, 1397, 1400, 1401, 1402, 1404, 1405, 1406,\n",
       "       1407, 1413, 1419, 1421, 1422, 1428, 1431, 1438, 1439, 1446, 1447,\n",
       "       1451, 1452, 1453, 1454, 1455, 1458, 1461, 1462, 1463, 1467, 1470,\n",
       "       1471, 1612, 1493, 1361, 1003, 1009, 1364, 1025, 1620, 1048, 1053,\n",
       "       1069, 1072, 1073, 1074, 1078, 1081, 1083, 1084, 1600, 1601, 1602,\n",
       "       1604, 1605, 1606, 1608, 1609, 1610, 1611, 1613, 1616, 1617, 1618,\n",
       "       1619, 1621, 1625, 1626, 1603, 1133, 1140, 1142, 1669, 1670, 1671,\n",
       "       1677, 1678, 1679, 1666, 1684, 1685, 1687, 1375, 1693, 1694, 1695,\n",
       "        688,  190, 1627, 1403, 1064, 1082, 1151, 1288,  267, 1298,  307,\n",
       "       1346, 1347, 1355, 1357, 1360, 1362, 1368, 1369, 1370, 1371, 1376,\n",
       "       1377, 1378, 1379, 1380, 1381, 1383, 1384, 1385, 1386, 1387, 1388,\n",
       "       1389, 1391, 1392, 1393, 1394, 1395, 1396, 1397, 1400, 1401, 1402,\n",
       "        379, 1404, 1405, 1406, 1407, 1412, 1413, 1414, 1420, 1421, 1422,\n",
       "       1423, 1425, 1426, 1427, 1428, 1430, 1435, 1438, 1439, 1445, 1446,\n",
       "       1447, 1451, 1452, 1453, 1454, 1455,  944, 1460, 1461, 1462, 1463,\n",
       "       1467, 1470, 1471, 1493, 1021, 1542, 1038,  528, 1050, 1057, 1058,\n",
       "       1060, 1063, 1065, 1066, 1067, 1068, 1072, 1073, 1074, 1076, 1077,\n",
       "       1080, 1081, 1083, 1084, 1600, 1601, 1602, 1291, 1604, 1605, 1606,\n",
       "       1608, 1609, 1610, 1611, 1613, 1614, 1616, 1617, 1618, 1619, 1621,\n",
       "       1622, 1624, 1625, 1603, 1634,  613, 1126, 1134, 1135, 1143, 1669,\n",
       "       1670, 1671, 1676, 1677, 1679, 1684, 1685, 1687, 1627, 1403, 1064,\n",
       "       1082, 1151, 1289, 1292, 1296, 1305, 1312, 1344, 1346, 1350, 1353,\n",
       "       1360, 1362, 1368, 1369, 1370, 1371, 1372,  351, 1376, 1377, 1378,\n",
       "       1379, 1381, 1384, 1385, 1386, 1387, 1389, 1392, 1393, 1394, 1395,\n",
       "       1396, 1397, 1398, 1400, 1401, 1402, 1404, 1409, 1411, 1413, 1414,\n",
       "       1415, 1418, 1420, 1421, 1422, 1429, 1431,  921, 1438, 1439, 1444,\n",
       "       1446, 1447, 1451, 1454, 1455, 1460, 1461, 1462, 1463, 1468, 1470,\n",
       "       1471, 1612,  985,  992,  996, 1361, 1014, 1016], dtype=int32), charges=array([  2.6653137,   3.7328777,   5.282883 ,   2.3135102,   4.4102783,\n",
       "         2.2072031,   3.9858468,  14.725114 ,  18.304884 ,   6.2683735,\n",
       "         2.9607325,  14.598428 ,  23.50427  ,   6.8357563,   3.9263585,\n",
       "         7.6533566,   2.09605  ,   3.6705923,   9.9926   ,  10.944299 ,\n",
       "         2.8367057,   2.8911982,   2.5777297,   2.8289874,   2.8307104,\n",
       "         2.263494 ,   2.5641499,   3.1223128,  19.758175 ,  16.919207 ,\n",
       "        13.799052 ,   2.4258544,   2.1307824,   5.981273 ,   2.6010368,\n",
       "        11.047932 ,   2.48393  ,   3.1651592,   3.266018 ,   3.2008946,\n",
       "         2.9318728,   2.3731422,   2.2790155,   2.9485884,   5.6104593,\n",
       "         4.425633 ,   4.031501 ,   2.8776848,  15.669645 ,   2.2842913,\n",
       "         2.7051005,   4.123218 ,   3.3564582,   2.3812423,   3.4970913,\n",
       "        16.162834 ,  18.371347 ,  10.56705  ,   5.4897385,  37.83221  ,\n",
       "        45.16085  ,  20.126541 ,  12.416029 ,   5.6367292,  51.35043  ,\n",
       "        67.419174 ,  37.87099  ,  19.02194  ,   3.185776 ,   2.3886359,\n",
       "         2.749464 ,  28.75558  ,  39.185226 ,  32.729973 ,   2.458676 ,\n",
       "         2.4603336,   3.8335013,   4.0187206,  11.432671 ,   4.5249457,\n",
       "        11.103535 ,   3.2444572,   8.287714 ,   4.465271 ,   9.331519 ,\n",
       "         2.9504995,  10.881399 ,  10.60484  ,   5.5821123,   2.446192 ,\n",
       "         2.4506278,   2.478621 ,   4.6534843,   2.056942 ,   2.2706406,\n",
       "         2.0524027,   2.3129864,  36.567947 ,  37.807465 ,  42.178265 ,\n",
       "         9.332851 ,   2.8126225,  19.400667 ,  10.072266 ,  14.795844 ,\n",
       "        12.872693 ,   5.438328 ,   8.041499 ,   2.3756711,   2.3731084,\n",
       "         2.699851 ,   2.278454 ,   2.663993 ,  16.160719 ,   2.4770281,\n",
       "         2.906649 ,   4.1085835,   4.232404 ,   4.17917  ,  10.924905 ,\n",
       "         2.6394966,   2.6110566,   5.0090046,   5.027575 ,   2.2619965,\n",
       "        36.329025 ,   5.6483955,   6.154717 ,   2.5966165,   4.574621 ,\n",
       "         2.909068 ,   2.4200695,   5.1476917,   9.068564 ,   3.986371 ,\n",
       "         3.5734048,   7.634684 ,   3.6951997,   6.144955 ,   3.4658608,\n",
       "         2.1391315,  23.389746 ,  27.910671 ,  16.105885 ,   3.532314 ,\n",
       "         8.6336155,   5.169923 ,  55.19614  ,  48.916405 ,  40.37598  ,\n",
       "        12.343237 ,   7.682486 ,   2.9658818,  67.318855 ,  91.72938  ,\n",
       "        68.441956 ,  26.446445 ,   8.980769 ,   5.6070957,  50.690735 ,\n",
       "        84.0018   ,  76.305954 ,   5.028743 ,   2.2625148,   2.827561 ,\n",
       "         2.976967 ,   4.7942605,   3.8950307,   2.93761  ,   6.1853037,\n",
       "         4.768774 ,   3.4645722,   7.7875   ,   8.12872  ,   8.400913 ,\n",
       "         9.84755  ,   3.8014917,   3.0930924,  13.2351055,  26.240442 ,\n",
       "         5.232171 ,   7.5213118,   7.505235 ,  28.570944 ,   2.5648062,\n",
       "        16.361828 ,  26.708824 ,  13.202708 ,   6.5741186,   3.7816565,\n",
       "         4.23568  ,   2.375873 ,   2.2982478,   2.6267598,   2.7097208,\n",
       "         2.283484 ,   2.5994337,   2.8716636,   3.1485565,   2.1916502,\n",
       "         2.5684867,   2.7046154,   2.4184465,   2.6164985,   3.3254359,\n",
       "         2.6746852,   5.686956 ,   5.685661 ,   5.5363903,   2.7143407,\n",
       "        45.59102  ,  74.620804 ,  54.035816 ,   2.899636 ,  12.825709 ,\n",
       "         3.3220673,  21.729322 ,  23.739023 ,  19.377209 ,  19.079868 ,\n",
       "         2.4106803,   3.601897 ,  16.569744 ,  10.47858  ,   4.0563684,\n",
       "         4.3501444,   2.5673134,   9.673128 ,   5.2273884,   2.5654771,\n",
       "        21.384216 ,   6.843315 ,   2.846184 ,   3.0870345,   2.4537845,\n",
       "        13.755631 ,   2.5082488,   2.7408164,   5.3404293,   5.523926 ,\n",
       "        11.867927 ,   2.7009573,   3.03452  ,   5.328567 ,   2.6734748,\n",
       "         3.521766 ,   7.0033436,   3.1964464,   3.0013714,   3.3654728,\n",
       "         3.0388608,   8.265227 ,  31.759598 ,   3.0100536,   3.5270584,\n",
       "         3.43987  ,   2.4126089,   2.5024955,   2.942475 ,   2.454219 ,\n",
       "         3.4124691,   5.7372017,   2.7906153,   3.6396458,   2.3270705,\n",
       "         3.0736072,   3.5362659,   7.454413 ,   3.5030928,   7.119403 ,\n",
       "         6.683804 ,  31.170656 ,  31.362858 ,  23.539396 ,  10.925842 ,\n",
       "         3.079883 ,   2.6069417,   3.7592194,  60.393143 ,  51.233067 ,\n",
       "        42.324837 ,  22.89189  ,  19.412672 ,   8.364225 ,   5.000722 ,\n",
       "        93.26187  , 106.41705  ,  84.08695  ,  41.752697 ,  17.268831 ,\n",
       "         5.2775154,  53.534924 ,  92.35788  ,  81.58001  ,  12.716327 ,\n",
       "         4.0590386,   6.3136816,   2.5394177,   3.2753596,   5.567059 ,\n",
       "         2.7044308,   2.9561129,   5.225498 ,   2.2193382,   3.8459342,\n",
       "         6.5439563,   7.314319 ,  18.983149 ,   7.6942453,   3.338125 ,\n",
       "         2.7280948,  11.897498 ,  24.627485 ,   3.2104027,   7.3610773,\n",
       "         8.578117 ,  30.382807 ,   2.8430016,   3.5598633,  24.03968  ,\n",
       "         5.6955433,   2.4259846,   7.919419 ,   2.6025248,   2.6915445,\n",
       "         2.5765774,   2.760741 ,   3.2446365,   2.6107996,   3.217514 ,\n",
       "         2.8801754,   6.58887  ,  12.938705 ,   7.7588725,   2.3381727,\n",
       "        14.088892 ,  10.518564 ,   6.098003 ,  40.58694  ,  61.36335  ,\n",
       "        60.130844 ,   9.272933 ,   8.206244 ,   4.753392 ,  24.709694 ,\n",
       "        20.401112 ,  17.313868 ,  21.056482 ,   3.5159247,  16.38028  ,\n",
       "        12.021286 ,   7.408145 ,   3.975402 ,   4.553401 ,   7.8836336,\n",
       "         7.3128543,  19.5312   ,   2.7445514,   2.6884246,   3.2067678,\n",
       "         5.432314 ,   4.7732177,  15.845783 ,   3.5738537,   2.4790804,\n",
       "         7.222911 ,   2.6761127,   2.7186208,   5.201297 ,   3.1749341,\n",
       "         4.1862054,   2.9384286,   5.794561 ,   2.5687351,   5.160255 ,\n",
       "         2.7439463,   9.869763 ,  30.463108 ,   2.8017344,   3.9516344,\n",
       "         4.495104 ,   5.9429398,   2.8348954,   2.3934777,   2.4178054,\n",
       "         8.679004 ,   3.3209922,   3.1016922,   2.604794 ,   5.1665516,\n",
       "         2.5162933,   4.950276 ,   6.6205406,   4.656408 ,   4.88108  ,\n",
       "        20.480247 ,  20.808859 ,  18.136656 ,   7.3726087,   3.2702758,\n",
       "         2.611713 ,   6.739948 ,  38.7829   ,  53.55805  ,  30.380579 ,\n",
       "        14.497525 ,   6.6170974,  10.3390255,   2.803406 ,  49.94591  ,\n",
       "        68.073395 ,  55.945175 ,  36.764004 ,  12.738061 ,   4.5297217,\n",
       "        49.631603 ,  82.971855 ,  65.36269  ,   3.3291013,  12.928548 ,\n",
       "         9.876959 ,   2.523344 ,   3.5773983,   2.2403533,   9.857894 ,\n",
       "         4.766615 ,   2.542903 ,   6.3709073,   5.5205245,   2.5266578,\n",
       "         2.5783765,   2.1484413,   2.6284747,   3.2154455,   2.537771 ,\n",
       "         3.7573655,   9.96019  ,  11.236299 ,   4.426726 ,   6.867712 ,\n",
       "         9.525423 ,   2.9554706,   4.09813  ,   5.2396135,   8.372032 ,\n",
       "        28.97944  ,   4.835045 ,   2.8834398,   5.4570446,   9.076128 ,\n",
       "        15.650552 ,   7.7057576,   4.3095   ,  25.347929 ,   7.3488464,\n",
       "         3.6166708,   3.171726 ,   5.163636 ,   4.283868 ,   2.3400967,\n",
       "         4.7090726,   7.630843 ,   3.2045453,   2.800286 ,  11.788735 ,\n",
       "        15.215479 ,   2.8118167,   3.0002031,  22.352417 ,  28.612385 ,\n",
       "        14.545001 ,   4.8092694,   6.043597 ,  14.065626 ,  24.240656 ,\n",
       "         3.6648116,   4.611694 ,  26.760775 ,  44.413677 ,  32.684483 ,\n",
       "         3.1902177,   8.158496 ,   2.6307805,   2.5856764,  10.669433 ,\n",
       "        35.545082 ,  26.578915 ,  23.96658  ,   7.230187 ,   6.049643 ,\n",
       "         7.9836435,  16.270676 ,   9.110031 ,   2.7429476,   4.366082 ,\n",
       "         2.7578278,  13.713447 ,   5.886563 ,  13.311406 ,   2.400317 ,\n",
       "         3.0406716,   2.3062768,   3.1617897,   7.2855964,   4.7579308,\n",
       "         2.6735911,   3.2358341,  11.549205 ,   2.557173 ,   4.0578823,\n",
       "         6.761463 ,   2.7235966,   2.8830419,   3.8385935,   2.7427678,\n",
       "        20.340641 ,   6.773649 ,  33.88981  ,   3.146252 ,   2.6249676,\n",
       "         3.1371994,   2.7162824,   3.420953 ,   2.3520725,   4.789815 ,\n",
       "         4.253232 ,   3.1763554,   3.3083842,   5.155805 ,   3.5400612,\n",
       "         8.553982 ,  12.920011 ,   7.0128727,   6.882033 ,   5.2052965,\n",
       "         4.0881553,  22.018068 ,  17.043255 ,   7.728597 ,   3.269131 ,\n",
       "         2.3398643,  34.390186 ,  36.55119  ,  16.13426  ,  10.106123 ,\n",
       "         3.6365554,  42.80758  ,  41.701645 ,  18.412207 ,   8.040353 ,\n",
       "         9.962971 ,  11.595473 ,   3.5587914,  42.061516 ,  56.607746 ,\n",
       "        36.718033 ,   6.7055283,   2.540759 ,   7.698933 ,  15.783375 ,\n",
       "         9.583759 ,  13.051926 ,   3.1715996,   7.093721 ,   3.000506 ,\n",
       "         8.782426 ,   2.923053 ,   2.4090443,   2.5275807,  10.166616 ,\n",
       "        13.420986 ,   5.1458426,   3.3479736,  34.752907 ,   6.2060766,\n",
       "         9.480811 ,  32.17049  ,   4.3120575,   8.261235 ,  13.731399 ,\n",
       "        27.256424 ,   3.0676088,   3.2937255,  19.54864  ,   4.6312857,\n",
       "         2.49374  ,   2.6715086,   2.8708653,   9.9025135,   2.592713 ,\n",
       "         2.4954197], dtype=float32))"
      ]
     },
     "execution_count": 19,
     "metadata": {},
     "output_type": "execute_result"
    }
   ],
   "source": [
    "slices"
   ]
  },
  {
   "cell_type": "code",
   "execution_count": null,
   "metadata": {
    "collapsed": true
   },
   "outputs": [],
   "source": []
  }
 ],
 "metadata": {
  "kernelspec": {
   "display_name": "Python 3",
   "language": "python",
   "name": "python3"
  },
  "language_info": {
   "codemirror_mode": {
    "name": "ipython",
    "version": 3
   },
   "file_extension": ".py",
   "mimetype": "text/x-python",
   "name": "python",
   "nbconvert_exporter": "python",
   "pygments_lexer": "ipython3",
   "version": "3.6.2"
  }
 },
 "nbformat": 4,
 "nbformat_minor": 2
}
