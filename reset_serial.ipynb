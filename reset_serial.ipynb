{
 "cells": [
  {
   "cell_type": "code",
   "execution_count": 1,
   "metadata": {},
   "outputs": [],
   "source": [
    "import invisible_cities.reset.utils as rst_util\n",
    "import numpy as np\n",
    "from invisible_cities.core.system_of_units import pes, mm, mus, ns\n",
    "import invisible_cities.reco.corrections    as corrf\n",
    "import invisible_cities.database.load_db as dbf \n",
    "import reset_functions_event as rstf\n",
    "\n",
    "# Initialize RESET\n",
    "iterations = 100\n",
    "pitch      = 10\n",
    "run_number = 4495\n",
    "nsipms     = 1792\n",
    "npmts      = 1 \n",
    "dist       = 20. \n",
    "sipm_dist  = 20. \n",
    "pmt_dist   = 200 # max distance included in the param file\n",
    "sipm_thr   = 5.\n",
    "#x_size     = 2.\n",
    "#y_size     = 2.\n",
    "\n",
    "x_size     = 10.\n",
    "y_size     = 10.\n",
    "\n",
    "rmax       = 198 #\n",
    "slice_width = 2.\n",
    "pmt_param  = \"/home/jmbenlloch/reset_data/mapas/PMT_Map_corr_keV.h5\"\n",
    "sipm_param = \"/home/jmbenlloch/reset_data/mapas/SiPM_Map_corr_z0.0_keV.h5\"\n",
    "\n",
    "pmap_file = '4495_21215.h5'\n",
    "\n",
    "pmap_conf = {}\n",
    "pmap_conf['s1_emin'] = 54 * pes \n",
    "pmap_conf['s1_emax'] = 2400. * pes \n",
    "pmap_conf['s1_wmin'] = 7*25 * ns\n",
    "pmap_conf['s1_wmax'] = 16*25 * ns\n",
    "pmap_conf['s1_hmin'] = 12. * pes \n",
    "pmap_conf['s1_hmax'] = 400. * pes \n",
    "pmap_conf['s1_num'] = 1 \n",
    "pmap_conf['s1_ethr'] = 0.5 * pes \n",
    "\n",
    "pmap_conf['s2_emin'] = 200000. * pes \n",
    "pmap_conf['s2_emax'] = 2.e6 * pes \n",
    "pmap_conf['s2_wmin'] = 4.* mus \n",
    "pmap_conf['s2_wmax'] = 500. * mus \n",
    "pmap_conf['s2_hmin'] = 600. * pes \n",
    "pmap_conf['s2_hmax'] = 60000. * pes \n",
    "pmap_conf['s2_numMin'] = 1 \n",
    "pmap_conf['s2_numMax'] = 3 \n",
    "pmap_conf['s2_ethr'] = 0. * pes \n",
    "pmap_conf['s2_nsipmmin'] = 1 \n",
    "pmap_conf['s2_nsipmmax'] = 1792\n",
    "\n",
    "# Read file and select peaks\n",
    "selector = rst_util.refresh_selector(pmap_conf)\n",
    "s1s, s2s, s2sis, peaks = rst_util.load_and_select_peaks(pmap_file, 21215, selector)\n",
    "\n",
    "# Lifetime correction\n",
    "ZCorr = corrf.LifetimeCorrection(1093.77, 23.99)\n",
    "\n",
    "# Sensors info\n",
    "data_sipm = dbf.DataSiPM(run_number)\n",
    "\n",
    "# Take the first peak\n",
    "peak = next(iter(peaks))\n",
    "evt = 21215\n",
    "sipm_thr = sipm_thr\n",
    "\n",
    "# Prepare data\n",
    "voxels_data, slices, energies, zs = rst_util.prepare_data(s1s, s2s, s2sis, slice_width, evt, peak, data_sipm, nsipms, sipm_thr, dist, ZCorr)\n",
    "slices_start = rst_util.slices_start(voxels_data, x_size, y_size)"
   ]
  },
  {
   "cell_type": "code",
   "execution_count": 2,
   "metadata": {
    "collapsed": true
   },
   "outputs": [],
   "source": [
    "import invisible_cities.reset.reset_serial as rst_serial"
   ]
  },
  {
   "cell_type": "markdown",
   "metadata": {},
   "source": [
    "# Create voxels"
   ]
  },
  {
   "cell_type": "code",
   "execution_count": 3,
   "metadata": {
    "collapsed": true
   },
   "outputs": [],
   "source": [
    "rst_voxels = rst_serial.create_voxels(voxels_data, slices_start, x_size, y_size, rmax)"
   ]
  },
  {
   "cell_type": "code",
   "execution_count": 4,
   "metadata": {},
   "outputs": [
    {
     "data": {
      "text/plain": [
       "ResetVoxels(nslices=6, nvoxels=1717, voxels=array([(115., 25.,  6.3964443), (115., 35.,  6.3964443),\n",
       "       (115., 45.,  6.3964443), ..., (195.,  5., 10.671945 ),\n",
       "       (195., 15., 10.671945 ), (195., 25., 10.671945 )],\n",
       "      dtype=[('x', '<f4'), ('y', '<f4'), ('E', '<f4')]), slice_ids=array([0, 0, 0, ..., 5, 5, 5], dtype=int32), slice_start=array([   0,   67,  173,  470,  872, 1404, 1717], dtype=int32), address=array([   0,    1,    2, ..., 1717, 1717, 1717]))"
      ]
     },
     "execution_count": 4,
     "metadata": {},
     "output_type": "execute_result"
    }
   ],
   "source": [
    "rst_voxels"
   ]
  },
  {
   "cell_type": "markdown",
   "metadata": {},
   "source": [
    "# Anode response"
   ]
  },
  {
   "cell_type": "code",
   "execution_count": 5,
   "metadata": {
    "collapsed": true
   },
   "outputs": [],
   "source": [
    "nslices = voxels_data.xmin.shape[0]\n",
    "anode_response = rst_serial.create_anode_response(slices)"
   ]
  },
  {
   "cell_type": "markdown",
   "metadata": {},
   "source": [
    "# Create cathode response"
   ]
  },
  {
   "cell_type": "code",
   "execution_count": 6,
   "metadata": {},
   "outputs": [],
   "source": [
    "cath_response = energies"
   ]
  },
  {
   "cell_type": "markdown",
   "metadata": {},
   "source": [
    "# Compute probs"
   ]
  },
  {
   "cell_type": "code",
   "execution_count": 7,
   "metadata": {
    "collapsed": true
   },
   "outputs": [],
   "source": [
    "import math"
   ]
  },
  {
   "cell_type": "code",
   "execution_count": 8,
   "metadata": {},
   "outputs": [],
   "source": [
    "sipm_param_file  = \"/home/jmbenlloch/reset_data/mapas/SiPM_Map_corr_z0.0_keV.h5\"\n",
    "sipm_params = rst_util.read_corrections_file(sipm_param_file, 'SiPM')\n",
    "\n",
    "sipms_per_voxel = int(math.floor(2 * sipm_dist / pitch) + 1)**2\n",
    "voxels_per_sipm = int((2 * sipm_dist)**2 / (x_size * y_size))\n",
    "xs = data_sipm.X\n",
    "ys = data_sipm.Y"
   ]
  },
  {
   "cell_type": "code",
   "execution_count": 9,
   "metadata": {},
   "outputs": [],
   "source": [
    "sipm_probs = rst_serial.compute_probabilities_cuda(rst_voxels, xs, ys, nsipms, sipms_per_voxel, sipm_dist, sipm_params, anode_response)"
   ]
  },
  {
   "cell_type": "code",
   "execution_count": 10,
   "metadata": {},
   "outputs": [
    {
     "data": {
      "text/plain": [
       "42853"
      ]
     },
     "execution_count": 10,
     "metadata": {},
     "output_type": "execute_result"
    }
   ],
   "source": [
    "sipm_probs.nprobs"
   ]
  },
  {
   "cell_type": "markdown",
   "metadata": {},
   "source": [
    "### PMTs"
   ]
  },
  {
   "cell_type": "code",
   "execution_count": 11,
   "metadata": {},
   "outputs": [],
   "source": [
    "pmt_param_file = \"/home/jmbenlloch/reset_data/mapas/PMT_Map_corr_keV.h5\"\n",
    "pmt_params = rst_util.read_corrections_file(pmt_param_file, 'PMT')\n",
    "\n",
    "pmts_per_voxel = npmts\n",
    "voxels_per_pmt = int((2 * pmt_dist)**2 / (x_size * y_size))\n",
    "\n",
    "xs_pmts = np.array([0.], dtype='f4')\n",
    "ys_pmts = np.array([0.], dtype='f4')"
   ]
  },
  {
   "cell_type": "code",
   "execution_count": 12,
   "metadata": {
    "collapsed": true
   },
   "outputs": [],
   "source": [
    "pmt_probs = rst_serial.compute_probabilities_cuda(rst_voxels, xs_pmts, ys_pmts, npmts, pmts_per_voxel, pmt_dist, pmt_params, cath_response)"
   ]
  },
  {
   "cell_type": "markdown",
   "metadata": {},
   "source": [
    "# Sensor probs"
   ]
  },
  {
   "cell_type": "code",
   "execution_count": 13,
   "metadata": {
    "collapsed": true
   },
   "outputs": [],
   "source": [
    "sipm_sns_probs = rst_serial.compute_sensor_probs(sipm_probs, nslices, nsipms, rst_voxels.slice_ids)\n",
    "pmt_sns_probs = rst_serial.compute_sensor_probs(pmt_probs, nslices, npmts, rst_voxels.slice_ids)"
   ]
  },
  {
   "cell_type": "markdown",
   "metadata": {},
   "source": [
    "# Forward denom"
   ]
  },
  {
   "cell_type": "code",
   "execution_count": 14,
   "metadata": {},
   "outputs": [],
   "source": [
    "sipm_fwd_denom = rst_serial.forward_denoms(nsipms, nslices, rst_voxels.voxels, sipm_sns_probs)\n",
    "pmt_fwd_denom = rst_serial.forward_denoms(npmts, nslices, rst_voxels.voxels, pmt_sns_probs)"
   ]
  },
  {
   "cell_type": "markdown",
   "metadata": {},
   "source": [
    "# MLEM step"
   ]
  },
  {
   "cell_type": "code",
   "execution_count": 15,
   "metadata": {},
   "outputs": [],
   "source": [
    "rst_serial.compute_mlem(iterations, rst_voxels, nsipms, sipm_probs, sipm_sns_probs, npmts, pmt_probs, pmt_sns_probs)"
   ]
  },
  {
   "cell_type": "code",
   "execution_count": null,
   "metadata": {},
   "outputs": [
    {
     "data": {
      "text/plain": [
       "ResetVoxels(nslices=6, nvoxels=1717, voxels=array([(115., 25., 1.1578470e-05), (115., 35., 6.0620841e-02),\n",
       "       (115., 45., 2.5277985e-05), ..., (195.,  5., 2.4371329e-04),\n",
       "       (195., 15., 2.5492685e-04), (195., 25., 2.0281288e-04)],\n",
       "      dtype=[('x', '<f4'), ('y', '<f4'), ('E', '<f4')]), slice_ids=array([0, 0, 0, ..., 5, 5, 5], dtype=int32), slice_start=array([   0,   67,  173,  470,  872, 1404, 1717], dtype=int32), address=array([   0,    1,    2, ..., 1717, 1717, 1717]))"
      ]
     },
     "execution_count": 16,
     "metadata": {},
     "output_type": "execute_result"
    }
   ],
   "source": [
    "rst_voxels"
   ]
  },
  {
   "cell_type": "markdown",
   "metadata": {},
   "source": [
    "# RESET serial"
   ]
  },
  {
   "cell_type": "code",
   "execution_count": null,
   "metadata": {},
   "outputs": [],
   "source": [
    "rst_voxels = rst_serial.create_voxels(voxels_data, slices_start, x_size, y_size, rmax)\n",
    "anode_response = rst_serial.create_anode_response(slices)\n",
    "cath_response = energies\n",
    "\n",
    "sipm_param_file  = \"/home/jmbenlloch/reset_data/mapas/SiPM_Map_corr_z0.0_keV.h5\"\n",
    "sipm_params = rst_util.read_corrections_file(sipm_param_file, 'SiPM')\n",
    "\n",
    "sipms_per_voxel = int(math.floor(2 * sipm_dist / pitch) + 1)**2\n",
    "voxels_per_sipm = int((2 * sipm_dist)**2 / (x_size * y_size))\n",
    "xs = data_sipm.X\n",
    "ys = data_sipm.Y\n",
    "\n",
    "sipm_probs = rst_serial.compute_probabilities_cuda(rst_voxels, xs, ys, nsipms, sipms_per_voxel, sipm_dist, sipm_params, anode_response)\n",
    "\n",
    "pmt_param_file = \"/home/jmbenlloch/reset_data/mapas/PMT_Map_corr_keV.h5\"\n",
    "pmt_params = rst_util.read_corrections_file(pmt_param_file, 'PMT')\n",
    "\n",
    "pmts_per_voxel = npmts\n",
    "voxels_per_pmt = int((2 * pmt_dist)**2 / (x_size * y_size))\n",
    "\n",
    "xs_pmts = np.array([0.], dtype='f4')\n",
    "ys_pmts = np.array([0.], dtype='f4')\n",
    "\n",
    "pmt_probs = rst_serial.compute_probabilities_cuda(rst_voxels, xs_pmts, ys_pmts, npmts, pmts_per_voxel, pmt_dist, pmt_params, cath_response)\n",
    "\n",
    "sipm_sns_probs = rst_serial.compute_sensor_probs(sipm_probs, nslices, nsipms, rst_voxels.slice_ids)\n",
    "pmt_sns_probs = rst_serial.compute_sensor_probs(pmt_probs, nslices, npmts, rst_voxels.slice_ids)\n",
    "\n",
    "sipm_fwd_denom = rst_serial.forward_denoms(nsipms, nslices, rst_voxels.voxels, sipm_sns_probs)\n",
    "pmt_fwd_denom = rst_serial.forward_denoms(npmts, nslices, rst_voxels.voxels, pmt_sns_probs)\n",
    "\n",
    "rst_serial.compute_mlem(iterations, rst_voxels, nsipms, sipm_probs, sipm_sns_probs, npmts, pmt_probs, pmt_sns_probs)"
   ]
  },
  {
   "cell_type": "code",
   "execution_count": null,
   "metadata": {},
   "outputs": [],
   "source": [
    "slices_start"
   ]
  },
  {
   "cell_type": "code",
   "execution_count": null,
   "metadata": {},
   "outputs": [],
   "source": [
    "slices"
   ]
  },
  {
   "cell_type": "code",
   "execution_count": null,
   "metadata": {
    "collapsed": true
   },
   "outputs": [],
   "source": []
  }
 ],
 "metadata": {
  "kernelspec": {
   "display_name": "Python 3",
   "language": "python",
   "name": "python3"
  },
  "language_info": {
   "codemirror_mode": {
    "name": "ipython",
    "version": 3
   },
   "file_extension": ".py",
   "mimetype": "text/x-python",
   "name": "python",
   "nbconvert_exporter": "python",
   "pygments_lexer": "ipython3",
   "version": "3.6.2"
  }
 },
 "nbformat": 4,
 "nbformat_minor": 2
}
