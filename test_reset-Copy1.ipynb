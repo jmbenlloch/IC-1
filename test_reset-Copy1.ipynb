{
 "cells": [
  {
   "cell_type": "code",
   "execution_count": 1,
   "metadata": {
    "collapsed": true
   },
   "outputs": [],
   "source": [
    "import invisible_cities.reset.reset_utils as reset\n",
    "\n",
    "from invisible_cities.core.system_of_units import pes, mm, mus, ns\n",
    "import invisible_cities.reco.corrections    as corrf\n",
    "import invisible_cities.database.load_db as dbf \n",
    "import reset_functions_event as rstf\n",
    "\n",
    "# Initialize RESET\n",
    "iterations = 100\n",
    "pitch      = 10\n",
    "run_number = 4495\n",
    "nsipms     = 1792\n",
    "npmts      = 1 \n",
    "dist       = 20. \n",
    "sipm_dist  = 20. \n",
    "pmt_dist   = 200 # max distance included in the param file\n",
    "sipm_thr   = 5.\n",
    "#x_size     = 2.\n",
    "#y_size     = 2.\n",
    "\n",
    "x_size     = 10.\n",
    "y_size     = 10.\n",
    "\n",
    "rmax       = 198 #\n",
    "slice_width = 2.\n",
    "pmt_param  = \"/home/jmbenlloch/reset_data/mapas/PMT_Map_corr_keV.h5\"\n",
    "sipm_param = \"/home/jmbenlloch/reset_data/mapas/SiPM_Map_corr_z0.0_keV.h5\"\n",
    "\n",
    "pmap_file = '4495_21215.h5'\n",
    "\n",
    "pmap_conf = {}\n",
    "pmap_conf['s1_emin'] = 54 * pes \n",
    "pmap_conf['s1_emax'] = 2400. * pes \n",
    "pmap_conf['s1_wmin'] = 7*25 * ns\n",
    "pmap_conf['s1_wmax'] = 16*25 * ns\n",
    "pmap_conf['s1_hmin'] = 12. * pes \n",
    "pmap_conf['s1_hmax'] = 400. * pes \n",
    "pmap_conf['s1_num'] = 1 \n",
    "pmap_conf['s1_ethr'] = 0.5 * pes \n",
    "\n",
    "pmap_conf['s2_emin'] = 200000. * pes \n",
    "pmap_conf['s2_emax'] = 2.e6 * pes \n",
    "pmap_conf['s2_wmin'] = 4.* mus \n",
    "pmap_conf['s2_wmax'] = 500. * mus \n",
    "pmap_conf['s2_hmin'] = 600. * pes \n",
    "pmap_conf['s2_hmax'] = 60000. * pes \n",
    "pmap_conf['s2_numMin'] = 1 \n",
    "pmap_conf['s2_numMax'] = 3 \n",
    "pmap_conf['s2_ethr'] = 0. * pes \n",
    "pmap_conf['s2_nsipmmin'] = 1 \n",
    "pmap_conf['s2_nsipmmax'] = 1792\n",
    "\n",
    "# Read file and select peaks\n",
    "selector = reset.refresh_selector(pmap_conf)\n",
    "s1s, s2s, s2sis, peaks = reset.load_and_select_peaks(pmap_file, 21215, selector)\n",
    "\n",
    "# Lifetime correction\n",
    "ZCorr = corrf.LifetimeCorrection(1093.77, 23.99)\n",
    "\n",
    "# Sensors info\n",
    "data_sipm = dbf.DataSiPM(run_number)\n",
    "\n",
    "# Take the first peak\n",
    "peak = next(iter(peaks))\n",
    "evt = 21215\n",
    "sipm_thr = sipm_thr\n",
    "\n",
    "# Prepare data\n",
    "voxels_data, slices, energies, zs = reset.prepare_data(s1s, s2s, s2sis, slice_width, evt, peak, data_sipm, nsipms, sipm_thr, dist, ZCorr)\n",
    "slices_start = reset.slices_start(voxels_data, x_size, y_size)\n",
    "\n",
    "\n",
    "#rst = rstf.RESET(run_number, nsipms, npmts, dist, sipm_dist, pmt_dist, sipm_thr, x_size, y_size, rmax, sipm_param, pmt_param)\n",
    "#voxels, slices = rst.run(voxels, slices, energies, slices_start, iterations)\n",
    "#reset.write_hdf5(voxels, slices, zs) \n",
    "#rst._destroy_context()"
   ]
  },
  {
   "cell_type": "code",
   "execution_count": 2,
   "metadata": {
    "collapsed": true
   },
   "outputs": [],
   "source": [
    "import invisible_cities.reset.reset_serial as rst_serial"
   ]
  },
  {
   "cell_type": "markdown",
   "metadata": {},
   "source": [
    "# Create voxels"
   ]
  },
  {
   "cell_type": "code",
   "execution_count": 3,
   "metadata": {},
   "outputs": [],
   "source": [
    "rst_voxels = rst_serial.create_voxels(voxels_data, slices_start, x_size, y_size, rmax)"
   ]
  },
  {
   "cell_type": "code",
   "execution_count": 4,
   "metadata": {},
   "outputs": [
    {
     "data": {
      "text/plain": [
       "ResetVoxels(nvoxels=13826, voxels=array([(115., 25., 6.3964443), (115., 35., 6.3964443),\n",
       "       (115., 45., 6.3964443), ..., (105., 55., 4.248336 ),\n",
       "       (105., 65., 4.248336 ), (105., 75., 4.248336 )],\n",
       "      dtype=[('x', '<f4'), ('y', '<f4'), ('E', '<f4')]), slice_ids=array([ 0,  0,  0, ..., 65, 65, 65], dtype=int32), slice_start=array([    0,    67,   173,   470,   872,  1404,  1717,  2202,  3113,\n",
       "        4139,  5135,  6239,  7132,  7903,  8412,  8709,  8957,  9191,\n",
       "        9343,  9479,  9600,  9641,  9680,  9719,  9768,  9834,  9913,\n",
       "       10016, 10069, 10115, 10156, 10223, 10303, 11096, 11171, 11255,\n",
       "       11330, 11405, 11468, 11537, 11657, 11720, 11805, 11868, 11937,\n",
       "       12012, 12088, 12175, 12259, 12333, 12514, 12601, 12678, 12755,\n",
       "       12827, 12898, 12953, 13012, 13059, 13095, 13123, 13170, 13204,\n",
       "       13244, 13298, 13584, 13826], dtype=int32), address=array([    0,     1,     2, ..., 13824, 13825, 13826]))"
      ]
     },
     "execution_count": 4,
     "metadata": {},
     "output_type": "execute_result"
    }
   ],
   "source": [
    "rst_voxels"
   ]
  },
  {
   "cell_type": "markdown",
   "metadata": {},
   "source": [
    "# CUDA version"
   ]
  },
  {
   "cell_type": "code",
   "execution_count": 5,
   "metadata": {},
   "outputs": [
    {
     "name": "stdout",
     "output_type": "stream",
     "text": [
      "SensorsParams(xmin=-195.0, ymin=-195.0, step=10.0, nbins=40, params=array([(-195., -195., 0.), (-195., -185., 0.), (-195., -175., 0.), ...,\n",
      "       ( 195.,  175., 0.), ( 195.,  185., 0.), ( 195.,  195., 0.)],\n",
      "      dtype=[('x', '<f4'), ('y', '<f4'), ('factor', '<f4')]))\n"
     ]
    }
   ],
   "source": [
    "rst = rstf.RESET(run_number, nsipms, npmts, dist, sipm_dist, pmt_dist, sipm_thr, x_size, y_size, rmax, sipm_param, pmt_param)"
   ]
  },
  {
   "cell_type": "code",
   "execution_count": 6,
   "metadata": {
    "collapsed": true
   },
   "outputs": [],
   "source": [
    "import pycuda.driver as cuda\n",
    "\n",
    "nslices = int(voxels_data.xmin.shape[0])\n",
    "voxels_data_d = rstf.copy_voxels_data_h2d(voxels_data)\n",
    "slices_data_d = rstf.copy_slice_data_h2d(slices)\n",
    " \n",
    "slices_start_nc_d = cuda.to_device(slices_start)\n",
    "\n",
    " \n",
    "rst_voxels_d, slice_ids_h = rstf.create_voxels(rst.cudaf, voxels_data_d, rst.xsize,\n",
    "        rst.ysize, rst.rmax, rst.max_voxels, nslices,\n",
    "        slices_start_nc_d, int(slices_start[-1]), slices_start)\n"
   ]
  },
  {
   "cell_type": "code",
   "execution_count": 7,
   "metadata": {},
   "outputs": [
    {
     "data": {
      "text/plain": [
       "ResetVoxels(nvoxels=13826, voxels=<pycuda._driver.DeviceAllocation object at 0x7fb5b61eb9e0>, slice_ids=<pycuda._driver.DeviceAllocation object at 0x7fb5b61ebb70>, slice_start=<pycuda._driver.DeviceAllocation object at 0x7fb5b61eb8f0>, address=array([    0,     1,     2, ..., 13824, 13825, 13826], dtype=int32))"
      ]
     },
     "execution_count": 7,
     "metadata": {},
     "output_type": "execute_result"
    }
   ],
   "source": [
    "rst_voxels_d"
   ]
  },
  {
   "cell_type": "code",
   "execution_count": 8,
   "metadata": {
    "collapsed": true
   },
   "outputs": [],
   "source": [
    "rst_voxels_h = rstf.copy_reset_voxels_d2h(rst_voxels_d, nslices)"
   ]
  },
  {
   "cell_type": "code",
   "execution_count": 9,
   "metadata": {},
   "outputs": [
    {
     "data": {
      "text/plain": [
       "ResetVoxels(nvoxels=13826, voxels=array([(115., 25., 6.3964443), (115., 35., 6.3964443),\n",
       "       (115., 45., 6.3964443), ..., (105., 55., 4.248336 ),\n",
       "       (105., 65., 4.248336 ), (105., 75., 4.248336 )],\n",
       "      dtype=[('x', '<f4'), ('y', '<f4'), ('E', '<f4')]), slice_ids=array([ 0,  0,  0, ..., 65, 65, 65], dtype=int32), slice_start=array([    0,    67,   173,   470,   872,  1404,  1717,  2202,  3113,\n",
       "        4139,  5135,  6239,  7132,  7903,  8412,  8709,  8957,  9191,\n",
       "        9343,  9479,  9600,  9641,  9680,  9719,  9768,  9834,  9913,\n",
       "       10016, 10069, 10115, 10156, 10223, 10303, 11096, 11171, 11255,\n",
       "       11330, 11405, 11468, 11537, 11657, 11720, 11805, 11868, 11937,\n",
       "       12012, 12088, 12175, 12259, 12333, 12514, 12601, 12678, 12755,\n",
       "       12827, 12898, 12953, 13012, 13059, 13095, 13123, 13170, 13204,\n",
       "       13244, 13298, 13584, 13826], dtype=int32), address=array([    0,     1,     2, ..., 13824, 13825, 13826], dtype=int32))"
      ]
     },
     "execution_count": 9,
     "metadata": {},
     "output_type": "execute_result"
    }
   ],
   "source": [
    "rst_voxels_h"
   ]
  },
  {
   "cell_type": "markdown",
   "metadata": {},
   "source": [
    "## Check"
   ]
  },
  {
   "cell_type": "code",
   "execution_count": 10,
   "metadata": {},
   "outputs": [
    {
     "data": {
      "text/plain": [
       "True"
      ]
     },
     "execution_count": 10,
     "metadata": {},
     "output_type": "execute_result"
    }
   ],
   "source": [
    "rst_voxels.nvoxels == rst_voxels_h.nvoxels"
   ]
  },
  {
   "cell_type": "code",
   "execution_count": 11,
   "metadata": {
    "collapsed": true
   },
   "outputs": [],
   "source": [
    "import numpy as np\n",
    "np.testing.assert_array_equal(rst_voxels.voxels, rst_voxels_h.voxels)"
   ]
  },
  {
   "cell_type": "code",
   "execution_count": 12,
   "metadata": {
    "collapsed": true
   },
   "outputs": [],
   "source": [
    "np.testing.assert_array_equal(rst_voxels.slice_ids, rst_voxels_h.slice_ids)"
   ]
  },
  {
   "cell_type": "code",
   "execution_count": 13,
   "metadata": {
    "collapsed": true
   },
   "outputs": [],
   "source": [
    "np.testing.assert_array_equal(rst_voxels.address, rst_voxels_h.address)"
   ]
  },
  {
   "cell_type": "code",
   "execution_count": 14,
   "metadata": {
    "collapsed": true
   },
   "outputs": [],
   "source": [
    "np.testing.assert_array_equal(rst_voxels.slice_start, rst_voxels_h.slice_start)"
   ]
  },
  {
   "cell_type": "markdown",
   "metadata": {},
   "source": [
    "# Anode response"
   ]
  },
  {
   "cell_type": "code",
   "execution_count": 15,
   "metadata": {
    "collapsed": true
   },
   "outputs": [],
   "source": [
    "nslices = voxels_data.xmin.shape[0]\n",
    "anode_response = rst_serial.create_anode_response(nslices, nsipms, slices)"
   ]
  },
  {
   "cell_type": "code",
   "execution_count": 16,
   "metadata": {},
   "outputs": [
    {
     "data": {
      "text/plain": [
       "2.6653137"
      ]
     },
     "execution_count": 16,
     "metadata": {},
     "output_type": "execute_result"
    }
   ],
   "source": [
    "anode_response[1023]"
   ]
  },
  {
   "cell_type": "code",
   "execution_count": 17,
   "metadata": {},
   "outputs": [
    {
     "data": {
      "text/plain": [
       "ResetSlices(start=array([   0,   26,   92,  195,  326,  456,  591,  755,  955, 1190, 1433,\n",
       "       1652, 1818, 1949, 2053, 2149, 2229, 2282, 2315, 2325, 2338, 2347,\n",
       "       2359, 2370, 2382, 2403, 2426, 2450, 2467, 2478, 2486, 2498, 2523,\n",
       "       2548, 2572, 2596, 2619, 2638, 2654, 2675, 2698, 2724, 2745, 2762,\n",
       "       2778, 2801, 2824, 2850, 2872, 2894, 2910, 2933, 2950, 2973, 2992,\n",
       "       3011, 3025, 3038, 3045, 3051, 3056, 3068, 3074, 3086, 3094, 3103,\n",
       "       3108], dtype=int32), sensors=array([1023, 1601, 1609, ..., 1329, 1345,  379], dtype=int32), charges=array([2.6653137, 3.7328777, 5.282883 , ..., 3.0275135, 6.91506  ,\n",
       "       5.1015234], dtype=float32))"
      ]
     },
     "execution_count": 17,
     "metadata": {},
     "output_type": "execute_result"
    }
   ],
   "source": [
    "slices"
   ]
  },
  {
   "cell_type": "markdown",
   "metadata": {},
   "source": [
    "## CUDA version"
   ]
  },
  {
   "cell_type": "code",
   "execution_count": 18,
   "metadata": {
    "collapsed": true
   },
   "outputs": [],
   "source": [
    "anode_d = rstf.create_anode_response(rst.cudaf, slices_data_d,\n",
    "                                         rst.nsipms, nslices,\n",
    "                                         np.int32(slices.charges.shape[0]))\n"
   ]
  },
  {
   "cell_type": "code",
   "execution_count": 19,
   "metadata": {
    "collapsed": true
   },
   "outputs": [],
   "source": [
    "total_sensors = nsipms * nslices\n",
    "anode_h = cuda.from_device(anode_d, (total_sensors,), np.dtype('f4'))"
   ]
  },
  {
   "cell_type": "code",
   "execution_count": 20,
   "metadata": {},
   "outputs": [
    {
     "data": {
      "text/plain": [
       "(118272,)"
      ]
     },
     "execution_count": 20,
     "metadata": {},
     "output_type": "execute_result"
    }
   ],
   "source": [
    "anode_h.shape"
   ]
  },
  {
   "cell_type": "markdown",
   "metadata": {},
   "source": [
    "## Check"
   ]
  },
  {
   "cell_type": "code",
   "execution_count": 21,
   "metadata": {},
   "outputs": [],
   "source": [
    "np.testing.assert_array_almost_equal(anode_response[1792:(2*1792)], anode_h[1792:(2*1792)])"
   ]
  },
  {
   "cell_type": "markdown",
   "metadata": {},
   "source": [
    "# Create cathode response"
   ]
  },
  {
   "cell_type": "code",
   "execution_count": null,
   "metadata": {
    "collapsed": true
   },
   "outputs": [],
   "source": [
    "energies"
   ]
  },
  {
   "cell_type": "markdown",
   "metadata": {},
   "source": [
    "# Compute active sensors"
   ]
  },
  {
   "cell_type": "code",
   "execution_count": null,
   "metadata": {
    "collapsed": true
   },
   "outputs": [],
   "source": [
    "import invisible_cities.reco.dst_functions as dstf\n",
    "\n",
    "pmt_param_file   = \"/home/jmbenlloch/reset_data/mapas/PMT_Map_corr_keV.h5\"\n",
    "sipm_param_file  = \"/home/jmbenlloch/reset_data/mapas/SiPM_Map_corr_z0.0_keV.h5\"\n",
    "\n",
    "sipm_param = dstf.load_xy_corrections(sipm_param_file, group=\"ResetMap\", node=\"SiPM\")\n",
    "#dstf.load_xy_corrections(pmtcorr+\".h5\", group=\"ResetMap\", node=\"PMT\")"
   ]
  },
  {
   "cell_type": "code",
   "execution_count": null,
   "metadata": {
    "collapsed": true
   },
   "outputs": [],
   "source": [
    "sipms_per_voxel = int(math.floor(2 * sipm_dist / pitch) + 1)**2\n",
    "voxels_per_sipm = int((2 * sipm_dist)**2 / (x_size * y_size))\n",
    "xs = data_sipm.X\n",
    "ys = data_sipm.Y"
   ]
  },
  {
   "cell_type": "code",
   "execution_count": null,
   "metadata": {
    "collapsed": true
   },
   "outputs": [],
   "source": [
    "probs, sensor_ids, voxel_starts, sensor_starts, nprobs, fwd_num = compute_probabilities(voxels[:1000], 1000, xs, ys, nsipms, sipms_per_voxel, sipm_dist, sipm_param, anode_response)"
   ]
  },
  {
   "cell_type": "code",
   "execution_count": null,
   "metadata": {
    "collapsed": true
   },
   "outputs": [],
   "source": [
    "sensor_ids"
   ]
  },
  {
   "cell_type": "markdown",
   "metadata": {},
   "source": [
    "# Sensor probs"
   ]
  },
  {
   "cell_type": "code",
   "execution_count": null,
   "metadata": {
    "collapsed": true
   },
   "outputs": [],
   "source": [
    "sensor_probs, sensor_starts, sensor_starts_c, sensor_starts_c_ids = compute_sensor_probs(probs, nprobs, nsipms, voxel_starts, sensor_ids, slice_ids)"
   ]
  },
  {
   "cell_type": "markdown",
   "metadata": {},
   "source": [
    "# Forward denom"
   ]
  },
  {
   "cell_type": "code",
   "execution_count": null,
   "metadata": {
    "collapsed": true
   },
   "outputs": [],
   "source": [
    "forward_denoms(nsipms, nslices, voxels, sensor_probs, voxel_ids, sensor_starts_c, sensor_starts_c_ids)"
   ]
  },
  {
   "cell_type": "markdown",
   "metadata": {},
   "source": [
    "# MLEM step"
   ]
  }
 ],
 "metadata": {
  "kernelspec": {
   "display_name": "Python 3",
   "language": "python",
   "name": "python3"
  },
  "language_info": {
   "codemirror_mode": {
    "name": "ipython",
    "version": 3
   },
   "file_extension": ".py",
   "mimetype": "text/x-python",
   "name": "python",
   "nbconvert_exporter": "python",
   "pygments_lexer": "ipython3",
   "version": "3.6.2"
  }
 },
 "nbformat": 4,
 "nbformat_minor": 2
}
