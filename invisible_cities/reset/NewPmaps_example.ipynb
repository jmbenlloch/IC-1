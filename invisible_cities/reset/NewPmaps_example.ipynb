{
 "cells": [
  {
   "cell_type": "code",
   "execution_count": 1,
   "metadata": {
    "collapsed": true
   },
   "outputs": [],
   "source": [
    "import os\n",
    "import invisible_cities.io.pmaps_io as pmapio\n",
    "\n",
    "\n",
    "pmap_file = os.path.expandvars('$ICDIR/database/test_data/reset_4495_21215.h5')\n",
    "pmaps = pmapio.load_pmaps(pmap_file)"
   ]
  },
  {
   "cell_type": "code",
   "execution_count": 2,
   "metadata": {},
   "outputs": [],
   "source": [
    "peak = 0\n",
    "evt = 21215\n",
    "tbin = 0\n",
    "s2 = pmaps[evt].s2s[peak]"
   ]
  },
  {
   "cell_type": "code",
   "execution_count": 3,
   "metadata": {},
   "outputs": [],
   "source": [
    "charges = s2.sipms.time_slice(tbin)"
   ]
  },
  {
   "cell_type": "code",
   "execution_count": 4,
   "metadata": {},
   "outputs": [
    {
     "data": {
      "text/plain": [
       "array([1.8127004, 2.074097 , 1.5734361, 2.7108052, 2.37539  , 1.6402848,\n",
       "       3.667194 , 5.1869354, 2.87869  , 3.168278 , 1.8821279, 3.8163576,\n",
       "       1.9663262], dtype=float32)"
      ]
     },
     "execution_count": 4,
     "metadata": {},
     "output_type": "execute_result"
    }
   ],
   "source": [
    "charges[charges > 0]"
   ]
  },
  {
   "cell_type": "code",
   "execution_count": 5,
   "metadata": {},
   "outputs": [
    {
     "data": {
      "text/plain": [
       "array([ 307, 1056, 1280, 1400, 1405, 1406, 1414, 1415, 1418, 1420, 1426,\n",
       "       1427, 1603], dtype=int16)"
      ]
     },
     "execution_count": 5,
     "metadata": {},
     "output_type": "execute_result"
    }
   ],
   "source": [
    "s2.sipms.ids[charges > 0]"
   ]
  },
  {
   "cell_type": "code",
   "execution_count": null,
   "metadata": {
    "collapsed": true
   },
   "outputs": [],
   "source": []
  }
 ],
 "metadata": {
  "kernelspec": {
   "display_name": "Python 3",
   "language": "python",
   "name": "python3"
  },
  "language_info": {
   "codemirror_mode": {
    "name": "ipython",
    "version": 3
   },
   "file_extension": ".py",
   "mimetype": "text/x-python",
   "name": "python",
   "nbconvert_exporter": "python",
   "pygments_lexer": "ipython3",
   "version": "3.6.2"
  }
 },
 "nbformat": 4,
 "nbformat_minor": 2
}
