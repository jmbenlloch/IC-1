{
 "cells": [
  {
   "cell_type": "code",
   "execution_count": 1,
   "metadata": {},
   "outputs": [],
   "source": [
    "import os\n",
    "import invisible_cities.io.pmap_io as pmapio\n",
    "import invisible_cities.reco.pmaps_functions_c  as pmapsfc\n",
    "\n",
    "pmap_file = os.path.expandvars('$ICDIR/database/test_data/reset_4495_21215.h5')\n",
    "s1s, s2s, s2sis = pmapio.load_pmaps(pmap_file)"
   ]
  },
  {
   "cell_type": "code",
   "execution_count": 2,
   "metadata": {},
   "outputs": [],
   "source": [
    "evt = 21215\n",
    "peak = 0\n",
    "tbin = 0\n",
    "\n",
    "s2si = s2sis[evt].s2sid[peak]\n",
    "ids, charges = pmapsfc.sipm_ids_and_charges_in_slice(s2si, tbin)"
   ]
  },
  {
   "cell_type": "code",
   "execution_count": 3,
   "metadata": {},
   "outputs": [
    {
     "data": {
      "text/plain": [
       "array([1.81270039, 2.07409692, 1.57343614, 2.71080518, 2.37539005,\n",
       "       1.64028478, 3.66719389, 5.18693542, 2.87869   , 3.16827798,\n",
       "       1.88212788, 3.81635761, 1.96632624])"
      ]
     },
     "execution_count": 3,
     "metadata": {},
     "output_type": "execute_result"
    }
   ],
   "source": [
    "charges"
   ]
  },
  {
   "cell_type": "code",
   "execution_count": 4,
   "metadata": {},
   "outputs": [
    {
     "data": {
      "text/plain": [
       "array([1023, 1609, 1687, 1379, 1384, 1385, 1392, 1393, 1394, 1396, 1401,\n",
       "       1402, 1454])"
      ]
     },
     "execution_count": 4,
     "metadata": {},
     "output_type": "execute_result"
    }
   ],
   "source": [
    "ids"
   ]
  }
 ],
 "metadata": {
  "kernelspec": {
   "display_name": "Python 3",
   "language": "python",
   "name": "python3"
  },
  "language_info": {
   "codemirror_mode": {
    "name": "ipython",
    "version": 3
   },
   "file_extension": ".py",
   "mimetype": "text/x-python",
   "name": "python",
   "nbconvert_exporter": "python",
   "pygments_lexer": "ipython3",
   "version": "3.6.2"
  }
 },
 "nbformat": 4,
 "nbformat_minor": 2
}
