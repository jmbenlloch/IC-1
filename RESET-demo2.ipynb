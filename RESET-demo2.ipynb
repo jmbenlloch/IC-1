{
 "cells": [
  {
   "cell_type": "markdown",
   "metadata": {},
   "source": [
    "# Read input data files"
   ]
  },
  {
   "cell_type": "code",
   "execution_count": 1,
   "metadata": {
    "collapsed": true
   },
   "outputs": [],
   "source": [
    "import glob\n",
    "\n",
    "run_number = 4495#\"MC/Kr\"\n",
    "map_run_number = 4446\n",
    "outputfolder = '/home/jmbenlloch/reset_data/4495/dsts'\n",
    "inputfiles = glob.glob(\"/home/jmbenlloch/reset_data/4495/pmaps/pmaps*.root.h5\")"
   ]
  },
  {
   "cell_type": "markdown",
   "metadata": {},
   "source": [
    "# IC functions"
   ]
  },
  {
   "cell_type": "code",
   "execution_count": 2,
   "metadata": {},
   "outputs": [
    {
     "name": "stdout",
     "output_type": "stream",
     "text": [
      "Running on  Mon Jan  8 18:17:28 2018\n"
     ]
    }
   ],
   "source": [
    "import os\n",
    "import functools\n",
    "import itertools\n",
    "import time\n",
    "print(\"Running on \", time.asctime())\n",
    "\n",
    "import numpy             as np\n",
    "import tables            as tb\n",
    "import matplotlib.pyplot as plt\n",
    "\n",
    "import invisible_cities.database.load_db as dbf\n",
    "import invisible_cities.filters.s1s2_filter as s1s2filt\n",
    "import invisible_cities.reco.pmaps_functions  as pmapsf\n",
    "import invisible_cities.reco.pmaps_functions_c  as pmapsfc\n",
    "import invisible_cities.reco.corrections    as corrf\n",
    "import invisible_cities.core.core_functions as coref\n",
    "import invisible_cities.core.core_functions_c as corefc\n",
    "import invisible_cities.core.fit_functions  as fitf\n",
    "import invisible_cities.reco.dst_functions as dstf\n",
    "import invisible_cities.reco.reset_functions as rstf\n",
    "#import invisible_cities.reco.reset_functions_old as rstfOld\n",
    "import invisible_cities.io.table_io as tbiof\n",
    "import invisible_cities.io.pmap_io as pmapio\n",
    "import invisible_cities.io.dst_io as dstio\n",
    "import invisible_cities.reco.xy_algorithms as xyf\n",
    "\n",
    "from invisible_cities.icaro.hst_functions import hist\n",
    "from invisible_cities.icaro.hst_functions import hist2d\n",
    "from invisible_cities.icaro.hst_functions import hist2d_profile\n",
    "from invisible_cities.icaro.hst_functions import labels\n",
    "from invisible_cities.icaro.hst_functions import gausstext\n",
    "\n",
    "from invisible_cities.reco.tbl_functions     import get_event_numbers_and_timestamps_from_file_name\n",
    "from invisible_cities.core.system_of_units import pes, mm, mus, ns\n",
    "\n",
    "from invisible_cities.evm.pmaps import S2, S2Si, Peak"
   ]
  },
  {
   "cell_type": "markdown",
   "metadata": {},
   "source": [
    "### General plotting options"
   ]
  },
  {
   "cell_type": "code",
   "execution_count": 3,
   "metadata": {
    "collapsed": true
   },
   "outputs": [],
   "source": [
    "%matplotlib inline\n",
    "\n",
    "np.warnings.filterwarnings('ignore')\n",
    "\n",
    "plt.rcParams[\"figure.figsize\"]          = 8, 6\n",
    "plt.rcParams[\"font.size\"]               = 15\n",
    "plt.rcParams[\"figure.max_open_warning\"] = 100\n",
    "\n",
    "profOpt = \"--k\"\n",
    "fitOpt  = \"r\""
   ]
  },
  {
   "cell_type": "markdown",
   "metadata": {},
   "source": [
    "### SiPM info"
   ]
  },
  {
   "cell_type": "code",
   "execution_count": 4,
   "metadata": {
    "collapsed": true
   },
   "outputs": [],
   "source": [
    "DataSiPM = dbf.DataSiPM(run_number)\n",
    "DataPMT = dbf.DataPMT(run_number)"
   ]
  },
  {
   "cell_type": "markdown",
   "metadata": {},
   "source": [
    "### Plots"
   ]
  },
  {
   "cell_type": "code",
   "execution_count": 5,
   "metadata": {
    "collapsed": true
   },
   "outputs": [],
   "source": [
    "def plot_map(xy_map, run=\"\"):\n",
    "    x , y  = xy_map._xs\n",
    "    x0, y0 = np.min(x) - np.diff(x)[0]/2, np.min(y) - np.diff(y)[0]/2\n",
    "    x1, y1 = np.max(x) + np.diff(x)[0]/2, np.max(y) + np.diff(y)[0]/2\n",
    "    f      = xy_map._fs\n",
    "    u      = xy_map._us\n",
    "    x, y   = np.repeat(x, y.size), np.tile(y, x.size)\n",
    "\n",
    "    plt.figure(figsize=(20,8))\n",
    "\n",
    "    plt.subplot(1, 2, 1)\n",
    "    hist2d(x, y, f.shape, ((x0, x1), (y0, y1)), weights=f.flatten(), new_figure=False)\n",
    "    plt.colorbar().set_label(\"Correction factor\")\n",
    "    labels(\"x (mm)\", \"y (mm)\", str(run))\n",
    "\n",
    "    plt.subplot(1, 2, 2)\n",
    "    hist2d(x, y, u.shape, ((x0, x1), (y0, y1)), weights=u.flatten(), new_figure=False)\n",
    "    plt.colorbar().set_label(\"Correction uncertainty\")\n",
    "    labels(\"x (mm)\", \"y (mm)\", str(run))"
   ]
  },
  {
   "cell_type": "markdown",
   "metadata": {},
   "source": [
    "#### Function to calculate lifetime"
   ]
  },
  {
   "cell_type": "code",
   "execution_count": 6,
   "metadata": {
    "collapsed": true
   },
   "outputs": [],
   "source": [
    "def lifetime_calculation(z, zrange, energy, erange):\n",
    "    hist(energy, 50, erange)\n",
    "    labels(\"S2 energy (pes)\", \"Entries\", \"Fidualized energy spectrum\")\n",
    "\n",
    "    low_cut   = 11000 * np.exp(-0.0009*z)\n",
    "    high_cut  = 14000 * np.exp(-0.0009*z)\n",
    "    sel       = coref.in_range(energy, low_cut, high_cut) # remove low and high E background\n",
    "\n",
    "    hist2d(z, energy, (100, 50), range=(zrange, erange))\n",
    "    x, y, u_y = fitf.profileX(z[sel], energy[sel], 100, xrange=zrange, yrange=erange)\n",
    "\n",
    "    plt.plot(x, y, profOpt)\n",
    "    plt.plot(z,  low_cut, \"k.\")\n",
    "    plt.plot(z, high_cut, \"k.\")\n",
    "\n",
    "    Zrange_LT = 50, 350\n",
    "    \n",
    "    seed = np.max(y), (x[15] - x[5])/np.log(y[15]/y[5])\n",
    "    f    = fitf.fit(fitf.expo, x, y, seed, fit_range=Zrange_LT, sigma=u_y)\n",
    "\n",
    "    plt.plot(x, f.fn(x), fitOpt)\n",
    "    print(\"Energy at z=0 = {:.1f} +- {:.1f}\".format( f.values[0], f.errors[0]))\n",
    "    print(\"Lifetime      = {:.1f} +- {:.1f}\".format(-f.values[1], f.errors[1]))\n",
    "    print(\"Chi2          = {:.2f}          \".format(f.chi2))\n",
    "\n",
    "    labels(\"Drift time ($\\mu$s)\", \"S2 energy (pes)\", \"Fiducialized energy spectrum vs Z\")\n",
    "\n",
    "    return corrf.LifetimeCorrection(-f.values[1], f.errors[1])"
   ]
  },
  {
   "cell_type": "code",
   "execution_count": 7,
   "metadata": {
    "collapsed": true
   },
   "outputs": [],
   "source": [
    "class ResetDST(tb.IsDescription):\n",
    "    X        = tb.Float64Col(pos=0)\n",
    "    Y        = tb.Float64Col(pos=1)\n",
    "    Z        = tb.Float64Col(pos=2)\n",
    "    E        = tb.Float64Col(pos=3)\n",
    "    EventID  = tb.UInt32Col(pos=4)\n",
    "    PeakNo = tb.UInt32Col(pos=5)\n",
    "    Iteration = tb.UInt32Col(pos=6)"
   ]
  },
  {
   "cell_type": "code",
   "execution_count": 8,
   "metadata": {
    "collapsed": true
   },
   "outputs": [],
   "source": [
    "def rebin_s2si(s2, s2si, rf):\n",
    "    \"\"\"given an s2 and a corresponding s2si, rebin them by a factor rf\"\"\"\n",
    "    assert rf >= 1 and rf % 1 == 0\n",
    "    t, e, sipms = pmapsf.rebin_s2si_peak(s2[0], s2[1], s2si, rf)\n",
    "    s2d_rebin = [t, e]\n",
    "    s2sid_rebin = sipms\n",
    "\n",
    "    return s2d_rebin, s2sid_rebin"
   ]
  },
  {
   "cell_type": "code",
   "execution_count": 9,
   "metadata": {
    "collapsed": true
   },
   "outputs": [],
   "source": [
    "def rebin_s2pmt(s2pmt, stride):\n",
    "    \"\"\"rebin: s2 times (taking mean), s2 energies, and s2 sipm qs, by stride\"\"\"\n",
    "    # cython rebin_array is returning memoryview so we need to cast as np array\n",
    "    return   [corefc.rebin_array(s2pmt.t , stride, remainder=True, mean=True), \\\n",
    "              corefc.rebin_array(s2pmt.E , stride, remainder=True)]"
   ]
  },
  {
   "cell_type": "markdown",
   "metadata": {},
   "source": [
    "##  Read data\n",
    "\n",
    "### PMap parameter selection"
   ]
  },
  {
   "cell_type": "code",
   "execution_count": 10,
   "metadata": {
    "collapsed": true
   },
   "outputs": [],
   "source": [
    "init_val = {}\n",
    "\n",
    "init_val['s1_emin'] = 54 * pes\n",
    "init_val['s1_emax'] = 2400. * pes\n",
    "init_val['s1_wmin'] = 7*25 * ns\n",
    "init_val['s1_wmax'] = 16*25 * ns\n",
    "init_val['s1_hmin'] = 12. * pes\n",
    "init_val['s1_hmax'] = 400. * pes\n",
    "init_val['s1_num'] = 1\n",
    "init_val['s1_ethr'] = 0.5 * pes\n",
    "\n",
    "init_val['s2_emin'] = 200000. * pes\n",
    "init_val['s2_emax'] = 2.e6 * pes\n",
    "init_val['s2_wmin'] = 4.* mus\n",
    "init_val['s2_wmax'] = 500. * mus\n",
    "init_val['s2_hmin'] = 600. * pes\n",
    "init_val['s2_hmax'] = 60000. * pes\n",
    "init_val['s2_numMin'] = 1\n",
    "init_val['s2_numMax'] = 3\n",
    "init_val['s2_ethr'] = 0. * pes\n",
    "init_val['s2_nsipmmin'] = 1\n",
    "init_val['s2_nsipmmax'] = 1792\n",
    "\n",
    "def refresh_selector(param_val):\n",
    "    selector = s1s2filt.S12Selector(s1_nmin = param_val['s1_num'], s1_nmax = param_val['s1_num'], s1_emin = param_val['s1_emin'], s1_emax = param_val['s1_emax'], s1_ethr = param_val['s1_ethr'],\n",
    "                                    s1_wmin = param_val['s1_wmin'], s1_wmax = param_val['s1_wmax'], s1_hmin = param_val['s1_hmin'], s1_hmax = param_val['s1_hmax'],\n",
    "                                    s2_nmin = param_val['s2_numMin'], s2_nmax = param_val['s2_numMax'], s2_emin = param_val['s2_emin'], s2_emax = param_val['s2_emax'], \n",
    "                                    s2_wmin = param_val['s2_wmin'], s2_wmax = param_val['s2_wmax'], s2_hmin = param_val['s2_hmin'], s2_hmax = param_val['s2_hmax'], \n",
    "                                    s2_nsipmmin = param_val['s2_nsipmmin'], s2_nsipmmax = param_val['s2_nsipmmax'], s2_ethr = param_val['s2_ethr'])\n",
    "\n",
    "    return selector"
   ]
  },
  {
   "cell_type": "markdown",
   "metadata": {},
   "source": [
    "### Compute lifetime correction"
   ]
  },
  {
   "cell_type": "code",
   "execution_count": 11,
   "metadata": {
    "collapsed": true
   },
   "outputs": [],
   "source": [
    "ZCorr = corrf.LifetimeCorrection(1093.77, 23.99)"
   ]
  },
  {
   "cell_type": "markdown",
   "metadata": {},
   "source": [
    "### Load correction maps"
   ]
  },
  {
   "cell_type": "code",
   "execution_count": 12,
   "metadata": {},
   "outputs": [
    {
     "data": {
      "image/png": "[encoded data removed]",
      "text/plain": [
       "<matplotlib.figure.Figure at 0x7f749cfef6d8>"
      ]
     },
     "metadata": {},
     "output_type": "display_data"
    },
    {
     "data": {
      "image/png": "[encoded data removed]",
      "text/plain": [
       "<matplotlib.figure.Figure at 0x7f749ca45c18>"
      ]
     },
     "metadata": {},
     "output_type": "display_data"
    }
   ],
   "source": [
    "pmt_xy_map = []\n",
    "sipm_xy_map = []\n",
    "modePMT = \"Sum\"\n",
    "#modePMT = \"Individual\"\n",
    "nPMT = 11\n",
    "pmt_sens = np.arange(0,nPMT,1)\n",
    "\n",
    "pmtcorr = \"/Users/ansimez/Documents/InvCit/hdf5/{}/PMT_Map_corr_keV\".format(map_run_number)\n",
    "sipmcorr = \"/Users/ansimez/Documents/InvCit/hdf5/{}/SiPM_Map_corr_z\".format(map_run_number)\n",
    "\n",
    "pmtcorr = \"/home/jmbenlloch/reset_data/mapas/PMT_Map_corr_keV.h5\"\n",
    "pmtcorr_i = \"/home/jmbenlloch/reset_data/mapas/PMT_Map_corr_keV_{}_4734.h5\"\n",
    "sipmcorr = \"/home/jmbenlloch/reset_data/mapas/SiPM_Map_corr_z{}.0_keV.h5\"\n",
    "\n",
    "zstep = 100\n",
    "z_scan = np.arange(0,600,zstep)\n",
    "\n",
    "for zmap in z_scan:\n",
    "    sipmcorr_file = sipmcorr.format(zmap)\n",
    "    sipm_xy_map.append(dstf.load_xy_corrections(sipmcorr_file, group=\"ResetMap\", node=\"SiPM\"))\n",
    "\n",
    "if modePMT == \"Sum\":\n",
    "    pmt_xy_map.append(dstf.load_xy_corrections(pmtcorr, group=\"ResetMap\", node=\"PMT\"))\n",
    "elif modePMT == \"Individual\":\n",
    "    for nsens in pmt_sens:\n",
    "        pmtcorr_file = pmtcorr_i.format(nsens)\n",
    "        pmt_xy_map.append(dstf.load_xy_corrections(pmtcorr_file, group=\"ResetMap\", node=\"PMT\"))\n",
    "#        pmt_xy_map.append(dstf.load_xy_corrections(pmtcorr_file+\".h5\"))\n",
    "else:\n",
    "    print(\"Invalid mode\")\n",
    "    \n",
    "    \n",
    "plot_map(pmt_xy_map[0])\n",
    "plot_map(sipm_xy_map[3])"
   ]
  },
  {
   "cell_type": "markdown",
   "metadata": {},
   "source": [
    "## Load event"
   ]
  },
  {
   "cell_type": "code",
   "execution_count": 151,
   "metadata": {
    "scrolled": true
   },
   "outputs": [
    {
     "name": "stdout",
     "output_type": "stream",
     "text": [
      "Running on  Mon Jan  8 18:53:03 2018\n",
      "file: 0\n",
      "evt:  21215\n"
     ]
    }
   ],
   "source": [
    "slice_width = 2.\n",
    "\n",
    "sipm_dist = 20.\n",
    "point_dist = 20.\n",
    "sizeX = 2.\n",
    "sizeY = 2.\n",
    "#sizeX = 10.\n",
    "#sizeY = 10.\n",
    "sipm_thr = 5.\n",
    "iterations = 100\n",
    "fCathode = True\n",
    "fAnode = True\n",
    "e_thres = 0.\n",
    "verbose = False\n",
    "verboseMLEM = False\n",
    "rMax = 198\n",
    "#zstep = 100\n",
    "#modePMT = \"Individual\"\n",
    "#nPMT = 11\n",
    "\n",
    "outputfolder = '/home/jmbenlloch/reset_data/4495/reset_dst'\n",
    "if not os.path.exists(outputfolder):\n",
    "    os.mkdir(outputfolder)\n",
    "    \n",
    "in_limit = 189\n",
    "filestep = 1\n",
    "s2pmt_file = {}\n",
    "\n",
    "#for fnumber, file in enumerate(inputfiles[in_limit:in_limit+filestep]):\n",
    "for fnumber, file in enumerate(['/home/jmbenlloch/reset_data/4495/pmaps/pmaps.gdcsnext.189_4495.root.h5']):\n",
    "    outputfile = outputfolder + \"reset_dst_\"+modePMT+\"_{}_select.h5\".format(fnumber+in_limit)\n",
    "    h5out = tb.open_file(outputfile, 'w')\n",
    "    dst_table = tbiof.make_table(h5out, \n",
    "                            group = \"Reset_DST\",\n",
    "                            name = \"Reset voxels\",\n",
    "                            fformat = ResetDST,\n",
    "                            description = 'Reset voxels',\n",
    "                            compression = \"ZLIB4\")\n",
    "    row = dst_table.row \n",
    "    print(\"Running on \", time.asctime())\n",
    "    try: \n",
    "        s1_file, s2_file, s2si_file, = pmapio.load_pmaps(file)\n",
    "    except: \n",
    "        print(\"File {} could not be opened\".format(file))\n",
    "    else:\n",
    "        common_events = set(s1_file.keys()) & set(s2_file.keys()) & set(s2si_file.keys())\n",
    "        s1_all = dict({k:v for k,v in s1_file.items() if k in common_events})\n",
    "        s2_all = dict({k:v for k,v in s2_file.items() if k in common_events})\n",
    "        s2si_all =  dict({k:v for k,v in s2si_file.items() if k in common_events})\n",
    "        s2pmt_all = dict({k:v for k,v in s2pmt_file.items() if k in common_events})\n",
    "        \n",
    "        select = refresh_selector(init_val)\n",
    "\n",
    "        for evt in s1_all:\n",
    "            if(evt != 21215):\n",
    "                continue\n",
    "            else:\n",
    "                print(\"file: {}\".format(fnumber))\n",
    "\n",
    "            if not s1s2filt.s1s2_filter(select, s1_all[evt], s2_all[evt], s2si_all[evt]):\n",
    "                continue\n",
    "            s1_cut = select.select_valid_peaks(s1_all[evt], select.s1_ethr, select.s1e, select.s1w, select.s1h)\n",
    "            s2_cut = select.select_valid_peaks(s2_all[evt], select.s2_ethr, select.s2e, select.s2w, select.s2h)\n",
    "            s2si_cut = select.select_s2si(s2si_all[evt], select.nsi)\n",
    "    \n",
    "            print(\"evt: \", evt)\n",
    "            s1 = s1_all[evt].peak_waveform(0)\n",
    "            t0 = s1.t[np.argmax(s1.E)]\n",
    "\n",
    "            s2_cut = [peakno for peakno, v in s2_cut.items() if v == True]\n",
    "            s2si_cut = [peakno for peakno, v in s2si_cut.items() if v == True]\n",
    "            \n",
    "            valid_peaks = set(s2_cut) & set(s2si_cut)\n",
    "\n",
    "            for no in valid_peaks:\n",
    "                s2 = s2si_all[evt].s2d[no]\n",
    "                s2si = s2si_all[evt].s2sid[no]\n",
    "                if modePMT == \"Individual\":\n",
    "                    s2pmt = []\n",
    "                    for nsens in pmt_sens:\n",
    "                        s2pmt.append(rebin_s2pmt(s2pmt_all[evt].pmt_waveform(no, nsens), slice_width))\n",
    "                s2, s2si = rebin_s2si(s2, s2si, slice_width)\n",
    "                    \n",
    "                for tbin, e in enumerate(s2[1]):\n",
    "                    slice_ = pmapsfc.sipm_ids_and_charges_in_slice(s2si, tbin)\n",
    "                    if len(slice_[0]) <= 0:\n",
    "                        continue\n",
    "                    z = (np.average(s2[0][tbin], weights=s2[1][tbin]) - t0)/1000.\n",
    "                    if(z>550):\n",
    "                        continue\n",
    "                    #Create voxels\n",
    "                    sens_q = np.array(slice_[1]*ZCorr(z).value)\n",
    "                    if len(sens_q[sens_q>sipm_thr]) <= 0:\n",
    "                        continue     \n",
    "                    \n",
    "                    break\n",
    "\n",
    "                    vox = rstf.CreateVoxels(DataSiPM, np.array(slice_[0]), sens_q, point_dist, sipm_thr, sizeX, sizeY, rMax)\n",
    "                    if len(vox[0]) <= 0:\n",
    "                        continue\n",
    "                    #Create anode and cathode response \n",
    "                    anode_response = rstf.CreateSiPMresponse(DataSiPM, np.array(slice_[0]), sens_q, sipm_dist, sipm_thr, vox)\n",
    "\n",
    "                    if modePMT == \"Sum\":\n",
    "                        cath_response = np.array([e*ZCorr(z).value])\n",
    "                    elif modePMT == \"Individual\":\n",
    "                        cath_response = []\n",
    "                        for nsens in pmt_sens:\n",
    "                            cath_response.append(s2pmt[nsens][1][tbin]*ZCorr(z).value)\n",
    "                    else:\n",
    "                        print(\"Invalid mode\")\n",
    "                    \n",
    "                    #Run MLEM\n",
    "                    imageIter = vox\n",
    "                    voxDX, voxDY = rstf.computeDiff(DataSiPM, vox, anode_response)\n",
    "                    selVox, selSens = rstf.createSel(voxDX, voxDY, anode_response, sipm_dist)\n",
    "                    z_index = int(z//zstep )\n",
    "                    sipm_prob, pmt_prob = rstf.computeProb(pmt_xy_map, sipm_xy_map[z_index], voxDX, voxDY, vox[0], vox[1])\n",
    "\n",
    "                    j = 0\n",
    "                    for j in range(iterations):\n",
    "                        imageIter = rstf.MLEM_step(voxDX, voxDY, imageIter, selVox, selSens, anode_response, cath_response, pmt_prob, sipm_prob, sipm_dist=sipm_dist, eThres=e_thres, fCathode = fCathode, fAnode = fAnode)  \n",
    "    #Save Event\n",
    "                    for iv in range(len(imageIter[0])):\n",
    "                        if imageIter[2][iv] <= 0.1:\n",
    "                            continue\n",
    "                        row['X'] = imageIter[0][iv]\n",
    "                        row['Y'] = imageIter[1][iv]\n",
    "                        row['Z'] = z\n",
    "                        row['E'] = imageIter[2][iv]\n",
    "                        row['PeakNo'] = no\n",
    "                        row['EventID'] = evt\n",
    "                        row['Iteration'] = j+1\n",
    "                        row.append() \n",
    "    h5out.close()                    \n"
   ]
  },
  {
   "cell_type": "code",
   "execution_count": 199,
   "metadata": {},
   "outputs": [
    {
     "data": {
      "text/plain": [
       "(3, 1430)"
      ]
     },
     "execution_count": 199,
     "metadata": {},
     "output_type": "execute_result"
    }
   ],
   "source": [
    "vox = rstf.CreateVoxels(DataSiPM, np.array(slice_[0]), sens_q, point_dist, sipm_thr, sizeX, sizeY, rMax)\n",
    "vox.shape"
   ]
  },
  {
   "cell_type": "code",
   "execution_count": 200,
   "metadata": {
    "collapsed": true
   },
   "outputs": [],
   "source": [
    "anode_response = rstf.CreateSiPMresponse(DataSiPM, np.array(slice_[0]), sens_q, sipm_dist, sipm_thr, vox)"
   ]
  },
  {
   "cell_type": "code",
   "execution_count": 201,
   "metadata": {
    "collapsed": true
   },
   "outputs": [],
   "source": [
    "voxDX, voxDY = rstf.computeDiff(DataSiPM, vox, anode_response)"
   ]
  },
  {
   "cell_type": "code",
   "execution_count": 202,
   "metadata": {
    "collapsed": true
   },
   "outputs": [],
   "source": [
    "selVox, selSens = rstf.createSel(voxDX, voxDY, anode_response, sipm_dist)"
   ]
  },
  {
   "cell_type": "code",
   "execution_count": 203,
   "metadata": {
    "collapsed": true
   },
   "outputs": [],
   "source": [
    "z_index = int(z//zstep )\n",
    "sipm_prob, pmt_prob = rstf.computeProb(pmt_xy_map, sipm_xy_map[z_index], voxDX, voxDY, vox[0], vox[1])"
   ]
  },
  {
   "cell_type": "code",
   "execution_count": 204,
   "metadata": {
    "collapsed": true
   },
   "outputs": [],
   "source": [
    "cath_response = np.array([e*ZCorr(z).value])"
   ]
  },
  {
   "cell_type": "code",
   "execution_count": 205,
   "metadata": {
    "collapsed": true
   },
   "outputs": [],
   "source": [
    "#imageIter = vox\n",
    "#imageIter = rstf.MLEM_step(voxDX, voxDY, imageIter, selVox, selSens, anode_response, cath_response, pmt_prob, sipm_prob, sipm_dist=sipm_dist, eThres=e_thres, fCathode = fCathode, fAnode = fAnode)  "
   ]
  },
  {
   "cell_type": "code",
   "execution_count": 206,
   "metadata": {},
   "outputs": [
    {
     "name": "stdout",
     "output_type": "stream",
     "text": [
      "CPU times: user 5.04 s, sys: 288 ms, total: 5.32 s\n",
      "Wall time: 5.02 s\n"
     ]
    }
   ],
   "source": [
    "%%time\n",
    "imageIter = vox\n",
    "for steps in range(100):\n",
    "    imageIter = rstf.MLEM_step(voxDX, voxDY, imageIter, selVox, selSens, anode_response, cath_response, pmt_prob, sipm_prob, sipm_dist=sipm_dist, eThres=e_thres, fCathode = fCathode, fAnode = fAnode)  "
   ]
  },
  {
   "cell_type": "markdown",
   "metadata": {},
   "source": [
    "# CUDA"
   ]
  },
  {
   "cell_type": "code",
   "execution_count": 160,
   "metadata": {
    "collapsed": true
   },
   "outputs": [],
   "source": [
    "import invisible_cities.reco.reset_functions_cuda as rst_cuda"
   ]
  },
  {
   "cell_type": "markdown",
   "metadata": {},
   "source": [
    "## Voxels"
   ]
  },
  {
   "cell_type": "code",
   "execution_count": 161,
   "metadata": {},
   "outputs": [
    {
     "name": "stdout",
     "output_type": "stream",
     "text": [
      "(1430,)\n",
      "[('x', '<f4'), ('y', '<f4'), ('E', '<f4')]\n"
     ]
    }
   ],
   "source": [
    "voxels_h = rst_cuda.CreateVoxels(DataSiPM, np.array(slice_[0]), sens_q, point_dist, sipm_thr, sizeX, sizeY, rMax)\n",
    "print(voxels_h.shape)\n",
    "print(voxels_h.dtype)"
   ]
  },
  {
   "cell_type": "markdown",
   "metadata": {},
   "source": [
    "## SiPM response"
   ]
  },
  {
   "cell_type": "code",
   "execution_count": 162,
   "metadata": {},
   "outputs": [
    {
     "name": "stdout",
     "output_type": "stream",
     "text": [
      "(144,)\n",
      "[('id', '<i4'), ('charge', '<f4')]\n"
     ]
    }
   ],
   "source": [
    "anode_response_h = rst_cuda.CreateSiPMresponse(DataSiPM, np.array(slice_[0]), sens_q, sipm_dist, sipm_thr, voxels_h)\n",
    "print (anode_response_h.shape)\n",
    "print (anode_response_h.dtype)"
   ]
  },
  {
   "cell_type": "markdown",
   "metadata": {},
   "source": [
    "## Compute diff"
   ]
  },
  {
   "cell_type": "code",
   "execution_count": 163,
   "metadata": {
    "collapsed": true
   },
   "outputs": [],
   "source": [
    "voxDX_h, voxDY_h = rst_cuda.computeDiff(DataSiPM, voxels_h, anode_response_h)"
   ]
  },
  {
   "cell_type": "code",
   "execution_count": 164,
   "metadata": {},
   "outputs": [
    {
     "name": "stdout",
     "output_type": "stream",
     "text": [
      "(1430, 144)\n",
      "float32\n"
     ]
    }
   ],
   "source": [
    "print(voxDX_h.shape)\n",
    "print(voxDX_h.dtype)"
   ]
  },
  {
   "cell_type": "code",
   "execution_count": 165,
   "metadata": {},
   "outputs": [
    {
     "name": "stdout",
     "output_type": "stream",
     "text": [
      "(1430, 144)\n",
      "float32\n"
     ]
    }
   ],
   "source": [
    "print(voxDY_h.shape)\n",
    "print(voxDY_h.dtype)"
   ]
  },
  {
   "cell_type": "markdown",
   "metadata": {},
   "source": [
    "## Compute probabilities"
   ]
  },
  {
   "cell_type": "code",
   "execution_count": 166,
   "metadata": {
    "collapsed": true
   },
   "outputs": [],
   "source": [
    "z_index = int(z//zstep )\n",
    "sipm_prob_h, pmt_prob_h = rst_cuda.computeProb(pmt_xy_map, sipm_xy_map[z_index], voxDX_h, voxDY_h, voxels_h['x'], voxels_h['y'])"
   ]
  },
  {
   "cell_type": "code",
   "execution_count": 167,
   "metadata": {},
   "outputs": [
    {
     "name": "stdout",
     "output_type": "stream",
     "text": [
      "(1430, 1)\n",
      "float32\n"
     ]
    }
   ],
   "source": [
    "print(pmt_prob_h.shape)\n",
    "print(pmt_prob_h.dtype)"
   ]
  },
  {
   "cell_type": "code",
   "execution_count": 168,
   "metadata": {},
   "outputs": [
    {
     "name": "stdout",
     "output_type": "stream",
     "text": [
      "(1430, 144)\n",
      "float32\n"
     ]
    }
   ],
   "source": [
    "print(sipm_prob_h.shape)\n",
    "print(sipm_prob_h.dtype)"
   ]
  },
  {
   "cell_type": "markdown",
   "metadata": {},
   "source": [
    "## Create selection"
   ]
  },
  {
   "cell_type": "code",
   "execution_count": 169,
   "metadata": {
    "collapsed": true
   },
   "outputs": [],
   "source": [
    "selSens_h = rst_cuda.createSel(voxDX_h, voxDY_h, anode_response_h, sipm_dist)"
   ]
  },
  {
   "cell_type": "code",
   "execution_count": 170,
   "metadata": {},
   "outputs": [
    {
     "name": "stdout",
     "output_type": "stream",
     "text": [
      "(1430, 144)\n",
      "bool\n"
     ]
    }
   ],
   "source": [
    "print(selSens_h.shape)\n",
    "print(selSens_h.dtype)"
   ]
  },
  {
   "cell_type": "code",
   "execution_count": 171,
   "metadata": {},
   "outputs": [
    {
     "data": {
      "text/plain": [
       "(1430, 144)"
      ]
     },
     "execution_count": 171,
     "metadata": {},
     "output_type": "execute_result"
    }
   ],
   "source": [
    "voxDX_h.shape"
   ]
  },
  {
   "cell_type": "markdown",
   "metadata": {},
   "source": [
    "# Cathode response"
   ]
  },
  {
   "cell_type": "code",
   "execution_count": 172,
   "metadata": {},
   "outputs": [
    {
     "data": {
      "text/plain": [
       "array([722.64624], dtype=float32)"
      ]
     },
     "execution_count": 172,
     "metadata": {},
     "output_type": "execute_result"
    }
   ],
   "source": [
    "cath_response_h = np.array([e*ZCorr(z).value], dtype='f4')\n",
    "cath_response_h"
   ]
  },
  {
   "cell_type": "markdown",
   "metadata": {},
   "source": [
    "# MLEM step"
   ]
  },
  {
   "cell_type": "code",
   "execution_count": 173,
   "metadata": {
    "collapsed": true
   },
   "outputs": [],
   "source": [
    "import pycuda.driver as cuda\n",
    "import pycuda.autoinit\n",
    "import numpy\n",
    "from pycuda.compiler import SourceModule\n",
    "\n",
    "# Copy data to device\n",
    "voxels_d         = cuda.to_device(voxels_h)\n",
    "anode_response_d = cuda.to_device(anode_response_h)\n",
    "cath_response_d  = cuda.to_device(cath_response_h)\n",
    "pmt_prob_d      = cuda.to_device(pmt_prob_h)\n",
    "sipm_prob_d      = cuda.to_device(sipm_prob_h)\n",
    "selSens_d        = cuda.to_device(selSens_h)"
   ]
  },
  {
   "cell_type": "code",
   "execution_count": 174,
   "metadata": {
    "collapsed": true
   },
   "outputs": [],
   "source": [
    "voxels_out_d = cuda.mem_alloc(voxels_h.nbytes)"
   ]
  },
  {
   "cell_type": "code",
   "execution_count": 175,
   "metadata": {
    "collapsed": true
   },
   "outputs": [],
   "source": [
    "kernel_code = open('mlem_step.cu').read()\n",
    "mod = SourceModule(kernel_code)\n",
    "func = mod.get_function(\"mlem_step\")"
   ]
  },
  {
   "cell_type": "code",
   "execution_count": 176,
   "metadata": {},
   "outputs": [
    {
     "name": "stdout",
     "output_type": "stream",
     "text": [
      "CPU times: user 8 ms, sys: 0 ns, total: 8 ms\n",
      "Wall time: 6.02 ms\n"
     ]
    }
   ],
   "source": [
    "%%time\n",
    "\n",
    "iterations = 100\n",
    "for i in range(iterations):\n",
    "    if i > 0:\n",
    "        voxels_d, voxels_out_d = voxels_out_d, voxels_d\n",
    "    #print(i)\n",
    "    \n",
    "    func(voxels_d, voxels_out_d, anode_response_d, cath_response_d, pmt_prob_d, sipm_prob_d, selSens_d, np.int32(voxels_h.shape[0]), np.int32(144), np.int32(1), block=(1, 1, 1), grid=(voxels_h.shape[0], 1))"
   ]
  },
  {
   "cell_type": "code",
   "execution_count": 177,
   "metadata": {
    "collapsed": true
   },
   "outputs": [],
   "source": [
    "voxels_out_h = cuda.from_device(voxels_out_d, voxels_h.shape, voxels_h.dtype)"
   ]
  },
  {
   "cell_type": "code",
   "execution_count": 178,
   "metadata": {},
   "outputs": [
    {
     "data": {
      "text/plain": [
       "array([(115., 25., 8.8611463e-10), (115., 27., 1.3983978e-09),\n",
       "       (115., 29., 1.4063549e-09), ..., (193., 39., 3.0096257e-09),\n",
       "       (193., 41., 4.0246961e-09), (193., 43., 6.3468941e-09)],\n",
       "      dtype=[('x', '<f4'), ('y', '<f4'), ('E', '<f4')])"
      ]
     },
     "execution_count": 178,
     "metadata": {},
     "output_type": "execute_result"
    }
   ],
   "source": [
    "voxels_out_h"
   ]
  },
  {
   "cell_type": "code",
   "execution_count": 179,
   "metadata": {},
   "outputs": [
    {
     "name": "stdout",
     "output_type": "stream",
     "text": [
      "[(115., 25., 6.3964443) (115., 27., 6.3964443) (115., 29., 6.3964443) ...\n",
      " (193., 39., 6.3964443) (193., 41., 6.3964443) (193., 43., 6.3964443)]\n",
      "[(115., 25., 8.8611463e-10) (115., 27., 1.3983978e-09)\n",
      " (115., 29., 1.4063549e-09) ... (193., 39., 3.0096257e-09)\n",
      " (193., 41., 4.0246961e-09) (193., 43., 6.3468941e-09)]\n"
     ]
    }
   ],
   "source": [
    "print(voxels_h)\n",
    "print(voxels_out_h)"
   ]
  },
  {
   "cell_type": "code",
   "execution_count": 180,
   "metadata": {},
   "outputs": [
    {
     "data": {
      "text/plain": [
       "array([[1.15000000e+02, 1.15000000e+02, 1.15000000e+02, ...,\n",
       "        1.93000000e+02, 1.93000000e+02, 1.93000000e+02],\n",
       "       [2.50000000e+01, 2.70000000e+01, 2.90000000e+01, ...,\n",
       "        3.90000000e+01, 4.10000000e+01, 4.30000000e+01],\n",
       "       [9.67270898e-10, 1.52601679e-09, 1.53441812e-09, ...,\n",
       "        3.24263781e-09, 4.32684802e-09, 6.80715602e-09]])"
      ]
     },
     "execution_count": 180,
     "metadata": {},
     "output_type": "execute_result"
    }
   ],
   "source": [
    "imageIter"
   ]
  },
  {
   "cell_type": "markdown",
   "metadata": {},
   "source": [
    "# Plot result"
   ]
  },
  {
   "cell_type": "code",
   "execution_count": 181,
   "metadata": {},
   "outputs": [
    {
     "data": {
      "image/png": "[encoded data removed]",
      "text/plain": [
       "<matplotlib.figure.Figure at 0x7f749c5b4ef0>"
      ]
     },
     "metadata": {},
     "output_type": "display_data"
    }
   ],
   "source": [
    "binsX = 400/sizeX\n",
    "\n",
    "fig, axes = plt.subplots(1, 2, figsize=(18,6))\n",
    "fig.suptitle(\"Event {}\".format(evt))\n",
    "plt.sca(axes[0])\n",
    "_ = hist2d(voxels_h['x'], voxels_h['y'], [binsX, binsX], [[-200.,200.],[-200.,200.]], weights= voxels_h['E'], new_figure=False)\n",
    "labels(\"X (mm)\", \"Y (mm)\", \"\")\n",
    "\n",
    "plt.sca(axes[1])\n",
    "_ = hist2d(voxels_out_h['x'], voxels_out_h['y'], [binsX, binsX], [[-200.,200.],[-200.,200.]], weights= voxels_out_h['E'], new_figure=False)\n",
    "labels(\"X (mm)\", \"Y (mm)\", \"\")\n",
    "\n",
    "#plt.sca(axes[2])\n",
    "#_ = hist2d(imageIter[0], imageIter[1], [binsX, binsX], [[-200.,200.],[-200.,200.]], weights= imageIter[2], new_figure=False)\n",
    "#labels(\"X (mm)\", \"Y (mm)\", \"\")"
   ]
  },
  {
   "cell_type": "code",
   "execution_count": 210,
   "metadata": {},
   "outputs": [
    {
     "data": {
      "image/png": "[encoded data removed]",
      "text/plain": [
       "<matplotlib.figure.Figure at 0x7f748902d1d0>"
      ]
     },
     "metadata": {},
     "output_type": "display_data"
    }
   ],
   "source": [
    "binsX = 400/sizeX\n",
    "\n",
    "xs = DataSiPM.X[np.array(slice_[0])].values\n",
    "ys = DataSiPM.Y[np.array(slice_[0])].values\n",
    "charges = sens_q\n",
    "\n",
    "fig, axes = plt.subplots(1, 2, figsize=(18,6))\n",
    "fig.suptitle(\"Event {}\".format(evt))\n",
    "plt.sca(axes[0])\n",
    "_ = hist2d(xs, ys, [binsX, binsX], [[-200.,200.],[-200.,200.]], weights= charges, new_figure=False)\n",
    "labels(\"X (mm)\", \"Y (mm)\", \"\")\n",
    "\n",
    "plt.sca(axes[1])\n",
    "_ = hist2d(voxels_out_h['x'], voxels_out_h['y'], [binsX, binsX], [[-200.,200.],[-200.,200.]], weights= voxels_out_h['E'], new_figure=False)\n",
    "labels(\"X (mm)\", \"Y (mm)\", \"\")\n"
   ]
  },
  {
   "cell_type": "code",
   "execution_count": null,
   "metadata": {
    "collapsed": true
   },
   "outputs": [],
   "source": []
  }
 ],
 "metadata": {
  "kernelspec": {
   "display_name": "Python 3",
   "language": "python",
   "name": "python3"
  },
  "language_info": {
   "codemirror_mode": {
    "name": "ipython",
    "version": 3
   },
   "file_extension": ".py",
   "mimetype": "text/x-python",
   "name": "python",
   "nbconvert_exporter": "python",
   "pygments_lexer": "ipython3",
   "version": "3.6.2"
  }
 },
 "nbformat": 4,
 "nbformat_minor": 2
}
