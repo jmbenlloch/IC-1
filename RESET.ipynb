{
 "cells": [
  {
   "cell_type": "code",
   "execution_count": 1,
   "metadata": {
    "collapsed": true
   },
   "outputs": [],
   "source": [
    "import glob\n",
    "\n",
    "run_number = 4495#\"MC/Kr\"\n",
    "map_run_number = 4446\n",
    "outputfolder = '/home/jmbenlloch/reset_data/4495/dsts'\n",
    "inputfiles = glob.glob(\"/home/jmbenlloch/reset_data/4495/pmaps/pmaps*.root.h5\")"
   ]
  },
  {
   "cell_type": "code",
   "execution_count": 2,
   "metadata": {},
   "outputs": [
    {
     "data": {
      "text/plain": [
       "['/home/jmbenlloch/reset_data/4495/pmaps/pmaps.gdcsnext.245_4495.root.h5',\n",
       " '/home/jmbenlloch/reset_data/4495/pmaps/pmaps.gdcsnext.096_4495.root.h5',\n",
       " '/home/jmbenlloch/reset_data/4495/pmaps/pmaps.gdcsnext.498_4495.root.h5',\n",
       " '/home/jmbenlloch/reset_data/4495/pmaps/pmaps.gdcsnext.317_4495.root.h5',\n",
       " '/home/jmbenlloch/reset_data/4495/pmaps/pmaps.gdcsnext.203_4495.root.h5',\n",
       " '/home/jmbenlloch/reset_data/4495/pmaps/pmaps.gdcsnext.700_4495.root.h5',\n",
       " '/home/jmbenlloch/reset_data/4495/pmaps/pmaps.gdcsnext.873_4495.root.h5',\n",
       " '/home/jmbenlloch/reset_data/4495/pmaps/pmaps.gdcsnext.760_4495.root.h5',\n",
       " '/home/jmbenlloch/reset_data/4495/pmaps/pmaps.gdcsnext.112_4495.root.h5',\n",
       " '/home/jmbenlloch/reset_data/4495/pmaps/pmaps.gdcsnext.653_4495.root.h5',\n",
       " '/home/jmbenlloch/reset_data/4495/pmaps/pmaps.gdcsnext.841_4495.root.h5',\n",
       " '/home/jmbenlloch/reset_data/4495/pmaps/pmaps.gdcsnext.860_4495.root.h5',\n",
       " '/home/jmbenlloch/reset_data/4495/pmaps/pmaps.gdcsnext.763_4495.root.h5',\n",
       " '/home/jmbenlloch/reset_data/4495/pmaps/pmaps.gdcsnext.301_4495.root.h5',\n",
       " '/home/jmbenlloch/reset_data/4495/pmaps/pmaps.gdcsnext.046_4495.root.h5',\n",
       " '/home/jmbenlloch/reset_data/4495/pmaps/pmaps.gdcsnext.627_4495.root.h5',\n",
       " '/home/jmbenlloch/reset_data/4495/pmaps/pmaps.gdcsnext.909_4495.root.h5',\n",
       " '/home/jmbenlloch/reset_data/4495/pmaps/pmaps.gdcsnext.601_4495.root.h5',\n",
       " '/home/jmbenlloch/reset_data/4495/pmaps/pmaps.gdcsnext.482_4495.root.h5',\n",
       " '/home/jmbenlloch/reset_data/4495/pmaps/pmaps.gdcsnext.469_4495.root.h5',\n",
       " '/home/jmbenlloch/reset_data/4495/pmaps/pmaps.gdcsnext.284_4495.root.h5',\n",
       " '/home/jmbenlloch/reset_data/4495/pmaps/pmaps.gdcsnext.089_4495.root.h5',\n",
       " '/home/jmbenlloch/reset_data/4495/pmaps/pmaps.gdcsnext.765_4495.root.h5',\n",
       " '/home/jmbenlloch/reset_data/4495/pmaps/pmaps.gdcsnext.790_4495.root.h5',\n",
       " '/home/jmbenlloch/reset_data/4495/pmaps/pmaps.gdcsnext.682_4495.root.h5',\n",
       " '/home/jmbenlloch/reset_data/4495/pmaps/pmaps.gdcsnext.742_4495.root.h5',\n",
       " '/home/jmbenlloch/reset_data/4495/pmaps/pmaps.gdcsnext.889_4495.root.h5',\n",
       " '/home/jmbenlloch/reset_data/4495/pmaps/pmaps.gdcsnext.188_4495.root.h5',\n",
       " '/home/jmbenlloch/reset_data/4495/pmaps/pmaps.gdcsnext.270_4495.root.h5',\n",
       " '/home/jmbenlloch/reset_data/4495/pmaps/pmaps.gdcsnext.432_4495.root.h5',\n",
       " '/home/jmbenlloch/reset_data/4495/pmaps/pmaps.gdcsnext.126_4495.root.h5',\n",
       " '/home/jmbenlloch/reset_data/4495/pmaps/pmaps.gdcsnext.288_4495.root.h5',\n",
       " '/home/jmbenlloch/reset_data/4495/pmaps/pmaps.gdcsnext.313_4495.root.h5',\n",
       " '/home/jmbenlloch/reset_data/4495/pmaps/pmaps.gdcsnext.215_4495.root.h5',\n",
       " '/home/jmbenlloch/reset_data/4495/pmaps/pmaps.gdcsnext.117_4495.root.h5',\n",
       " '/home/jmbenlloch/reset_data/4495/pmaps/pmaps.gdcsnext.807_4495.root.h5',\n",
       " '/home/jmbenlloch/reset_data/4495/pmaps/pmaps.gdcsnext.796_4495.root.h5',\n",
       " '/home/jmbenlloch/reset_data/4495/pmaps/pmaps.gdcsnext.820_4495.root.h5',\n",
       " '/home/jmbenlloch/reset_data/4495/pmaps/pmaps.gdcsnext.220_4495.root.h5',\n",
       " '/home/jmbenlloch/reset_data/4495/pmaps/pmaps.gdcsnext.701_4495.root.h5',\n",
       " '/home/jmbenlloch/reset_data/4495/pmaps/pmaps.gdcsnext.384_4495.root.h5',\n",
       " '/home/jmbenlloch/reset_data/4495/pmaps/pmaps.gdcsnext.552_4495.root.h5',\n",
       " '/home/jmbenlloch/reset_data/4495/pmaps/pmaps.gdcsnext.778_4495.root.h5',\n",
       " '/home/jmbenlloch/reset_data/4495/pmaps/pmaps.gdcsnext.049_4495.root.h5',\n",
       " '/home/jmbenlloch/reset_data/4495/pmaps/pmaps.gdcsnext.099_4495.root.h5',\n",
       " '/home/jmbenlloch/reset_data/4495/pmaps/pmaps.gdcsnext.893_4495.root.h5',\n",
       " '/home/jmbenlloch/reset_data/4495/pmaps/pmaps.gdcsnext.302_4495.root.h5',\n",
       " '/home/jmbenlloch/reset_data/4495/pmaps/pmaps.gdcsnext.610_4495.root.h5',\n",
       " '/home/jmbenlloch/reset_data/4495/pmaps/pmaps.gdcsnext.412_4495.root.h5',\n",
       " '/home/jmbenlloch/reset_data/4495/pmaps/pmaps.gdcsnext.292_4495.root.h5',\n",
       " '/home/jmbenlloch/reset_data/4495/pmaps/pmaps.gdcsnext.608_4495.root.h5',\n",
       " '/home/jmbenlloch/reset_data/4495/pmaps/pmaps.gdcsnext.551_4495.root.h5',\n",
       " '/home/jmbenlloch/reset_data/4495/pmaps/pmaps.gdcsnext.888_4495.root.h5',\n",
       " '/home/jmbenlloch/reset_data/4495/pmaps/pmaps.gdcsnext.323_4495.root.h5',\n",
       " '/home/jmbenlloch/reset_data/4495/pmaps/pmaps.gdcsnext.619_4495.root.h5',\n",
       " '/home/jmbenlloch/reset_data/4495/pmaps/pmaps.gdcsnext.749_4495.root.h5',\n",
       " '/home/jmbenlloch/reset_data/4495/pmaps/pmaps.gdcsnext.856_4495.root.h5',\n",
       " '/home/jmbenlloch/reset_data/4495/pmaps/pmaps.gdcsnext.001_4495.root.h5',\n",
       " '/home/jmbenlloch/reset_data/4495/pmaps/pmaps.gdcsnext.439_4495.root.h5',\n",
       " '/home/jmbenlloch/reset_data/4495/pmaps/pmaps.gdcsnext.571_4495.root.h5',\n",
       " '/home/jmbenlloch/reset_data/4495/pmaps/pmaps.gdcsnext.922_4495.root.h5',\n",
       " '/home/jmbenlloch/reset_data/4495/pmaps/pmaps.gdcsnext.939_4495.root.h5',\n",
       " '/home/jmbenlloch/reset_data/4495/pmaps/pmaps.gdcsnext.697_4495.root.h5',\n",
       " '/home/jmbenlloch/reset_data/4495/pmaps/pmaps.gdcsnext.580_4495.root.h5',\n",
       " '/home/jmbenlloch/reset_data/4495/pmaps/pmaps.gdcsnext.636_4495.root.h5',\n",
       " '/home/jmbenlloch/reset_data/4495/pmaps/pmaps.gdcsnext.547_4495.root.h5',\n",
       " '/home/jmbenlloch/reset_data/4495/pmaps/pmaps.gdcsnext.883_4495.root.h5',\n",
       " '/home/jmbenlloch/reset_data/4495/pmaps/pmaps.gdcsnext.904_4495.root.h5',\n",
       " '/home/jmbenlloch/reset_data/4495/pmaps/pmaps.gdcsnext.444_4495.root.h5',\n",
       " '/home/jmbenlloch/reset_data/4495/pmaps/pmaps.gdcsnext.617_4495.root.h5',\n",
       " '/home/jmbenlloch/reset_data/4495/pmaps/pmaps.gdcsnext.869_4495.root.h5',\n",
       " '/home/jmbenlloch/reset_data/4495/pmaps/pmaps.gdcsnext.734_4495.root.h5',\n",
       " '/home/jmbenlloch/reset_data/4495/pmaps/pmaps.gdcsnext.324_4495.root.h5',\n",
       " '/home/jmbenlloch/reset_data/4495/pmaps/pmaps.gdcsnext.910_4495.root.h5',\n",
       " '/home/jmbenlloch/reset_data/4495/pmaps/pmaps.gdcsnext.340_4495.root.h5',\n",
       " '/home/jmbenlloch/reset_data/4495/pmaps/pmaps.gdcsnext.730_4495.root.h5',\n",
       " '/home/jmbenlloch/reset_data/4495/pmaps/pmaps.gdcsnext.737_4495.root.h5',\n",
       " '/home/jmbenlloch/reset_data/4495/pmaps/pmaps.gdcsnext.431_4495.root.h5',\n",
       " '/home/jmbenlloch/reset_data/4495/pmaps/pmaps.gdcsnext.891_4495.root.h5',\n",
       " '/home/jmbenlloch/reset_data/4495/pmaps/pmaps.gdcsnext.355_4495.root.h5',\n",
       " '/home/jmbenlloch/reset_data/4495/pmaps/pmaps.gdcsnext.645_4495.root.h5',\n",
       " '/home/jmbenlloch/reset_data/4495/pmaps/pmaps.gdcsnext.698_4495.root.h5',\n",
       " '/home/jmbenlloch/reset_data/4495/pmaps/pmaps.gdcsnext.793_4495.root.h5',\n",
       " '/home/jmbenlloch/reset_data/4495/pmaps/pmaps.gdcsnext.804_4495.root.h5',\n",
       " '/home/jmbenlloch/reset_data/4495/pmaps/pmaps.gdcsnext.200_4495.root.h5',\n",
       " '/home/jmbenlloch/reset_data/4495/pmaps/pmaps.gdcsnext.405_4495.root.h5',\n",
       " '/home/jmbenlloch/reset_data/4495/pmaps/pmaps.gdcsnext.000_4495.root.h5',\n",
       " '/home/jmbenlloch/reset_data/4495/pmaps/pmaps.gdcsnext.907_4495.root.h5',\n",
       " '/home/jmbenlloch/reset_data/4495/pmaps/pmaps.gdcsnext.573_4495.root.h5',\n",
       " '/home/jmbenlloch/reset_data/4495/pmaps/pmaps.gdcsnext.015_4495.root.h5',\n",
       " '/home/jmbenlloch/reset_data/4495/pmaps/pmaps.gdcsnext.159_4495.root.h5',\n",
       " '/home/jmbenlloch/reset_data/4495/pmaps/pmaps.gdcsnext.240_4495.root.h5',\n",
       " '/home/jmbenlloch/reset_data/4495/pmaps/pmaps.gdcsnext.675_4495.root.h5',\n",
       " '/home/jmbenlloch/reset_data/4495/pmaps/pmaps.gdcsnext.438_4495.root.h5',\n",
       " '/home/jmbenlloch/reset_data/4495/pmaps/pmaps.gdcsnext.472_4495.root.h5',\n",
       " '/home/jmbenlloch/reset_data/4495/pmaps/pmaps.gdcsnext.616_4495.root.h5',\n",
       " '/home/jmbenlloch/reset_data/4495/pmaps/pmaps.gdcsnext.586_4495.root.h5',\n",
       " '/home/jmbenlloch/reset_data/4495/pmaps/pmaps.gdcsnext.183_4495.root.h5',\n",
       " '/home/jmbenlloch/reset_data/4495/pmaps/pmaps.gdcsnext.496_4495.root.h5',\n",
       " '/home/jmbenlloch/reset_data/4495/pmaps/pmaps.gdcsnext.786_4495.root.h5',\n",
       " '/home/jmbenlloch/reset_data/4495/pmaps/pmaps.gdcsnext.747_4495.root.h5',\n",
       " '/home/jmbenlloch/reset_data/4495/pmaps/pmaps.gdcsnext.419_4495.root.h5',\n",
       " '/home/jmbenlloch/reset_data/4495/pmaps/pmaps.gdcsnext.652_4495.root.h5',\n",
       " '/home/jmbenlloch/reset_data/4495/pmaps/pmaps.gdcsnext.690_4495.root.h5',\n",
       " '/home/jmbenlloch/reset_data/4495/pmaps/pmaps.gdcsnext.792_4495.root.h5',\n",
       " '/home/jmbenlloch/reset_data/4495/pmaps/pmaps.gdcsnext.630_4495.root.h5',\n",
       " '/home/jmbenlloch/reset_data/4495/pmaps/pmaps.gdcsnext.092_4495.root.h5',\n",
       " '/home/jmbenlloch/reset_data/4495/pmaps/pmaps.gdcsnext.272_4495.root.h5',\n",
       " '/home/jmbenlloch/reset_data/4495/pmaps/pmaps.gdcsnext.880_4495.root.h5',\n",
       " '/home/jmbenlloch/reset_data/4495/pmaps/pmaps.gdcsnext.174_4495.root.h5',\n",
       " '/home/jmbenlloch/reset_data/4495/pmaps/pmaps.gdcsnext.427_4495.root.h5',\n",
       " '/home/jmbenlloch/reset_data/4495/pmaps/pmaps.gdcsnext.568_4495.root.h5',\n",
       " '/home/jmbenlloch/reset_data/4495/pmaps/pmaps.gdcsnext.406_4495.root.h5',\n",
       " '/home/jmbenlloch/reset_data/4495/pmaps/pmaps.gdcsnext.569_4495.root.h5',\n",
       " '/home/jmbenlloch/reset_data/4495/pmaps/pmaps.gdcsnext.759_4495.root.h5',\n",
       " '/home/jmbenlloch/reset_data/4495/pmaps/pmaps.gdcsnext.409_4495.root.h5',\n",
       " '/home/jmbenlloch/reset_data/4495/pmaps/pmaps.gdcsnext.814_4495.root.h5',\n",
       " '/home/jmbenlloch/reset_data/4495/pmaps/pmaps.gdcsnext.121_4495.root.h5',\n",
       " '/home/jmbenlloch/reset_data/4495/pmaps/pmaps.gdcsnext.902_4495.root.h5',\n",
       " '/home/jmbenlloch/reset_data/4495/pmaps/pmaps.gdcsnext.540_4495.root.h5',\n",
       " '/home/jmbenlloch/reset_data/4495/pmaps/pmaps.gdcsnext.094_4495.root.h5',\n",
       " '/home/jmbenlloch/reset_data/4495/pmaps/pmaps.gdcsnext.560_4495.root.h5',\n",
       " '/home/jmbenlloch/reset_data/4495/pmaps/pmaps.gdcsnext.360_4495.root.h5',\n",
       " '/home/jmbenlloch/reset_data/4495/pmaps/pmaps.gdcsnext.402_4495.root.h5',\n",
       " '/home/jmbenlloch/reset_data/4495/pmaps/pmaps.gdcsnext.084_4495.root.h5',\n",
       " '/home/jmbenlloch/reset_data/4495/pmaps/pmaps.gdcsnext.130_4495.root.h5',\n",
       " '/home/jmbenlloch/reset_data/4495/pmaps/pmaps.gdcsnext.246_4495.root.h5',\n",
       " '/home/jmbenlloch/reset_data/4495/pmaps/pmaps.gdcsnext.714_4495.root.h5',\n",
       " '/home/jmbenlloch/reset_data/4495/pmaps/pmaps.gdcsnext.300_4495.root.h5',\n",
       " '/home/jmbenlloch/reset_data/4495/pmaps/pmaps.gdcsnext.383_4495.root.h5',\n",
       " '/home/jmbenlloch/reset_data/4495/pmaps/pmaps.gdcsnext.101_4495.root.h5',\n",
       " '/home/jmbenlloch/reset_data/4495/pmaps/pmaps.gdcsnext.152_4495.root.h5',\n",
       " '/home/jmbenlloch/reset_data/4495/pmaps/pmaps.gdcsnext.294_4495.root.h5',\n",
       " '/home/jmbenlloch/reset_data/4495/pmaps/pmaps.gdcsnext.350_4495.root.h5',\n",
       " '/home/jmbenlloch/reset_data/4495/pmaps/pmaps.gdcsnext.434_4495.root.h5',\n",
       " '/home/jmbenlloch/reset_data/4495/pmaps/pmaps.gdcsnext.545_4495.root.h5',\n",
       " '/home/jmbenlloch/reset_data/4495/pmaps/pmaps.gdcsnext.819_4495.root.h5',\n",
       " '/home/jmbenlloch/reset_data/4495/pmaps/pmaps.gdcsnext.372_4495.root.h5',\n",
       " '/home/jmbenlloch/reset_data/4495/pmaps/pmaps.gdcsnext.770_4495.root.h5',\n",
       " '/home/jmbenlloch/reset_data/4495/pmaps/pmaps.gdcsnext.758_4495.root.h5',\n",
       " '/home/jmbenlloch/reset_data/4495/pmaps/pmaps.gdcsnext.222_4495.root.h5',\n",
       " '/home/jmbenlloch/reset_data/4495/pmaps/pmaps.gdcsnext.265_4495.root.h5',\n",
       " '/home/jmbenlloch/reset_data/4495/pmaps/pmaps.gdcsnext.397_4495.root.h5',\n",
       " '/home/jmbenlloch/reset_data/4495/pmaps/pmaps.gdcsnext.711_4495.root.h5',\n",
       " '/home/jmbenlloch/reset_data/4495/pmaps/pmaps.gdcsnext.392_4495.root.h5',\n",
       " '/home/jmbenlloch/reset_data/4495/pmaps/pmaps.gdcsnext.309_4495.root.h5',\n",
       " '/home/jmbenlloch/reset_data/4495/pmaps/pmaps.gdcsnext.605_4495.root.h5',\n",
       " '/home/jmbenlloch/reset_data/4495/pmaps/pmaps.gdcsnext.633_4495.root.h5',\n",
       " '/home/jmbenlloch/reset_data/4495/pmaps/pmaps.gdcsnext.843_4495.root.h5',\n",
       " '/home/jmbenlloch/reset_data/4495/pmaps/pmaps.gdcsnext.473_4495.root.h5',\n",
       " '/home/jmbenlloch/reset_data/4495/pmaps/pmaps.gdcsnext.840_4495.root.h5',\n",
       " '/home/jmbenlloch/reset_data/4495/pmaps/pmaps.gdcsnext.488_4495.root.h5',\n",
       " '/home/jmbenlloch/reset_data/4495/pmaps/pmaps.gdcsnext.348_4495.root.h5',\n",
       " '/home/jmbenlloch/reset_data/4495/pmaps/pmaps.gdcsnext.214_4495.root.h5',\n",
       " '/home/jmbenlloch/reset_data/4495/pmaps/pmaps.gdcsnext.535_4495.root.h5',\n",
       " '/home/jmbenlloch/reset_data/4495/pmaps/pmaps.gdcsnext.338_4495.root.h5',\n",
       " '/home/jmbenlloch/reset_data/4495/pmaps/pmaps.gdcsnext.128_4495.root.h5',\n",
       " '/home/jmbenlloch/reset_data/4495/pmaps/pmaps.gdcsnext.448_4495.root.h5',\n",
       " '/home/jmbenlloch/reset_data/4495/pmaps/pmaps.gdcsnext.757_4495.root.h5',\n",
       " '/home/jmbenlloch/reset_data/4495/pmaps/pmaps.gdcsnext.944_4495.root.h5',\n",
       " '/home/jmbenlloch/reset_data/4495/pmaps/pmaps.gdcsnext.218_4495.root.h5',\n",
       " '/home/jmbenlloch/reset_data/4495/pmaps/pmaps.gdcsnext.595_4495.root.h5',\n",
       " '/home/jmbenlloch/reset_data/4495/pmaps/pmaps.gdcsnext.164_4495.root.h5',\n",
       " '/home/jmbenlloch/reset_data/4495/pmaps/pmaps.gdcsnext.849_4495.root.h5',\n",
       " '/home/jmbenlloch/reset_data/4495/pmaps/pmaps.gdcsnext.349_4495.root.h5',\n",
       " '/home/jmbenlloch/reset_data/4495/pmaps/pmaps.gdcsnext.464_4495.root.h5',\n",
       " '/home/jmbenlloch/reset_data/4495/pmaps/pmaps.gdcsnext.193_4495.root.h5',\n",
       " '/home/jmbenlloch/reset_data/4495/pmaps/pmaps.gdcsnext.736_4495.root.h5',\n",
       " '/home/jmbenlloch/reset_data/4495/pmaps/pmaps.gdcsnext.072_4495.root.h5',\n",
       " '/home/jmbenlloch/reset_data/4495/pmaps/pmaps.gdcsnext.672_4495.root.h5',\n",
       " '/home/jmbenlloch/reset_data/4495/pmaps/pmaps.gdcsnext.450_4495.root.h5',\n",
       " '/home/jmbenlloch/reset_data/4495/pmaps/pmaps.gdcsnext.086_4495.root.h5',\n",
       " '/home/jmbenlloch/reset_data/4495/pmaps/pmaps.gdcsnext.825_4495.root.h5',\n",
       " '/home/jmbenlloch/reset_data/4495/pmaps/pmaps.gdcsnext.042_4495.root.h5',\n",
       " '/home/jmbenlloch/reset_data/4495/pmaps/pmaps.gdcsnext.800_4495.root.h5',\n",
       " '/home/jmbenlloch/reset_data/4495/pmaps/pmaps.gdcsnext.732_4495.root.h5',\n",
       " '/home/jmbenlloch/reset_data/4495/pmaps/pmaps.gdcsnext.774_4495.root.h5',\n",
       " '/home/jmbenlloch/reset_data/4495/pmaps/pmaps.gdcsnext.729_4495.root.h5',\n",
       " '/home/jmbenlloch/reset_data/4495/pmaps/pmaps.gdcsnext.262_4495.root.h5',\n",
       " '/home/jmbenlloch/reset_data/4495/pmaps/pmaps.gdcsnext.640_4495.root.h5',\n",
       " '/home/jmbenlloch/reset_data/4495/pmaps/pmaps.gdcsnext.738_4495.root.h5',\n",
       " '/home/jmbenlloch/reset_data/4495/pmaps/pmaps.gdcsnext.125_4495.root.h5',\n",
       " '/home/jmbenlloch/reset_data/4495/pmaps/pmaps.gdcsnext.704_4495.root.h5',\n",
       " '/home/jmbenlloch/reset_data/4495/pmaps/pmaps.gdcsnext.422_4495.root.h5',\n",
       " '/home/jmbenlloch/reset_data/4495/pmaps/pmaps.gdcsnext.282_4495.root.h5',\n",
       " '/home/jmbenlloch/reset_data/4495/pmaps/pmaps.gdcsnext.523_4495.root.h5',\n",
       " '/home/jmbenlloch/reset_data/4495/pmaps/pmaps.gdcsnext.752_4495.root.h5',\n",
       " '/home/jmbenlloch/reset_data/4495/pmaps/pmaps.gdcsnext.660_4495.root.h5',\n",
       " '/home/jmbenlloch/reset_data/4495/pmaps/pmaps.gdcsnext.561_4495.root.h5',\n",
       " '/home/jmbenlloch/reset_data/4495/pmaps/pmaps.gdcsnext.485_4495.root.h5',\n",
       " '/home/jmbenlloch/reset_data/4495/pmaps/pmaps.gdcsnext.925_4495.root.h5',\n",
       " '/home/jmbenlloch/reset_data/4495/pmaps/pmaps.gdcsnext.846_4495.root.h5',\n",
       " '/home/jmbenlloch/reset_data/4495/pmaps/pmaps.gdcsnext.805_4495.root.h5',\n",
       " '/home/jmbenlloch/reset_data/4495/pmaps/pmaps.gdcsnext.441_4495.root.h5',\n",
       " '/home/jmbenlloch/reset_data/4495/pmaps/pmaps.gdcsnext.612_4495.root.h5',\n",
       " '/home/jmbenlloch/reset_data/4495/pmaps/pmaps.gdcsnext.862_4495.root.h5',\n",
       " '/home/jmbenlloch/reset_data/4495/pmaps/pmaps.gdcsnext.320_4495.root.h5',\n",
       " '/home/jmbenlloch/reset_data/4495/pmaps/pmaps.gdcsnext.315_4495.root.h5',\n",
       " '/home/jmbenlloch/reset_data/4495/pmaps/pmaps.gdcsnext.041_4495.root.h5',\n",
       " '/home/jmbenlloch/reset_data/4495/pmaps/pmaps.gdcsnext.703_4495.root.h5',\n",
       " '/home/jmbenlloch/reset_data/4495/pmaps/pmaps.gdcsnext.661_4495.root.h5',\n",
       " '/home/jmbenlloch/reset_data/4495/pmaps/pmaps.gdcsnext.110_4495.root.h5',\n",
       " '/home/jmbenlloch/reset_data/4495/pmaps/pmaps.gdcsnext.451_4495.root.h5',\n",
       " '/home/jmbenlloch/reset_data/4495/pmaps/pmaps.gdcsnext.285_4495.root.h5',\n",
       " '/home/jmbenlloch/reset_data/4495/pmaps/pmaps.gdcsnext.358_4495.root.h5',\n",
       " '/home/jmbenlloch/reset_data/4495/pmaps/pmaps.gdcsnext.646_4495.root.h5',\n",
       " '/home/jmbenlloch/reset_data/4495/pmaps/pmaps.gdcsnext.255_4495.root.h5',\n",
       " '/home/jmbenlloch/reset_data/4495/pmaps/pmaps.gdcsnext.837_4495.root.h5',\n",
       " '/home/jmbenlloch/reset_data/4495/pmaps/pmaps.gdcsnext.911_4495.root.h5',\n",
       " '/home/jmbenlloch/reset_data/4495/pmaps/pmaps.gdcsnext.396_4495.root.h5',\n",
       " '/home/jmbenlloch/reset_data/4495/pmaps/pmaps.gdcsnext.069_4495.root.h5',\n",
       " '/home/jmbenlloch/reset_data/4495/pmaps/pmaps.gdcsnext.244_4495.root.h5',\n",
       " '/home/jmbenlloch/reset_data/4495/pmaps/pmaps.gdcsnext.803_4495.root.h5',\n",
       " '/home/jmbenlloch/reset_data/4495/pmaps/pmaps.gdcsnext.170_4495.root.h5',\n",
       " '/home/jmbenlloch/reset_data/4495/pmaps/pmaps.gdcsnext.928_4495.root.h5',\n",
       " '/home/jmbenlloch/reset_data/4495/pmaps/pmaps.gdcsnext.514_4495.root.h5',\n",
       " '/home/jmbenlloch/reset_data/4495/pmaps/pmaps.gdcsnext.011_4495.root.h5',\n",
       " '/home/jmbenlloch/reset_data/4495/pmaps/pmaps.gdcsnext.812_4495.root.h5',\n",
       " '/home/jmbenlloch/reset_data/4495/pmaps/pmaps.gdcsnext.299_4495.root.h5',\n",
       " '/home/jmbenlloch/reset_data/4495/pmaps/pmaps.gdcsnext.626_4495.root.h5',\n",
       " '/home/jmbenlloch/reset_data/4495/pmaps/pmaps.gdcsnext.374_4495.root.h5',\n",
       " '/home/jmbenlloch/reset_data/4495/pmaps/pmaps.gdcsnext.624_4495.root.h5',\n",
       " '/home/jmbenlloch/reset_data/4495/pmaps/pmaps.gdcsnext.226_4495.root.h5',\n",
       " '/home/jmbenlloch/reset_data/4495/pmaps/pmaps.gdcsnext.606_4495.root.h5',\n",
       " '/home/jmbenlloch/reset_data/4495/pmaps/pmaps.gdcsnext.864_4495.root.h5',\n",
       " '/home/jmbenlloch/reset_data/4495/pmaps/pmaps.gdcsnext.260_4495.root.h5',\n",
       " '/home/jmbenlloch/reset_data/4495/pmaps/pmaps.gdcsnext.008_4495.root.h5',\n",
       " '/home/jmbenlloch/reset_data/4495/pmaps/pmaps.gdcsnext.088_4495.root.h5',\n",
       " '/home/jmbenlloch/reset_data/4495/pmaps/pmaps.gdcsnext.389_4495.root.h5',\n",
       " '/home/jmbenlloch/reset_data/4495/pmaps/pmaps.gdcsnext.258_4495.root.h5',\n",
       " '/home/jmbenlloch/reset_data/4495/pmaps/pmaps.gdcsnext.632_4495.root.h5',\n",
       " '/home/jmbenlloch/reset_data/4495/pmaps/pmaps.gdcsnext.501_4495.root.h5',\n",
       " '/home/jmbenlloch/reset_data/4495/pmaps/pmaps.gdcsnext.930_4495.root.h5',\n",
       " '/home/jmbenlloch/reset_data/4495/pmaps/pmaps.gdcsnext.830_4495.root.h5',\n",
       " '/home/jmbenlloch/reset_data/4495/pmaps/pmaps.gdcsnext.416_4495.root.h5',\n",
       " '/home/jmbenlloch/reset_data/4495/pmaps/pmaps.gdcsnext.048_4495.root.h5',\n",
       " '/home/jmbenlloch/reset_data/4495/pmaps/pmaps.gdcsnext.885_4495.root.h5',\n",
       " '/home/jmbenlloch/reset_data/4495/pmaps/pmaps.gdcsnext.671_4495.root.h5',\n",
       " '/home/jmbenlloch/reset_data/4495/pmaps/pmaps.gdcsnext.252_4495.root.h5',\n",
       " '/home/jmbenlloch/reset_data/4495/pmaps/pmaps.gdcsnext.394_4495.root.h5',\n",
       " '/home/jmbenlloch/reset_data/4495/pmaps/pmaps.gdcsnext.465_4495.root.h5',\n",
       " '/home/jmbenlloch/reset_data/4495/pmaps/pmaps.gdcsnext.073_4495.root.h5',\n",
       " '/home/jmbenlloch/reset_data/4495/pmaps/pmaps.gdcsnext.842_4495.root.h5',\n",
       " '/home/jmbenlloch/reset_data/4495/pmaps/pmaps.gdcsnext.053_4495.root.h5',\n",
       " '/home/jmbenlloch/reset_data/4495/pmaps/pmaps.gdcsnext.079_4495.root.h5',\n",
       " '/home/jmbenlloch/reset_data/4495/pmaps/pmaps.gdcsnext.779_4495.root.h5',\n",
       " '/home/jmbenlloch/reset_data/4495/pmaps/pmaps.gdcsnext.403_4495.root.h5',\n",
       " '/home/jmbenlloch/reset_data/4495/pmaps/pmaps.gdcsnext.366_4495.root.h5',\n",
       " '/home/jmbenlloch/reset_data/4495/pmaps/pmaps.gdcsnext.169_4495.root.h5',\n",
       " '/home/jmbenlloch/reset_data/4495/pmaps/pmaps.gdcsnext.908_4495.root.h5',\n",
       " '/home/jmbenlloch/reset_data/4495/pmaps/pmaps.gdcsnext.136_4495.root.h5',\n",
       " '/home/jmbenlloch/reset_data/4495/pmaps/pmaps.gdcsnext.769_4495.root.h5',\n",
       " '/home/jmbenlloch/reset_data/4495/pmaps/pmaps.gdcsnext.622_4495.root.h5',\n",
       " '/home/jmbenlloch/reset_data/4495/pmaps/pmaps.gdcsnext.659_4495.root.h5',\n",
       " '/home/jmbenlloch/reset_data/4495/pmaps/pmaps.gdcsnext.100_4495.root.h5',\n",
       " '/home/jmbenlloch/reset_data/4495/pmaps/pmaps.gdcsnext.475_4495.root.h5',\n",
       " '/home/jmbenlloch/reset_data/4495/pmaps/pmaps.gdcsnext.336_4495.root.h5',\n",
       " '/home/jmbenlloch/reset_data/4495/pmaps/pmaps.gdcsnext.286_4495.root.h5',\n",
       " '/home/jmbenlloch/reset_data/4495/pmaps/pmaps.gdcsnext.030_4495.root.h5',\n",
       " '/home/jmbenlloch/reset_data/4495/pmaps/pmaps.gdcsnext.425_4495.root.h5',\n",
       " '/home/jmbenlloch/reset_data/4495/pmaps/pmaps.gdcsnext.550_4495.root.h5',\n",
       " '/home/jmbenlloch/reset_data/4495/pmaps/pmaps.gdcsnext.176_4495.root.h5',\n",
       " '/home/jmbenlloch/reset_data/4495/pmaps/pmaps.gdcsnext.305_4495.root.h5',\n",
       " '/home/jmbenlloch/reset_data/4495/pmaps/pmaps.gdcsnext.489_4495.root.h5',\n",
       " '/home/jmbenlloch/reset_data/4495/pmaps/pmaps.gdcsnext.844_4495.root.h5',\n",
       " '/home/jmbenlloch/reset_data/4495/pmaps/pmaps.gdcsnext.581_4495.root.h5',\n",
       " '/home/jmbenlloch/reset_data/4495/pmaps/pmaps.gdcsnext.867_4495.root.h5',\n",
       " '/home/jmbenlloch/reset_data/4495/pmaps/pmaps.gdcsnext.076_4495.root.h5',\n",
       " '/home/jmbenlloch/reset_data/4495/pmaps/pmaps.gdcsnext.831_4495.root.h5',\n",
       " '/home/jmbenlloch/reset_data/4495/pmaps/pmaps.gdcsnext.794_4495.root.h5',\n",
       " '/home/jmbenlloch/reset_data/4495/pmaps/pmaps.gdcsnext.080_4495.root.h5',\n",
       " '/home/jmbenlloch/reset_data/4495/pmaps/pmaps.gdcsnext.279_4495.root.h5',\n",
       " '/home/jmbenlloch/reset_data/4495/pmaps/pmaps.gdcsnext.304_4495.root.h5',\n",
       " '/home/jmbenlloch/reset_data/4495/pmaps/pmaps.gdcsnext.495_4495.root.h5',\n",
       " '/home/jmbenlloch/reset_data/4495/pmaps/pmaps.gdcsnext.533_4495.root.h5',\n",
       " '/home/jmbenlloch/reset_data/4495/pmaps/pmaps.gdcsnext.767_4495.root.h5',\n",
       " '/home/jmbenlloch/reset_data/4495/pmaps/pmaps.gdcsnext.057_4495.root.h5',\n",
       " '/home/jmbenlloch/reset_data/4495/pmaps/pmaps.gdcsnext.529_4495.root.h5',\n",
       " '/home/jmbenlloch/reset_data/4495/pmaps/pmaps.gdcsnext.694_4495.root.h5',\n",
       " '/home/jmbenlloch/reset_data/4495/pmaps/pmaps.gdcsnext.559_4495.root.h5',\n",
       " '/home/jmbenlloch/reset_data/4495/pmaps/pmaps.gdcsnext.248_4495.root.h5',\n",
       " '/home/jmbenlloch/reset_data/4495/pmaps/pmaps.gdcsnext.519_4495.root.h5',\n",
       " '/home/jmbenlloch/reset_data/4495/pmaps/pmaps.gdcsnext.917_4495.root.h5',\n",
       " '/home/jmbenlloch/reset_data/4495/pmaps/pmaps.gdcsnext.943_4495.root.h5',\n",
       " '/home/jmbenlloch/reset_data/4495/pmaps/pmaps.gdcsnext.574_4495.root.h5',\n",
       " '/home/jmbenlloch/reset_data/4495/pmaps/pmaps.gdcsnext.536_4495.root.h5',\n",
       " '/home/jmbenlloch/reset_data/4495/pmaps/pmaps.gdcsnext.662_4495.root.h5',\n",
       " '/home/jmbenlloch/reset_data/4495/pmaps/pmaps.gdcsnext.024_4495.root.h5',\n",
       " '/home/jmbenlloch/reset_data/4495/pmaps/pmaps.gdcsnext.202_4495.root.h5',\n",
       " '/home/jmbenlloch/reset_data/4495/pmaps/pmaps.gdcsnext.839_4495.root.h5',\n",
       " '/home/jmbenlloch/reset_data/4495/pmaps/pmaps.gdcsnext.075_4495.root.h5',\n",
       " '/home/jmbenlloch/reset_data/4495/pmaps/pmaps.gdcsnext.476_4495.root.h5',\n",
       " '/home/jmbenlloch/reset_data/4495/pmaps/pmaps.gdcsnext.723_4495.root.h5',\n",
       " '/home/jmbenlloch/reset_data/4495/pmaps/pmaps.gdcsnext.137_4495.root.h5',\n",
       " '/home/jmbenlloch/reset_data/4495/pmaps/pmaps.gdcsnext.684_4495.root.h5',\n",
       " '/home/jmbenlloch/reset_data/4495/pmaps/pmaps.gdcsnext.454_4495.root.h5',\n",
       " '/home/jmbenlloch/reset_data/4495/pmaps/pmaps.gdcsnext.052_4495.root.h5',\n",
       " '/home/jmbenlloch/reset_data/4495/pmaps/pmaps.gdcsnext.074_4495.root.h5',\n",
       " '/home/jmbenlloch/reset_data/4495/pmaps/pmaps.gdcsnext.291_4495.root.h5',\n",
       " '/home/jmbenlloch/reset_data/4495/pmaps/pmaps.gdcsnext.931_4495.root.h5',\n",
       " '/home/jmbenlloch/reset_data/4495/pmaps/pmaps.gdcsnext.017_4495.root.h5',\n",
       " '/home/jmbenlloch/reset_data/4495/pmaps/pmaps.gdcsnext.836_4495.root.h5',\n",
       " '/home/jmbenlloch/reset_data/4495/pmaps/pmaps.gdcsnext.010_4495.root.h5',\n",
       " '/home/jmbenlloch/reset_data/4495/pmaps/pmaps.gdcsnext.710_4495.root.h5',\n",
       " '/home/jmbenlloch/reset_data/4495/pmaps/pmaps.gdcsnext.784_4495.root.h5',\n",
       " '/home/jmbenlloch/reset_data/4495/pmaps/pmaps.gdcsnext.739_4495.root.h5',\n",
       " '/home/jmbenlloch/reset_data/4495/pmaps/pmaps.gdcsnext.897_4495.root.h5',\n",
       " '/home/jmbenlloch/reset_data/4495/pmaps/pmaps.gdcsnext.228_4495.root.h5',\n",
       " '/home/jmbenlloch/reset_data/4495/pmaps/pmaps.gdcsnext.413_4495.root.h5',\n",
       " '/home/jmbenlloch/reset_data/4495/pmaps/pmaps.gdcsnext.071_4495.root.h5',\n",
       " '/home/jmbenlloch/reset_data/4495/pmaps/pmaps.gdcsnext.858_4495.root.h5',\n",
       " '/home/jmbenlloch/reset_data/4495/pmaps/pmaps.gdcsnext.424_4495.root.h5',\n",
       " '/home/jmbenlloch/reset_data/4495/pmaps/pmaps.gdcsnext.210_4495.root.h5',\n",
       " '/home/jmbenlloch/reset_data/4495/pmaps/pmaps.gdcsnext.538_4495.root.h5',\n",
       " '/home/jmbenlloch/reset_data/4495/pmaps/pmaps.gdcsnext.947_4495.root.h5',\n",
       " '/home/jmbenlloch/reset_data/4495/pmaps/pmaps.gdcsnext.881_4495.root.h5',\n",
       " '/home/jmbenlloch/reset_data/4495/pmaps/pmaps.gdcsnext.154_4495.root.h5',\n",
       " '/home/jmbenlloch/reset_data/4495/pmaps/pmaps.gdcsnext.853_4495.root.h5',\n",
       " '/home/jmbenlloch/reset_data/4495/pmaps/pmaps.gdcsnext.916_4495.root.h5',\n",
       " '/home/jmbenlloch/reset_data/4495/pmaps/pmaps.gdcsnext.259_4495.root.h5',\n",
       " '/home/jmbenlloch/reset_data/4495/pmaps/pmaps.gdcsnext.343_4495.root.h5',\n",
       " '/home/jmbenlloch/reset_data/4495/pmaps/pmaps.gdcsnext.798_4495.root.h5',\n",
       " '/home/jmbenlloch/reset_data/4495/pmaps/pmaps.gdcsnext.297_4495.root.h5',\n",
       " '/home/jmbenlloch/reset_data/4495/pmaps/pmaps.gdcsnext.861_4495.root.h5',\n",
       " '/home/jmbenlloch/reset_data/4495/pmaps/pmaps.gdcsnext.186_4495.root.h5',\n",
       " '/home/jmbenlloch/reset_data/4495/pmaps/pmaps.gdcsnext.546_4495.root.h5',\n",
       " '/home/jmbenlloch/reset_data/4495/pmaps/pmaps.gdcsnext.510_4495.root.h5',\n",
       " '/home/jmbenlloch/reset_data/4495/pmaps/pmaps.gdcsnext.827_4495.root.h5',\n",
       " '/home/jmbenlloch/reset_data/4495/pmaps/pmaps.gdcsnext.705_4495.root.h5',\n",
       " '/home/jmbenlloch/reset_data/4495/pmaps/pmaps.gdcsnext.019_4495.root.h5',\n",
       " '/home/jmbenlloch/reset_data/4495/pmaps/pmaps.gdcsnext.352_4495.root.h5',\n",
       " '/home/jmbenlloch/reset_data/4495/pmaps/pmaps.gdcsnext.940_4495.root.h5',\n",
       " '/home/jmbenlloch/reset_data/4495/pmaps/pmaps.gdcsnext.334_4495.root.h5',\n",
       " '/home/jmbenlloch/reset_data/4495/pmaps/pmaps.gdcsnext.513_4495.root.h5',\n",
       " '/home/jmbenlloch/reset_data/4495/pmaps/pmaps.gdcsnext.835_4495.root.h5',\n",
       " '/home/jmbenlloch/reset_data/4495/pmaps/pmaps.gdcsnext.913_4495.root.h5',\n",
       " '/home/jmbenlloch/reset_data/4495/pmaps/pmaps.gdcsnext.381_4495.root.h5',\n",
       " '/home/jmbenlloch/reset_data/4495/pmaps/pmaps.gdcsnext.872_4495.root.h5',\n",
       " '/home/jmbenlloch/reset_data/4495/pmaps/pmaps.gdcsnext.261_4495.root.h5',\n",
       " '/home/jmbenlloch/reset_data/4495/pmaps/pmaps.gdcsnext.040_4495.root.h5',\n",
       " '/home/jmbenlloch/reset_data/4495/pmaps/pmaps.gdcsnext.208_4495.root.h5',\n",
       " '/home/jmbenlloch/reset_data/4495/pmaps/pmaps.gdcsnext.199_4495.root.h5',\n",
       " '/home/jmbenlloch/reset_data/4495/pmaps/pmaps.gdcsnext.657_4495.root.h5',\n",
       " '/home/jmbenlloch/reset_data/4495/pmaps/pmaps.gdcsnext.197_4495.root.h5',\n",
       " '/home/jmbenlloch/reset_data/4495/pmaps/pmaps.gdcsnext.093_4495.root.h5',\n",
       " '/home/jmbenlloch/reset_data/4495/pmaps/pmaps.gdcsnext.059_4495.root.h5',\n",
       " '/home/jmbenlloch/reset_data/4495/pmaps/pmaps.gdcsnext.528_4495.root.h5',\n",
       " '/home/jmbenlloch/reset_data/4495/pmaps/pmaps.gdcsnext.251_4495.root.h5',\n",
       " '/home/jmbenlloch/reset_data/4495/pmaps/pmaps.gdcsnext.243_4495.root.h5',\n",
       " '/home/jmbenlloch/reset_data/4495/pmaps/pmaps.gdcsnext.115_4495.root.h5',\n",
       " '/home/jmbenlloch/reset_data/4495/pmaps/pmaps.gdcsnext.436_4495.root.h5',\n",
       " '/home/jmbenlloch/reset_data/4495/pmaps/pmaps.gdcsnext.479_4495.root.h5',\n",
       " '/home/jmbenlloch/reset_data/4495/pmaps/pmaps.gdcsnext.549_4495.root.h5',\n",
       " '/home/jmbenlloch/reset_data/4495/pmaps/pmaps.gdcsnext.817_4495.root.h5',\n",
       " '/home/jmbenlloch/reset_data/4495/pmaps/pmaps.gdcsnext.716_4495.root.h5',\n",
       " '/home/jmbenlloch/reset_data/4495/pmaps/pmaps.gdcsnext.167_4495.root.h5',\n",
       " '/home/jmbenlloch/reset_data/4495/pmaps/pmaps.gdcsnext.157_4495.root.h5',\n",
       " '/home/jmbenlloch/reset_data/4495/pmaps/pmaps.gdcsnext.119_4495.root.h5',\n",
       " '/home/jmbenlloch/reset_data/4495/pmaps/pmaps.gdcsnext.162_4495.root.h5',\n",
       " '/home/jmbenlloch/reset_data/4495/pmaps/pmaps.gdcsnext.066_4495.root.h5',\n",
       " '/home/jmbenlloch/reset_data/4495/pmaps/pmaps.gdcsnext.359_4495.root.h5',\n",
       " '/home/jmbenlloch/reset_data/4495/pmaps/pmaps.gdcsnext.613_4495.root.h5',\n",
       " '/home/jmbenlloch/reset_data/4495/pmaps/pmaps.gdcsnext.380_4495.root.h5',\n",
       " '/home/jmbenlloch/reset_data/4495/pmaps/pmaps.gdcsnext.346_4495.root.h5',\n",
       " '/home/jmbenlloch/reset_data/4495/pmaps/pmaps.gdcsnext.554_4495.root.h5',\n",
       " '/home/jmbenlloch/reset_data/4495/pmaps/pmaps.gdcsnext.356_4495.root.h5',\n",
       " '/home/jmbenlloch/reset_data/4495/pmaps/pmaps.gdcsnext.941_4495.root.h5',\n",
       " '/home/jmbenlloch/reset_data/4495/pmaps/pmaps.gdcsnext.579_4495.root.h5',\n",
       " '/home/jmbenlloch/reset_data/4495/pmaps/pmaps.gdcsnext.253_4495.root.h5',\n",
       " '/home/jmbenlloch/reset_data/4495/pmaps/pmaps.gdcsnext.032_4495.root.h5',\n",
       " '/home/jmbenlloch/reset_data/4495/pmaps/pmaps.gdcsnext.242_4495.root.h5',\n",
       " '/home/jmbenlloch/reset_data/4495/pmaps/pmaps.gdcsnext.411_4495.root.h5',\n",
       " '/home/jmbenlloch/reset_data/4495/pmaps/pmaps.gdcsnext.658_4495.root.h5',\n",
       " '/home/jmbenlloch/reset_data/4495/pmaps/pmaps.gdcsnext.828_4495.root.h5',\n",
       " '/home/jmbenlloch/reset_data/4495/pmaps/pmaps.gdcsnext.293_4495.root.h5',\n",
       " '/home/jmbenlloch/reset_data/4495/pmaps/pmaps.gdcsnext.124_4495.root.h5',\n",
       " '/home/jmbenlloch/reset_data/4495/pmaps/pmaps.gdcsnext.087_4495.root.h5',\n",
       " '/home/jmbenlloch/reset_data/4495/pmaps/pmaps.gdcsnext.375_4495.root.h5',\n",
       " '/home/jmbenlloch/reset_data/4495/pmaps/pmaps.gdcsnext.306_4495.root.h5',\n",
       " '/home/jmbenlloch/reset_data/4495/pmaps/pmaps.gdcsnext.762_4495.root.h5',\n",
       " '/home/jmbenlloch/reset_data/4495/pmaps/pmaps.gdcsnext.223_4495.root.h5',\n",
       " '/home/jmbenlloch/reset_data/4495/pmaps/pmaps.gdcsnext.179_4495.root.h5',\n",
       " '/home/jmbenlloch/reset_data/4495/pmaps/pmaps.gdcsnext.735_4495.root.h5',\n",
       " '/home/jmbenlloch/reset_data/4495/pmaps/pmaps.gdcsnext.942_4495.root.h5',\n",
       " '/home/jmbenlloch/reset_data/4495/pmaps/pmaps.gdcsnext.250_4495.root.h5',\n",
       " '/home/jmbenlloch/reset_data/4495/pmaps/pmaps.gdcsnext.195_4495.root.h5',\n",
       " '/home/jmbenlloch/reset_data/4495/pmaps/pmaps.gdcsnext.116_4495.root.h5',\n",
       " '/home/jmbenlloch/reset_data/4495/pmaps/pmaps.gdcsnext.664_4495.root.h5',\n",
       " '/home/jmbenlloch/reset_data/4495/pmaps/pmaps.gdcsnext.274_4495.root.h5',\n",
       " '/home/jmbenlloch/reset_data/4495/pmaps/pmaps.gdcsnext.047_4495.root.h5',\n",
       " '/home/jmbenlloch/reset_data/4495/pmaps/pmaps.gdcsnext.821_4495.root.h5',\n",
       " '/home/jmbenlloch/reset_data/4495/pmaps/pmaps.gdcsnext.009_4495.root.h5',\n",
       " '/home/jmbenlloch/reset_data/4495/pmaps/pmaps.gdcsnext.604_4495.root.h5',\n",
       " '/home/jmbenlloch/reset_data/4495/pmaps/pmaps.gdcsnext.070_4495.root.h5',\n",
       " '/home/jmbenlloch/reset_data/4495/pmaps/pmaps.gdcsnext.311_4495.root.h5',\n",
       " '/home/jmbenlloch/reset_data/4495/pmaps/pmaps.gdcsnext.227_4495.root.h5',\n",
       " '/home/jmbenlloch/reset_data/4495/pmaps/pmaps.gdcsnext.471_4495.root.h5',\n",
       " '/home/jmbenlloch/reset_data/4495/pmaps/pmaps.gdcsnext.277_4495.root.h5',\n",
       " '/home/jmbenlloch/reset_data/4495/pmaps/pmaps.gdcsnext.026_4495.root.h5',\n",
       " '/home/jmbenlloch/reset_data/4495/pmaps/pmaps.gdcsnext.063_4495.root.h5',\n",
       " '/home/jmbenlloch/reset_data/4495/pmaps/pmaps.gdcsnext.887_4495.root.h5',\n",
       " '/home/jmbenlloch/reset_data/4495/pmaps/pmaps.gdcsnext.929_4495.root.h5',\n",
       " '/home/jmbenlloch/reset_data/4495/pmaps/pmaps.gdcsnext.151_4495.root.h5',\n",
       " '/home/jmbenlloch/reset_data/4495/pmaps/pmaps.gdcsnext.229_4495.root.h5',\n",
       " '/home/jmbenlloch/reset_data/4495/pmaps/pmaps.gdcsnext.783_4495.root.h5',\n",
       " '/home/jmbenlloch/reset_data/4495/pmaps/pmaps.gdcsnext.718_4495.root.h5',\n",
       " '/home/jmbenlloch/reset_data/4495/pmaps/pmaps.gdcsnext.225_4495.root.h5',\n",
       " '/home/jmbenlloch/reset_data/4495/pmaps/pmaps.gdcsnext.421_4495.root.h5',\n",
       " '/home/jmbenlloch/reset_data/4495/pmaps/pmaps.gdcsnext.417_4495.root.h5',\n",
       " '/home/jmbenlloch/reset_data/4495/pmaps/pmaps.gdcsnext.715_4495.root.h5',\n",
       " '/home/jmbenlloch/reset_data/4495/pmaps/pmaps.gdcsnext.614_4495.root.h5',\n",
       " '/home/jmbenlloch/reset_data/4495/pmaps/pmaps.gdcsnext.593_4495.root.h5',\n",
       " '/home/jmbenlloch/reset_data/4495/pmaps/pmaps.gdcsnext.483_4495.root.h5',\n",
       " '/home/jmbenlloch/reset_data/4495/pmaps/pmaps.gdcsnext.443_4495.root.h5',\n",
       " '/home/jmbenlloch/reset_data/4495/pmaps/pmaps.gdcsnext.458_4495.root.h5',\n",
       " '/home/jmbenlloch/reset_data/4495/pmaps/pmaps.gdcsnext.230_4495.root.h5',\n",
       " '/home/jmbenlloch/reset_data/4495/pmaps/pmaps.gdcsnext.158_4495.root.h5',\n",
       " '/home/jmbenlloch/reset_data/4495/pmaps/pmaps.gdcsnext.002_4495.root.h5',\n",
       " '/home/jmbenlloch/reset_data/4495/pmaps/pmaps.gdcsnext.583_4495.root.h5',\n",
       " '/home/jmbenlloch/reset_data/4495/pmaps/pmaps.gdcsnext.771_4495.root.h5',\n",
       " '/home/jmbenlloch/reset_data/4495/pmaps/pmaps.gdcsnext.638_4495.root.h5',\n",
       " '/home/jmbenlloch/reset_data/4495/pmaps/pmaps.gdcsnext.537_4495.root.h5',\n",
       " '/home/jmbenlloch/reset_data/4495/pmaps/pmaps.gdcsnext.213_4495.root.h5',\n",
       " '/home/jmbenlloch/reset_data/4495/pmaps/pmaps.gdcsnext.118_4495.root.h5',\n",
       " '/home/jmbenlloch/reset_data/4495/pmaps/pmaps.gdcsnext.391_4495.root.h5',\n",
       " '/home/jmbenlloch/reset_data/4495/pmaps/pmaps.gdcsnext.129_4495.root.h5',\n",
       " '/home/jmbenlloch/reset_data/4495/pmaps/pmaps.gdcsnext.418_4495.root.h5',\n",
       " '/home/jmbenlloch/reset_data/4495/pmaps/pmaps.gdcsnext.544_4495.root.h5',\n",
       " '/home/jmbenlloch/reset_data/4495/pmaps/pmaps.gdcsnext.776_4495.root.h5',\n",
       " '/home/jmbenlloch/reset_data/4495/pmaps/pmaps.gdcsnext.768_4495.root.h5',\n",
       " '/home/jmbenlloch/reset_data/4495/pmaps/pmaps.gdcsnext.241_4495.root.h5',\n",
       " '/home/jmbenlloch/reset_data/4495/pmaps/pmaps.gdcsnext.566_4495.root.h5',\n",
       " '/home/jmbenlloch/reset_data/4495/pmaps/pmaps.gdcsnext.020_4495.root.h5',\n",
       " '/home/jmbenlloch/reset_data/4495/pmaps/pmaps.gdcsnext.854_4495.root.h5',\n",
       " '/home/jmbenlloch/reset_data/4495/pmaps/pmaps.gdcsnext.207_4495.root.h5',\n",
       " '/home/jmbenlloch/reset_data/4495/pmaps/pmaps.gdcsnext.459_4495.root.h5',\n",
       " '/home/jmbenlloch/reset_data/4495/pmaps/pmaps.gdcsnext.173_4495.root.h5',\n",
       " '/home/jmbenlloch/reset_data/4495/pmaps/pmaps.gdcsnext.401_4495.root.h5',\n",
       " '/home/jmbenlloch/reset_data/4495/pmaps/pmaps.gdcsnext.921_4495.root.h5',\n",
       " '/home/jmbenlloch/reset_data/4495/pmaps/pmaps.gdcsnext.687_4495.root.h5',\n",
       " '/home/jmbenlloch/reset_data/4495/pmaps/pmaps.gdcsnext.650_4495.root.h5',\n",
       " '/home/jmbenlloch/reset_data/4495/pmaps/pmaps.gdcsnext.236_4495.root.h5',\n",
       " '/home/jmbenlloch/reset_data/4495/pmaps/pmaps.gdcsnext.332_4495.root.h5',\n",
       " '/home/jmbenlloch/reset_data/4495/pmaps/pmaps.gdcsnext.512_4495.root.h5',\n",
       " '/home/jmbenlloch/reset_data/4495/pmaps/pmaps.gdcsnext.440_4495.root.h5',\n",
       " '/home/jmbenlloch/reset_data/4495/pmaps/pmaps.gdcsnext.470_4495.root.h5',\n",
       " '/home/jmbenlloch/reset_data/4495/pmaps/pmaps.gdcsnext.609_4495.root.h5',\n",
       " '/home/jmbenlloch/reset_data/4495/pmaps/pmaps.gdcsnext.530_4495.root.h5',\n",
       " '/home/jmbenlloch/reset_data/4495/pmaps/pmaps.gdcsnext.499_4495.root.h5',\n",
       " '/home/jmbenlloch/reset_data/4495/pmaps/pmaps.gdcsnext.676_4495.root.h5',\n",
       " '/home/jmbenlloch/reset_data/4495/pmaps/pmaps.gdcsnext.376_4495.root.h5',\n",
       " '/home/jmbenlloch/reset_data/4495/pmaps/pmaps.gdcsnext.385_4495.root.h5',\n",
       " '/home/jmbenlloch/reset_data/4495/pmaps/pmaps.gdcsnext.150_4495.root.h5',\n",
       " '/home/jmbenlloch/reset_data/4495/pmaps/pmaps.gdcsnext.724_4495.root.h5',\n",
       " '/home/jmbenlloch/reset_data/4495/pmaps/pmaps.gdcsnext.829_4495.root.h5',\n",
       " '/home/jmbenlloch/reset_data/4495/pmaps/pmaps.gdcsnext.144_4495.root.h5',\n",
       " '/home/jmbenlloch/reset_data/4495/pmaps/pmaps.gdcsnext.077_4495.root.h5',\n",
       " '/home/jmbenlloch/reset_data/4495/pmaps/pmaps.gdcsnext.503_4495.root.h5',\n",
       " '/home/jmbenlloch/reset_data/4495/pmaps/pmaps.gdcsnext.190_4495.root.h5',\n",
       " '/home/jmbenlloch/reset_data/4495/pmaps/pmaps.gdcsnext.132_4495.root.h5',\n",
       " '/home/jmbenlloch/reset_data/4495/pmaps/pmaps.gdcsnext.209_4495.root.h5',\n",
       " '/home/jmbenlloch/reset_data/4495/pmaps/pmaps.gdcsnext.328_4495.root.h5',\n",
       " '/home/jmbenlloch/reset_data/4495/pmaps/pmaps.gdcsnext.522_4495.root.h5',\n",
       " '/home/jmbenlloch/reset_data/4495/pmaps/pmaps.gdcsnext.621_4495.root.h5',\n",
       " '/home/jmbenlloch/reset_data/4495/pmaps/pmaps.gdcsnext.744_4495.root.h5',\n",
       " '/home/jmbenlloch/reset_data/4495/pmaps/pmaps.gdcsnext.452_4495.root.h5',\n",
       " '/home/jmbenlloch/reset_data/4495/pmaps/pmaps.gdcsnext.043_4495.root.h5',\n",
       " '/home/jmbenlloch/reset_data/4495/pmaps/pmaps.gdcsnext.060_4495.root.h5',\n",
       " '/home/jmbenlloch/reset_data/4495/pmaps/pmaps.gdcsnext.082_4495.root.h5',\n",
       " '/home/jmbenlloch/reset_data/4495/pmaps/pmaps.gdcsnext.629_4495.root.h5',\n",
       " '/home/jmbenlloch/reset_data/4495/pmaps/pmaps.gdcsnext.398_4495.root.h5',\n",
       " '/home/jmbenlloch/reset_data/4495/pmaps/pmaps.gdcsnext.665_4495.root.h5',\n",
       " '/home/jmbenlloch/reset_data/4495/pmaps/pmaps.gdcsnext.620_4495.root.h5',\n",
       " '/home/jmbenlloch/reset_data/4495/pmaps/pmaps.gdcsnext.147_4495.root.h5',\n",
       " '/home/jmbenlloch/reset_data/4495/pmaps/pmaps.gdcsnext.870_4495.root.h5',\n",
       " '/home/jmbenlloch/reset_data/4495/pmaps/pmaps.gdcsnext.905_4495.root.h5',\n",
       " '/home/jmbenlloch/reset_data/4495/pmaps/pmaps.gdcsnext.555_4495.root.h5',\n",
       " '/home/jmbenlloch/reset_data/4495/pmaps/pmaps.gdcsnext.541_4495.root.h5',\n",
       " '/home/jmbenlloch/reset_data/4495/pmaps/pmaps.gdcsnext.163_4495.root.h5',\n",
       " '/home/jmbenlloch/reset_data/4495/pmaps/pmaps.gdcsnext.370_4495.root.h5',\n",
       " '/home/jmbenlloch/reset_data/4495/pmaps/pmaps.gdcsnext.027_4495.root.h5',\n",
       " '/home/jmbenlloch/reset_data/4495/pmaps/pmaps.gdcsnext.433_4495.root.h5',\n",
       " '/home/jmbenlloch/reset_data/4495/pmaps/pmaps.gdcsnext.806_4495.root.h5',\n",
       " '/home/jmbenlloch/reset_data/4495/pmaps/pmaps.gdcsnext.875_4495.root.h5',\n",
       " '/home/jmbenlloch/reset_data/4495/pmaps/pmaps.gdcsnext.845_4495.root.h5',\n",
       " '/home/jmbenlloch/reset_data/4495/pmaps/pmaps.gdcsnext.191_4495.root.h5',\n",
       " '/home/jmbenlloch/reset_data/4495/pmaps/pmaps.gdcsnext.516_4495.root.h5',\n",
       " '/home/jmbenlloch/reset_data/4495/pmaps/pmaps.gdcsnext.648_4495.root.h5',\n",
       " '/home/jmbenlloch/reset_data/4495/pmaps/pmaps.gdcsnext.848_4495.root.h5',\n",
       " '/home/jmbenlloch/reset_data/4495/pmaps/pmaps.gdcsnext.918_4495.root.h5',\n",
       " '/home/jmbenlloch/reset_data/4495/pmaps/pmaps.gdcsnext.339_4495.root.h5',\n",
       " '/home/jmbenlloch/reset_data/4495/pmaps/pmaps.gdcsnext.578_4495.root.h5',\n",
       " '/home/jmbenlloch/reset_data/4495/pmaps/pmaps.gdcsnext.631_4495.root.h5',\n",
       " '/home/jmbenlloch/reset_data/4495/pmaps/pmaps.gdcsnext.507_4495.root.h5',\n",
       " '/home/jmbenlloch/reset_data/4495/pmaps/pmaps.gdcsnext.936_4495.root.h5',\n",
       " '/home/jmbenlloch/reset_data/4495/pmaps/pmaps.gdcsnext.816_4495.root.h5',\n",
       " '/home/jmbenlloch/reset_data/4495/pmaps/pmaps.gdcsnext.201_4495.root.h5',\n",
       " '/home/jmbenlloch/reset_data/4495/pmaps/pmaps.gdcsnext.520_4495.root.h5',\n",
       " '/home/jmbenlloch/reset_data/4495/pmaps/pmaps.gdcsnext.791_4495.root.h5',\n",
       " '/home/jmbenlloch/reset_data/4495/pmaps/pmaps.gdcsnext.480_4495.root.h5',\n",
       " '/home/jmbenlloch/reset_data/4495/pmaps/pmaps.gdcsnext.175_4495.root.h5',\n",
       " '/home/jmbenlloch/reset_data/4495/pmaps/pmaps.gdcsnext.750_4495.root.h5',\n",
       " '/home/jmbenlloch/reset_data/4495/pmaps/pmaps.gdcsnext.491_4495.root.h5',\n",
       " '/home/jmbenlloch/reset_data/4495/pmaps/pmaps.gdcsnext.801_4495.root.h5',\n",
       " '/home/jmbenlloch/reset_data/4495/pmaps/pmaps.gdcsnext.832_4495.root.h5',\n",
       " '/home/jmbenlloch/reset_data/4495/pmaps/pmaps.gdcsnext.556_4495.root.h5',\n",
       " '/home/jmbenlloch/reset_data/4495/pmaps/pmaps.gdcsnext.081_4495.root.h5',\n",
       " '/home/jmbenlloch/reset_data/4495/pmaps/pmaps.gdcsnext.949_4495.root.h5',\n",
       " '/home/jmbenlloch/reset_data/4495/pmaps/pmaps.gdcsnext.511_4495.root.h5',\n",
       " '/home/jmbenlloch/reset_data/4495/pmaps/pmaps.gdcsnext.104_4495.root.h5',\n",
       " '/home/jmbenlloch/reset_data/4495/pmaps/pmaps.gdcsnext.892_4495.root.h5',\n",
       " '/home/jmbenlloch/reset_data/4495/pmaps/pmaps.gdcsnext.382_4495.root.h5',\n",
       " '/home/jmbenlloch/reset_data/4495/pmaps/pmaps.gdcsnext.743_4495.root.h5',\n",
       " '/home/jmbenlloch/reset_data/4495/pmaps/pmaps.gdcsnext.234_4495.root.h5',\n",
       " '/home/jmbenlloch/reset_data/4495/pmaps/pmaps.gdcsnext.365_4495.root.h5',\n",
       " '/home/jmbenlloch/reset_data/4495/pmaps/pmaps.gdcsnext.713_4495.root.h5',\n",
       " '/home/jmbenlloch/reset_data/4495/pmaps/pmaps.gdcsnext.466_4495.root.h5',\n",
       " '/home/jmbenlloch/reset_data/4495/pmaps/pmaps.gdcsnext.607_4495.root.h5',\n",
       " '/home/jmbenlloch/reset_data/4495/pmaps/pmaps.gdcsnext.898_4495.root.h5',\n",
       " '/home/jmbenlloch/reset_data/4495/pmaps/pmaps.gdcsnext.795_4495.root.h5',\n",
       " '/home/jmbenlloch/reset_data/4495/pmaps/pmaps.gdcsnext.557_4495.root.h5',\n",
       " '/home/jmbenlloch/reset_data/4495/pmaps/pmaps.gdcsnext.878_4495.root.h5',\n",
       " '/home/jmbenlloch/reset_data/4495/pmaps/pmaps.gdcsnext.462_4495.root.h5',\n",
       " '/home/jmbenlloch/reset_data/4495/pmaps/pmaps.gdcsnext.587_4495.root.h5',\n",
       " '/home/jmbenlloch/reset_data/4495/pmaps/pmaps.gdcsnext.337_4495.root.h5',\n",
       " '/home/jmbenlloch/reset_data/4495/pmaps/pmaps.gdcsnext.708_4495.root.h5',\n",
       " '/home/jmbenlloch/reset_data/4495/pmaps/pmaps.gdcsnext.649_4495.root.h5',\n",
       " '/home/jmbenlloch/reset_data/4495/pmaps/pmaps.gdcsnext.585_4495.root.h5',\n",
       " '/home/jmbenlloch/reset_data/4495/pmaps/pmaps.gdcsnext.166_4495.root.h5',\n",
       " '/home/jmbenlloch/reset_data/4495/pmaps/pmaps.gdcsnext.109_4495.root.h5',\n",
       " '/home/jmbenlloch/reset_data/4495/pmaps/pmaps.gdcsnext.590_4495.root.h5',\n",
       " '/home/jmbenlloch/reset_data/4495/pmaps/pmaps.gdcsnext.388_4495.root.h5',\n",
       " '/home/jmbenlloch/reset_data/4495/pmaps/pmaps.gdcsnext.045_4495.root.h5',\n",
       " '/home/jmbenlloch/reset_data/4495/pmaps/pmaps.gdcsnext.756_4495.root.h5',\n",
       " '/home/jmbenlloch/reset_data/4495/pmaps/pmaps.gdcsnext.034_4495.root.h5',\n",
       " '/home/jmbenlloch/reset_data/4495/pmaps/pmaps.gdcsnext.532_4495.root.h5',\n",
       " '/home/jmbenlloch/reset_data/4495/pmaps/pmaps.gdcsnext.156_4495.root.h5',\n",
       " '/home/jmbenlloch/reset_data/4495/pmaps/pmaps.gdcsnext.283_4495.root.h5',\n",
       " '/home/jmbenlloch/reset_data/4495/pmaps/pmaps.gdcsnext.524_4495.root.h5',\n",
       " '/home/jmbenlloch/reset_data/4495/pmaps/pmaps.gdcsnext.182_4495.root.h5',\n",
       " '/home/jmbenlloch/reset_data/4495/pmaps/pmaps.gdcsnext.542_4495.root.h5',\n",
       " '/home/jmbenlloch/reset_data/4495/pmaps/pmaps.gdcsnext.772_4495.root.h5',\n",
       " '/home/jmbenlloch/reset_data/4495/pmaps/pmaps.gdcsnext.085_4495.root.h5',\n",
       " '/home/jmbenlloch/reset_data/4495/pmaps/pmaps.gdcsnext.500_4495.root.h5',\n",
       " '/home/jmbenlloch/reset_data/4495/pmaps/pmaps.gdcsnext.145_4495.root.h5',\n",
       " '/home/jmbenlloch/reset_data/4495/pmaps/pmaps.gdcsnext.824_4495.root.h5',\n",
       " '/home/jmbenlloch/reset_data/4495/pmaps/pmaps.gdcsnext.264_4495.root.h5',\n",
       " '/home/jmbenlloch/reset_data/4495/pmaps/pmaps.gdcsnext.635_4495.root.h5',\n",
       " '/home/jmbenlloch/reset_data/4495/pmaps/pmaps.gdcsnext.095_4495.root.h5',\n",
       " '/home/jmbenlloch/reset_data/4495/pmaps/pmaps.gdcsnext.056_4495.root.h5',\n",
       " '/home/jmbenlloch/reset_data/4495/pmaps/pmaps.gdcsnext.165_4495.root.h5',\n",
       " '/home/jmbenlloch/reset_data/4495/pmaps/pmaps.gdcsnext.016_4495.root.h5',\n",
       " '/home/jmbenlloch/reset_data/4495/pmaps/pmaps.gdcsnext.256_4495.root.h5',\n",
       " '/home/jmbenlloch/reset_data/4495/pmaps/pmaps.gdcsnext.143_4495.root.h5',\n",
       " '/home/jmbenlloch/reset_data/4495/pmaps/pmaps.gdcsnext.247_4495.root.h5',\n",
       " '/home/jmbenlloch/reset_data/4495/pmaps/pmaps.gdcsnext.054_4495.root.h5',\n",
       " '/home/jmbenlloch/reset_data/4495/pmaps/pmaps.gdcsnext.407_4495.root.h5',\n",
       " '/home/jmbenlloch/reset_data/4495/pmaps/pmaps.gdcsnext.148_4495.root.h5',\n",
       " '/home/jmbenlloch/reset_data/4495/pmaps/pmaps.gdcsnext.319_4495.root.h5',\n",
       " '/home/jmbenlloch/reset_data/4495/pmaps/pmaps.gdcsnext.287_4495.root.h5',\n",
       " '/home/jmbenlloch/reset_data/4495/pmaps/pmaps.gdcsnext.362_4495.root.h5',\n",
       " '/home/jmbenlloch/reset_data/4495/pmaps/pmaps.gdcsnext.196_4495.root.h5',\n",
       " '/home/jmbenlloch/reset_data/4495/pmaps/pmaps.gdcsnext.518_4495.root.h5',\n",
       " '/home/jmbenlloch/reset_data/4495/pmaps/pmaps.gdcsnext.563_4495.root.h5',\n",
       " '/home/jmbenlloch/reset_data/4495/pmaps/pmaps.gdcsnext.592_4495.root.h5',\n",
       " '/home/jmbenlloch/reset_data/4495/pmaps/pmaps.gdcsnext.725_4495.root.h5',\n",
       " '/home/jmbenlloch/reset_data/4495/pmaps/pmaps.gdcsnext.823_4495.root.h5',\n",
       " '/home/jmbenlloch/reset_data/4495/pmaps/pmaps.gdcsnext.141_4495.root.h5',\n",
       " '/home/jmbenlloch/reset_data/4495/pmaps/pmaps.gdcsnext.946_4495.root.h5',\n",
       " '/home/jmbenlloch/reset_data/4495/pmaps/pmaps.gdcsnext.216_4495.root.h5',\n",
       " '/home/jmbenlloch/reset_data/4495/pmaps/pmaps.gdcsnext.866_4495.root.h5',\n",
       " '/home/jmbenlloch/reset_data/4495/pmaps/pmaps.gdcsnext.655_4495.root.h5',\n",
       " '/home/jmbenlloch/reset_data/4495/pmaps/pmaps.gdcsnext.782_4495.root.h5',\n",
       " '/home/jmbenlloch/reset_data/4495/pmaps/pmaps.gdcsnext.342_4495.root.h5',\n",
       " '/home/jmbenlloch/reset_data/4495/pmaps/pmaps.gdcsnext.478_4495.root.h5',\n",
       " '/home/jmbenlloch/reset_data/4495/pmaps/pmaps.gdcsnext.461_4495.root.h5',\n",
       " '/home/jmbenlloch/reset_data/4495/pmaps/pmaps.gdcsnext.505_4495.root.h5',\n",
       " '/home/jmbenlloch/reset_data/4495/pmaps/pmaps.gdcsnext.134_4495.root.h5',\n",
       " '/home/jmbenlloch/reset_data/4495/pmaps/pmaps.gdcsnext.368_4495.root.h5',\n",
       " '/home/jmbenlloch/reset_data/4495/pmaps/pmaps.gdcsnext.249_4495.root.h5',\n",
       " '/home/jmbenlloch/reset_data/4495/pmaps/pmaps.gdcsnext.268_4495.root.h5',\n",
       " '/home/jmbenlloch/reset_data/4495/pmaps/pmaps.gdcsnext.502_4495.root.h5',\n",
       " '/home/jmbenlloch/reset_data/4495/pmaps/pmaps.gdcsnext.673_4495.root.h5',\n",
       " '/home/jmbenlloch/reset_data/4495/pmaps/pmaps.gdcsnext.890_4495.root.h5',\n",
       " '/home/jmbenlloch/reset_data/4495/pmaps/pmaps.gdcsnext.543_4495.root.h5',\n",
       " '/home/jmbenlloch/reset_data/4495/pmaps/pmaps.gdcsnext.494_4495.root.h5',\n",
       " '/home/jmbenlloch/reset_data/4495/pmaps/pmaps.gdcsnext.025_4495.root.h5',\n",
       " '/home/jmbenlloch/reset_data/4495/pmaps/pmaps.gdcsnext.504_4495.root.h5',\n",
       " '/home/jmbenlloch/reset_data/4495/pmaps/pmaps.gdcsnext.603_4495.root.h5',\n",
       " '/home/jmbenlloch/reset_data/4495/pmaps/pmaps.gdcsnext.733_4495.root.h5',\n",
       " '/home/jmbenlloch/reset_data/4495/pmaps/pmaps.gdcsnext.628_4495.root.h5',\n",
       " '/home/jmbenlloch/reset_data/4495/pmaps/pmaps.gdcsnext.224_4495.root.h5',\n",
       " '/home/jmbenlloch/reset_data/4495/pmaps/pmaps.gdcsnext.446_4495.root.h5',\n",
       " '/home/jmbenlloch/reset_data/4495/pmaps/pmaps.gdcsnext.531_4495.root.h5',\n",
       " '/home/jmbenlloch/reset_data/4495/pmaps/pmaps.gdcsnext.618_4495.root.h5',\n",
       " '/home/jmbenlloch/reset_data/4495/pmaps/pmaps.gdcsnext.641_4495.root.h5',\n",
       " '/home/jmbenlloch/reset_data/4495/pmaps/pmaps.gdcsnext.184_4495.root.h5',\n",
       " '/home/jmbenlloch/reset_data/4495/pmaps/pmaps.gdcsnext.036_4495.root.h5',\n",
       " '/home/jmbenlloch/reset_data/4495/pmaps/pmaps.gdcsnext.280_4495.root.h5',\n",
       " '/home/jmbenlloch/reset_data/4495/pmaps/pmaps.gdcsnext.232_4495.root.h5',\n",
       " '/home/jmbenlloch/reset_data/4495/pmaps/pmaps.gdcsnext.447_4495.root.h5',\n",
       " '/home/jmbenlloch/reset_data/4495/pmaps/pmaps.gdcsnext.013_4495.root.h5',\n",
       " '/home/jmbenlloch/reset_data/4495/pmaps/pmaps.gdcsnext.945_4495.root.h5',\n",
       " '/home/jmbenlloch/reset_data/4495/pmaps/pmaps.gdcsnext.754_4495.root.h5',\n",
       " '/home/jmbenlloch/reset_data/4495/pmaps/pmaps.gdcsnext.497_4495.root.h5',\n",
       " '/home/jmbenlloch/reset_data/4495/pmaps/pmaps.gdcsnext.575_4495.root.h5',\n",
       " '/home/jmbenlloch/reset_data/4495/pmaps/pmaps.gdcsnext.379_4495.root.h5',\n",
       " '/home/jmbenlloch/reset_data/4495/pmaps/pmaps.gdcsnext.263_4495.root.h5',\n",
       " '/home/jmbenlloch/reset_data/4495/pmaps/pmaps.gdcsnext.142_4495.root.h5',\n",
       " '/home/jmbenlloch/reset_data/4495/pmaps/pmaps.gdcsnext.113_4495.root.h5',\n",
       " '/home/jmbenlloch/reset_data/4495/pmaps/pmaps.gdcsnext.851_4495.root.h5',\n",
       " '/home/jmbenlloch/reset_data/4495/pmaps/pmaps.gdcsnext.361_4495.root.h5',\n",
       " '/home/jmbenlloch/reset_data/4495/pmaps/pmaps.gdcsnext.558_4495.root.h5',\n",
       " '/home/jmbenlloch/reset_data/4495/pmaps/pmaps.gdcsnext.364_4495.root.h5',\n",
       " '/home/jmbenlloch/reset_data/4495/pmaps/pmaps.gdcsnext.654_4495.root.h5',\n",
       " '/home/jmbenlloch/reset_data/4495/pmaps/pmaps.gdcsnext.847_4495.root.h5',\n",
       " '/home/jmbenlloch/reset_data/4495/pmaps/pmaps.gdcsnext.028_4495.root.h5',\n",
       " '/home/jmbenlloch/reset_data/4495/pmaps/pmaps.gdcsnext.039_4495.root.h5',\n",
       " '/home/jmbenlloch/reset_data/4495/pmaps/pmaps.gdcsnext.833_4495.root.h5',\n",
       " '/home/jmbenlloch/reset_data/4495/pmaps/pmaps.gdcsnext.051_4495.root.h5',\n",
       " '/home/jmbenlloch/reset_data/4495/pmaps/pmaps.gdcsnext.327_4495.root.h5',\n",
       " '/home/jmbenlloch/reset_data/4495/pmaps/pmaps.gdcsnext.596_4495.root.h5',\n",
       " '/home/jmbenlloch/reset_data/4495/pmaps/pmaps.gdcsnext.919_4495.root.h5',\n",
       " '/home/jmbenlloch/reset_data/4495/pmaps/pmaps.gdcsnext.335_4495.root.h5',\n",
       " '/home/jmbenlloch/reset_data/4495/pmaps/pmaps.gdcsnext.857_4495.root.h5',\n",
       " '/home/jmbenlloch/reset_data/4495/pmaps/pmaps.gdcsnext.239_4495.root.h5',\n",
       " '/home/jmbenlloch/reset_data/4495/pmaps/pmaps.gdcsnext.594_4495.root.h5',\n",
       " '/home/jmbenlloch/reset_data/4495/pmaps/pmaps.gdcsnext.492_4495.root.h5',\n",
       " '/home/jmbenlloch/reset_data/4495/pmaps/pmaps.gdcsnext.582_4495.root.h5',\n",
       " '/home/jmbenlloch/reset_data/4495/pmaps/pmaps.gdcsnext.437_4495.root.h5',\n",
       " '/home/jmbenlloch/reset_data/4495/pmaps/pmaps.gdcsnext.139_4495.root.h5',\n",
       " '/home/jmbenlloch/reset_data/4495/pmaps/pmaps.gdcsnext.884_4495.root.h5',\n",
       " '/home/jmbenlloch/reset_data/4495/pmaps/pmaps.gdcsnext.138_4495.root.h5',\n",
       " '/home/jmbenlloch/reset_data/4495/pmaps/pmaps.gdcsnext.644_4495.root.h5',\n",
       " '/home/jmbenlloch/reset_data/4495/pmaps/pmaps.gdcsnext.307_4495.root.h5',\n",
       " '/home/jmbenlloch/reset_data/4495/pmaps/pmaps.gdcsnext.445_4495.root.h5',\n",
       " '/home/jmbenlloch/reset_data/4495/pmaps/pmaps.gdcsnext.877_4495.root.h5',\n",
       " '/home/jmbenlloch/reset_data/4495/pmaps/pmaps.gdcsnext.539_4495.root.h5',\n",
       " '/home/jmbenlloch/reset_data/4495/pmaps/pmaps.gdcsnext.706_4495.root.h5',\n",
       " '/home/jmbenlloch/reset_data/4495/pmaps/pmaps.gdcsnext.731_4495.root.h5',\n",
       " '/home/jmbenlloch/reset_data/4495/pmaps/pmaps.gdcsnext.745_4495.root.h5',\n",
       " '/home/jmbenlloch/reset_data/4495/pmaps/pmaps.gdcsnext.670_4495.root.h5',\n",
       " '/home/jmbenlloch/reset_data/4495/pmaps/pmaps.gdcsnext.937_4495.root.h5',\n",
       " '/home/jmbenlloch/reset_data/4495/pmaps/pmaps.gdcsnext.408_4495.root.h5',\n",
       " '/home/jmbenlloch/reset_data/4495/pmaps/pmaps.gdcsnext.679_4495.root.h5',\n",
       " '/home/jmbenlloch/reset_data/4495/pmaps/pmaps.gdcsnext.211_4495.root.h5',\n",
       " '/home/jmbenlloch/reset_data/4495/pmaps/pmaps.gdcsnext.329_4495.root.h5',\n",
       " '/home/jmbenlloch/reset_data/4495/pmaps/pmaps.gdcsnext.404_4495.root.h5',\n",
       " '/home/jmbenlloch/reset_data/4495/pmaps/pmaps.gdcsnext.321_4495.root.h5',\n",
       " '/home/jmbenlloch/reset_data/4495/pmaps/pmaps.gdcsnext.257_4495.root.h5',\n",
       " '/home/jmbenlloch/reset_data/4495/pmaps/pmaps.gdcsnext.233_4495.root.h5',\n",
       " '/home/jmbenlloch/reset_data/4495/pmaps/pmaps.gdcsnext.098_4495.root.h5',\n",
       " '/home/jmbenlloch/reset_data/4495/pmaps/pmaps.gdcsnext.062_4495.root.h5',\n",
       " '/home/jmbenlloch/reset_data/4495/pmaps/pmaps.gdcsnext.377_4495.root.h5',\n",
       " '/home/jmbenlloch/reset_data/4495/pmaps/pmaps.gdcsnext.656_4495.root.h5',\n",
       " '/home/jmbenlloch/reset_data/4495/pmaps/pmaps.gdcsnext.456_4495.root.h5',\n",
       " '/home/jmbenlloch/reset_data/4495/pmaps/pmaps.gdcsnext.031_4495.root.h5',\n",
       " '/home/jmbenlloch/reset_data/4495/pmaps/pmaps.gdcsnext.639_4495.root.h5',\n",
       " '/home/jmbenlloch/reset_data/4495/pmaps/pmaps.gdcsnext.414_4495.root.h5',\n",
       " '/home/jmbenlloch/reset_data/4495/pmaps/pmaps.gdcsnext.055_4495.root.h5',\n",
       " '/home/jmbenlloch/reset_data/4495/pmaps/pmaps.gdcsnext.428_4495.root.h5',\n",
       " '/home/jmbenlloch/reset_data/4495/pmaps/pmaps.gdcsnext.899_4495.root.h5',\n",
       " '/home/jmbenlloch/reset_data/4495/pmaps/pmaps.gdcsnext.693_4495.root.h5',\n",
       " '/home/jmbenlloch/reset_data/4495/pmaps/pmaps.gdcsnext.276_4495.root.h5',\n",
       " '/home/jmbenlloch/reset_data/4495/pmaps/pmaps.gdcsnext.787_4495.root.h5',\n",
       " '/home/jmbenlloch/reset_data/4495/pmaps/pmaps.gdcsnext.773_4495.root.h5',\n",
       " '/home/jmbenlloch/reset_data/4495/pmaps/pmaps.gdcsnext.314_4495.root.h5',\n",
       " '/home/jmbenlloch/reset_data/4495/pmaps/pmaps.gdcsnext.722_4495.root.h5',\n",
       " '/home/jmbenlloch/reset_data/4495/pmaps/pmaps.gdcsnext.275_4495.root.h5',\n",
       " '/home/jmbenlloch/reset_data/4495/pmaps/pmaps.gdcsnext.415_4495.root.h5',\n",
       " '/home/jmbenlloch/reset_data/4495/pmaps/pmaps.gdcsnext.410_4495.root.h5',\n",
       " '/home/jmbenlloch/reset_data/4495/pmaps/pmaps.gdcsnext.022_4495.root.h5',\n",
       " '/home/jmbenlloch/reset_data/4495/pmaps/pmaps.gdcsnext.865_4495.root.h5',\n",
       " '/home/jmbenlloch/reset_data/4495/pmaps/pmaps.gdcsnext.106_4495.root.h5',\n",
       " '/home/jmbenlloch/reset_data/4495/pmaps/pmaps.gdcsnext.399_4495.root.h5',\n",
       " '/home/jmbenlloch/reset_data/4495/pmaps/pmaps.gdcsnext.677_4495.root.h5',\n",
       " '/home/jmbenlloch/reset_data/4495/pmaps/pmaps.gdcsnext.764_4495.root.h5',\n",
       " '/home/jmbenlloch/reset_data/4495/pmaps/pmaps.gdcsnext.135_4495.root.h5',\n",
       " '/home/jmbenlloch/reset_data/4495/pmaps/pmaps.gdcsnext.486_4495.root.h5',\n",
       " '/home/jmbenlloch/reset_data/4495/pmaps/pmaps.gdcsnext.822_4495.root.h5',\n",
       " '/home/jmbenlloch/reset_data/4495/pmaps/pmaps.gdcsnext.663_4495.root.h5',\n",
       " '/home/jmbenlloch/reset_data/4495/pmaps/pmaps.gdcsnext.289_4495.root.h5',\n",
       " '/home/jmbenlloch/reset_data/4495/pmaps/pmaps.gdcsnext.449_4495.root.h5',\n",
       " '/home/jmbenlloch/reset_data/4495/pmaps/pmaps.gdcsnext.238_4495.root.h5',\n",
       " '/home/jmbenlloch/reset_data/4495/pmaps/pmaps.gdcsnext.695_4495.root.h5',\n",
       " '/home/jmbenlloch/reset_data/4495/pmaps/pmaps.gdcsnext.691_4495.root.h5',\n",
       " '/home/jmbenlloch/reset_data/4495/pmaps/pmaps.gdcsnext.231_4495.root.h5',\n",
       " '/home/jmbenlloch/reset_data/4495/pmaps/pmaps.gdcsnext.534_4495.root.h5',\n",
       " '/home/jmbenlloch/reset_data/4495/pmaps/pmaps.gdcsnext.562_4495.root.h5',\n",
       " '/home/jmbenlloch/reset_data/4495/pmaps/pmaps.gdcsnext.065_4495.root.h5',\n",
       " '/home/jmbenlloch/reset_data/4495/pmaps/pmaps.gdcsnext.615_4495.root.h5',\n",
       " '/home/jmbenlloch/reset_data/4495/pmaps/pmaps.gdcsnext.506_4495.root.h5',\n",
       " '/home/jmbenlloch/reset_data/4495/pmaps/pmaps.gdcsnext.271_4495.root.h5',\n",
       " '/home/jmbenlloch/reset_data/4495/pmaps/pmaps.gdcsnext.326_4495.root.h5',\n",
       " '/home/jmbenlloch/reset_data/4495/pmaps/pmaps.gdcsnext.386_4495.root.h5',\n",
       " '/home/jmbenlloch/reset_data/4495/pmaps/pmaps.gdcsnext.429_4495.root.h5',\n",
       " '/home/jmbenlloch/reset_data/4495/pmaps/pmaps.gdcsnext.717_4495.root.h5',\n",
       " '/home/jmbenlloch/reset_data/4495/pmaps/pmaps.gdcsnext.855_4495.root.h5',\n",
       " '/home/jmbenlloch/reset_data/4495/pmaps/pmaps.gdcsnext.308_4495.root.h5',\n",
       " '/home/jmbenlloch/reset_data/4495/pmaps/pmaps.gdcsnext.303_4495.root.h5',\n",
       " '/home/jmbenlloch/reset_data/4495/pmaps/pmaps.gdcsnext.879_4495.root.h5',\n",
       " '/home/jmbenlloch/reset_data/4495/pmaps/pmaps.gdcsnext.078_4495.root.h5',\n",
       " '/home/jmbenlloch/reset_data/4495/pmaps/pmaps.gdcsnext.353_4495.root.h5',\n",
       " '/home/jmbenlloch/reset_data/4495/pmaps/pmaps.gdcsnext.565_4495.root.h5',\n",
       " '/home/jmbenlloch/reset_data/4495/pmaps/pmaps.gdcsnext.876_4495.root.h5',\n",
       " '/home/jmbenlloch/reset_data/4495/pmaps/pmaps.gdcsnext.886_4495.root.h5',\n",
       " '/home/jmbenlloch/reset_data/4495/pmaps/pmaps.gdcsnext.775_4495.root.h5',\n",
       " '/home/jmbenlloch/reset_data/4495/pmaps/pmaps.gdcsnext.761_4495.root.h5',\n",
       " '/home/jmbenlloch/reset_data/4495/pmaps/pmaps.gdcsnext.367_4495.root.h5',\n",
       " '/home/jmbenlloch/reset_data/4495/pmaps/pmaps.gdcsnext.430_4495.root.h5',\n",
       " '/home/jmbenlloch/reset_data/4495/pmaps/pmaps.gdcsnext.766_4495.root.h5',\n",
       " '/home/jmbenlloch/reset_data/4495/pmaps/pmaps.gdcsnext.625_4495.root.h5',\n",
       " '/home/jmbenlloch/reset_data/4495/pmaps/pmaps.gdcsnext.702_4495.root.h5',\n",
       " '/home/jmbenlloch/reset_data/4495/pmaps/pmaps.gdcsnext.508_4495.root.h5',\n",
       " '/home/jmbenlloch/reset_data/4495/pmaps/pmaps.gdcsnext.023_4495.root.h5',\n",
       " '/home/jmbenlloch/reset_data/4495/pmaps/pmaps.gdcsnext.589_4495.root.h5',\n",
       " '/home/jmbenlloch/reset_data/4495/pmaps/pmaps.gdcsnext.811_4495.root.h5',\n",
       " '/home/jmbenlloch/reset_data/4495/pmaps/pmaps.gdcsnext.400_4495.root.h5',\n",
       " '/home/jmbenlloch/reset_data/4495/pmaps/pmaps.gdcsnext.588_4495.root.h5',\n",
       " '/home/jmbenlloch/reset_data/4495/pmaps/pmaps.gdcsnext.035_4495.root.h5',\n",
       " '/home/jmbenlloch/reset_data/4495/pmaps/pmaps.gdcsnext.493_4495.root.h5',\n",
       " '/home/jmbenlloch/reset_data/4495/pmaps/pmaps.gdcsnext.423_4495.root.h5',\n",
       " '/home/jmbenlloch/reset_data/4495/pmaps/pmaps.gdcsnext.525_4495.root.h5',\n",
       " '/home/jmbenlloch/reset_data/4495/pmaps/pmaps.gdcsnext.363_4495.root.h5',\n",
       " '/home/jmbenlloch/reset_data/4495/pmaps/pmaps.gdcsnext.453_4495.root.h5',\n",
       " '/home/jmbenlloch/reset_data/4495/pmaps/pmaps.gdcsnext.044_4495.root.h5',\n",
       " '/home/jmbenlloch/reset_data/4495/pmaps/pmaps.gdcsnext.934_4495.root.h5',\n",
       " '/home/jmbenlloch/reset_data/4495/pmaps/pmaps.gdcsnext.597_4495.root.h5',\n",
       " '/home/jmbenlloch/reset_data/4495/pmaps/pmaps.gdcsnext.680_4495.root.h5',\n",
       " '/home/jmbenlloch/reset_data/4495/pmaps/pmaps.gdcsnext.330_4495.root.h5',\n",
       " '/home/jmbenlloch/reset_data/4495/pmaps/pmaps.gdcsnext.344_4495.root.h5',\n",
       " '/home/jmbenlloch/reset_data/4495/pmaps/pmaps.gdcsnext.127_4495.root.h5',\n",
       " '/home/jmbenlloch/reset_data/4495/pmaps/pmaps.gdcsnext.003_4495.root.h5',\n",
       " '/home/jmbenlloch/reset_data/4495/pmaps/pmaps.gdcsnext.924_4495.root.h5',\n",
       " '/home/jmbenlloch/reset_data/4495/pmaps/pmaps.gdcsnext.029_4495.root.h5',\n",
       " '/home/jmbenlloch/reset_data/4495/pmaps/pmaps.gdcsnext.468_4495.root.h5',\n",
       " '/home/jmbenlloch/reset_data/4495/pmaps/pmaps.gdcsnext.868_4495.root.h5',\n",
       " '/home/jmbenlloch/reset_data/4495/pmaps/pmaps.gdcsnext.683_4495.root.h5',\n",
       " '/home/jmbenlloch/reset_data/4495/pmaps/pmaps.gdcsnext.935_4495.root.h5',\n",
       " '/home/jmbenlloch/reset_data/4495/pmaps/pmaps.gdcsnext.920_4495.root.h5',\n",
       " '/home/jmbenlloch/reset_data/4495/pmaps/pmaps.gdcsnext.923_4495.root.h5',\n",
       " '/home/jmbenlloch/reset_data/4495/pmaps/pmaps.gdcsnext.108_4495.root.h5',\n",
       " '/home/jmbenlloch/reset_data/4495/pmaps/pmaps.gdcsnext.808_4495.root.h5',\n",
       " '/home/jmbenlloch/reset_data/4495/pmaps/pmaps.gdcsnext.463_4495.root.h5',\n",
       " '/home/jmbenlloch/reset_data/4495/pmaps/pmaps.gdcsnext.198_4495.root.h5',\n",
       " '/home/jmbenlloch/reset_data/4495/pmaps/pmaps.gdcsnext.487_4495.root.h5',\n",
       " '/home/jmbenlloch/reset_data/4495/pmaps/pmaps.gdcsnext.097_4495.root.h5',\n",
       " '/home/jmbenlloch/reset_data/4495/pmaps/pmaps.gdcsnext.295_4495.root.h5',\n",
       " '/home/jmbenlloch/reset_data/4495/pmaps/pmaps.gdcsnext.316_4495.root.h5',\n",
       " '/home/jmbenlloch/reset_data/4495/pmaps/pmaps.gdcsnext.515_4495.root.h5',\n",
       " '/home/jmbenlloch/reset_data/4495/pmaps/pmaps.gdcsnext.789_4495.root.h5',\n",
       " '/home/jmbenlloch/reset_data/4495/pmaps/pmaps.gdcsnext.809_4495.root.h5',\n",
       " '/home/jmbenlloch/reset_data/4495/pmaps/pmaps.gdcsnext.900_4495.root.h5',\n",
       " '/home/jmbenlloch/reset_data/4495/pmaps/pmaps.gdcsnext.160_4495.root.h5',\n",
       " '/home/jmbenlloch/reset_data/4495/pmaps/pmaps.gdcsnext.753_4495.root.h5',\n",
       " '/home/jmbenlloch/reset_data/4495/pmaps/pmaps.gdcsnext.189_4495.root.h5',\n",
       " '/home/jmbenlloch/reset_data/4495/pmaps/pmaps.gdcsnext.685_4495.root.h5',\n",
       " '/home/jmbenlloch/reset_data/4495/pmaps/pmaps.gdcsnext.852_4495.root.h5',\n",
       " '/home/jmbenlloch/reset_data/4495/pmaps/pmaps.gdcsnext.895_4495.root.h5',\n",
       " '/home/jmbenlloch/reset_data/4495/pmaps/pmaps.gdcsnext.490_4495.root.h5',\n",
       " '/home/jmbenlloch/reset_data/4495/pmaps/pmaps.gdcsnext.114_4495.root.h5',\n",
       " '/home/jmbenlloch/reset_data/4495/pmaps/pmaps.gdcsnext.111_4495.root.h5',\n",
       " '/home/jmbenlloch/reset_data/4495/pmaps/pmaps.gdcsnext.748_4495.root.h5',\n",
       " '/home/jmbenlloch/reset_data/4495/pmaps/pmaps.gdcsnext.318_4495.root.h5',\n",
       " '/home/jmbenlloch/reset_data/4495/pmaps/pmaps.gdcsnext.859_4495.root.h5',\n",
       " '/home/jmbenlloch/reset_data/4495/pmaps/pmaps.gdcsnext.933_4495.root.h5',\n",
       " '/home/jmbenlloch/reset_data/4495/pmaps/pmaps.gdcsnext.785_4495.root.h5',\n",
       " '/home/jmbenlloch/reset_data/4495/pmaps/pmaps.gdcsnext.021_4495.root.h5',\n",
       " '/home/jmbenlloch/reset_data/4495/pmaps/pmaps.gdcsnext.948_4495.root.h5',\n",
       " '/home/jmbenlloch/reset_data/4495/pmaps/pmaps.gdcsnext.331_4495.root.h5',\n",
       " '/home/jmbenlloch/reset_data/4495/pmaps/pmaps.gdcsnext.477_4495.root.h5',\n",
       " '/home/jmbenlloch/reset_data/4495/pmaps/pmaps.gdcsnext.325_4495.root.h5',\n",
       " '/home/jmbenlloch/reset_data/4495/pmaps/pmaps.gdcsnext.373_4495.root.h5',\n",
       " '/home/jmbenlloch/reset_data/4495/pmaps/pmaps.gdcsnext.634_4495.root.h5',\n",
       " '/home/jmbenlloch/reset_data/4495/pmaps/pmaps.gdcsnext.237_4495.root.h5',\n",
       " '/home/jmbenlloch/reset_data/4495/pmaps/pmaps.gdcsnext.481_4495.root.h5',\n",
       " '/home/jmbenlloch/reset_data/4495/pmaps/pmaps.gdcsnext.058_4495.root.h5',\n",
       " '/home/jmbenlloch/reset_data/4495/pmaps/pmaps.gdcsnext.567_4495.root.h5',\n",
       " '/home/jmbenlloch/reset_data/4495/pmaps/pmaps.gdcsnext.018_4495.root.h5',\n",
       " '/home/jmbenlloch/reset_data/4495/pmaps/pmaps.gdcsnext.090_4495.root.h5',\n",
       " '/home/jmbenlloch/reset_data/4495/pmaps/pmaps.gdcsnext.721_4495.root.h5',\n",
       " '/home/jmbenlloch/reset_data/4495/pmaps/pmaps.gdcsnext.061_4495.root.h5',\n",
       " '/home/jmbenlloch/reset_data/4495/pmaps/pmaps.gdcsnext.435_4495.root.h5',\n",
       " '/home/jmbenlloch/reset_data/4495/pmaps/pmaps.gdcsnext.669_4495.root.h5',\n",
       " '/home/jmbenlloch/reset_data/4495/pmaps/pmaps.gdcsnext.548_4495.root.h5',\n",
       " '/home/jmbenlloch/reset_data/4495/pmaps/pmaps.gdcsnext.901_4495.root.h5',\n",
       " '/home/jmbenlloch/reset_data/4495/pmaps/pmaps.gdcsnext.420_4495.root.h5',\n",
       " '/home/jmbenlloch/reset_data/4495/pmaps/pmaps.gdcsnext.192_4495.root.h5',\n",
       " '/home/jmbenlloch/reset_data/4495/pmaps/pmaps.gdcsnext.696_4495.root.h5',\n",
       " '/home/jmbenlloch/reset_data/4495/pmaps/pmaps.gdcsnext.834_4495.root.h5',\n",
       " '/home/jmbenlloch/reset_data/4495/pmaps/pmaps.gdcsnext.395_4495.root.h5',\n",
       " '/home/jmbenlloch/reset_data/4495/pmaps/pmaps.gdcsnext.681_4495.root.h5',\n",
       " '/home/jmbenlloch/reset_data/4495/pmaps/pmaps.gdcsnext.390_4495.root.h5',\n",
       " '/home/jmbenlloch/reset_data/4495/pmaps/pmaps.gdcsnext.221_4495.root.h5',\n",
       " '/home/jmbenlloch/reset_data/4495/pmaps/pmaps.gdcsnext.219_4495.root.h5',\n",
       " '/home/jmbenlloch/reset_data/4495/pmaps/pmaps.gdcsnext.278_4495.root.h5',\n",
       " '/home/jmbenlloch/reset_data/4495/pmaps/pmaps.gdcsnext.068_4495.root.h5',\n",
       " '/home/jmbenlloch/reset_data/4495/pmaps/pmaps.gdcsnext.153_4495.root.h5',\n",
       " '/home/jmbenlloch/reset_data/4495/pmaps/pmaps.gdcsnext.643_4495.root.h5',\n",
       " '/home/jmbenlloch/reset_data/4495/pmaps/pmaps.gdcsnext.341_4495.root.h5',\n",
       " '/home/jmbenlloch/reset_data/4495/pmaps/pmaps.gdcsnext.651_4495.root.h5',\n",
       " '/home/jmbenlloch/reset_data/4495/pmaps/pmaps.gdcsnext.728_4495.root.h5',\n",
       " '/home/jmbenlloch/reset_data/4495/pmaps/pmaps.gdcsnext.894_4495.root.h5',\n",
       " '/home/jmbenlloch/reset_data/4495/pmaps/pmaps.gdcsnext.719_4495.root.h5',\n",
       " '/home/jmbenlloch/reset_data/4495/pmaps/pmaps.gdcsnext.083_4495.root.h5',\n",
       " '/home/jmbenlloch/reset_data/4495/pmaps/pmaps.gdcsnext.185_4495.root.h5',\n",
       " '/home/jmbenlloch/reset_data/4495/pmaps/pmaps.gdcsnext.788_4495.root.h5',\n",
       " '/home/jmbenlloch/reset_data/4495/pmaps/pmaps.gdcsnext.850_4495.root.h5',\n",
       " '/home/jmbenlloch/reset_data/4495/pmaps/pmaps.gdcsnext.707_4495.root.h5',\n",
       " '/home/jmbenlloch/reset_data/4495/pmaps/pmaps.gdcsnext.863_4495.root.h5',\n",
       " '/home/jmbenlloch/reset_data/4495/pmaps/pmaps.gdcsnext.347_4495.root.h5',\n",
       " '/home/jmbenlloch/reset_data/4495/pmaps/pmaps.gdcsnext.815_4495.root.h5',\n",
       " '/home/jmbenlloch/reset_data/4495/pmaps/pmaps.gdcsnext.720_4495.root.h5',\n",
       " '/home/jmbenlloch/reset_data/4495/pmaps/pmaps.gdcsnext.178_4495.root.h5',\n",
       " '/home/jmbenlloch/reset_data/4495/pmaps/pmaps.gdcsnext.312_4495.root.h5',\n",
       " '/home/jmbenlloch/reset_data/4495/pmaps/pmaps.gdcsnext.666_4495.root.h5',\n",
       " '/home/jmbenlloch/reset_data/4495/pmaps/pmaps.gdcsnext.553_4495.root.h5',\n",
       " '/home/jmbenlloch/reset_data/4495/pmaps/pmaps.gdcsnext.177_4495.root.h5',\n",
       " '/home/jmbenlloch/reset_data/4495/pmaps/pmaps.gdcsnext.014_4495.root.h5',\n",
       " '/home/jmbenlloch/reset_data/4495/pmaps/pmaps.gdcsnext.266_4495.root.h5',\n",
       " '/home/jmbenlloch/reset_data/4495/pmaps/pmaps.gdcsnext.455_4495.root.h5',\n",
       " '/home/jmbenlloch/reset_data/4495/pmaps/pmaps.gdcsnext.915_4495.root.h5',\n",
       " '/home/jmbenlloch/reset_data/4495/pmaps/pmaps.gdcsnext.674_4495.root.h5',\n",
       " '/home/jmbenlloch/reset_data/4495/pmaps/pmaps.gdcsnext.006_4495.root.h5',\n",
       " '/home/jmbenlloch/reset_data/4495/pmaps/pmaps.gdcsnext.387_4495.root.h5',\n",
       " '/home/jmbenlloch/reset_data/4495/pmaps/pmaps.gdcsnext.131_4495.root.h5',\n",
       " '/home/jmbenlloch/reset_data/4495/pmaps/pmaps.gdcsnext.751_4495.root.h5',\n",
       " '/home/jmbenlloch/reset_data/4495/pmaps/pmaps.gdcsnext.333_4495.root.h5',\n",
       " '/home/jmbenlloch/reset_data/4495/pmaps/pmaps.gdcsnext.906_4495.root.h5',\n",
       " '/home/jmbenlloch/reset_data/4495/pmaps/pmaps.gdcsnext.290_4495.root.h5',\n",
       " '/home/jmbenlloch/reset_data/4495/pmaps/pmaps.gdcsnext.647_4495.root.h5',\n",
       " '/home/jmbenlloch/reset_data/4495/pmaps/pmaps.gdcsnext.598_4495.root.h5',\n",
       " '/home/jmbenlloch/reset_data/4495/pmaps/pmaps.gdcsnext.781_4495.root.h5',\n",
       " '/home/jmbenlloch/reset_data/4495/pmaps/pmaps.gdcsnext.678_4495.root.h5',\n",
       " '/home/jmbenlloch/reset_data/4495/pmaps/pmaps.gdcsnext.484_4495.root.h5',\n",
       " '/home/jmbenlloch/reset_data/4495/pmaps/pmaps.gdcsnext.926_4495.root.h5',\n",
       " '/home/jmbenlloch/reset_data/4495/pmaps/pmaps.gdcsnext.457_4495.root.h5',\n",
       " '/home/jmbenlloch/reset_data/4495/pmaps/pmaps.gdcsnext.217_4495.root.h5',\n",
       " '/home/jmbenlloch/reset_data/4495/pmaps/pmaps.gdcsnext.004_4495.root.h5',\n",
       " '/home/jmbenlloch/reset_data/4495/pmaps/pmaps.gdcsnext.509_4495.root.h5',\n",
       " '/home/jmbenlloch/reset_data/4495/pmaps/pmaps.gdcsnext.037_4495.root.h5',\n",
       " '/home/jmbenlloch/reset_data/4495/pmaps/pmaps.gdcsnext.102_4495.root.h5',\n",
       " '/home/jmbenlloch/reset_data/4495/pmaps/pmaps.gdcsnext.591_4495.root.h5',\n",
       " '/home/jmbenlloch/reset_data/4495/pmaps/pmaps.gdcsnext.107_4495.root.h5',\n",
       " '/home/jmbenlloch/reset_data/4495/pmaps/pmaps.gdcsnext.797_4495.root.h5',\n",
       " '/home/jmbenlloch/reset_data/4495/pmaps/pmaps.gdcsnext.161_4495.root.h5',\n",
       " '/home/jmbenlloch/reset_data/4495/pmaps/pmaps.gdcsnext.726_4495.root.h5',\n",
       " '/home/jmbenlloch/reset_data/4495/pmaps/pmaps.gdcsnext.474_4495.root.h5',\n",
       " '/home/jmbenlloch/reset_data/4495/pmaps/pmaps.gdcsnext.038_4495.root.h5',\n",
       " '/home/jmbenlloch/reset_data/4495/pmaps/pmaps.gdcsnext.322_4495.root.h5',\n",
       " '/home/jmbenlloch/reset_data/4495/pmaps/pmaps.gdcsnext.155_4495.root.h5',\n",
       " '/home/jmbenlloch/reset_data/4495/pmaps/pmaps.gdcsnext.296_4495.root.h5',\n",
       " '/home/jmbenlloch/reset_data/4495/pmaps/pmaps.gdcsnext.577_4495.root.h5',\n",
       " '/home/jmbenlloch/reset_data/4495/pmaps/pmaps.gdcsnext.310_4495.root.h5',\n",
       " '/home/jmbenlloch/reset_data/4495/pmaps/pmaps.gdcsnext.354_4495.root.h5',\n",
       " '/home/jmbenlloch/reset_data/4495/pmaps/pmaps.gdcsnext.932_4495.root.h5',\n",
       " '/home/jmbenlloch/reset_data/4495/pmaps/pmaps.gdcsnext.298_4495.root.h5',\n",
       " '/home/jmbenlloch/reset_data/4495/pmaps/pmaps.gdcsnext.171_4495.root.h5',\n",
       " '/home/jmbenlloch/reset_data/4495/pmaps/pmaps.gdcsnext.180_4495.root.h5',\n",
       " '/home/jmbenlloch/reset_data/4495/pmaps/pmaps.gdcsnext.067_4495.root.h5',\n",
       " '/home/jmbenlloch/reset_data/4495/pmaps/pmaps.gdcsnext.727_4495.root.h5',\n",
       " '/home/jmbenlloch/reset_data/4495/pmaps/pmaps.gdcsnext.912_4495.root.h5',\n",
       " '/home/jmbenlloch/reset_data/4495/pmaps/pmaps.gdcsnext.133_4495.root.h5',\n",
       " '/home/jmbenlloch/reset_data/4495/pmaps/pmaps.gdcsnext.688_4495.root.h5',\n",
       " '/home/jmbenlloch/reset_data/4495/pmaps/pmaps.gdcsnext.212_4495.root.h5',\n",
       " '/home/jmbenlloch/reset_data/4495/pmaps/pmaps.gdcsnext.012_4495.root.h5',\n",
       " '/home/jmbenlloch/reset_data/4495/pmaps/pmaps.gdcsnext.526_4495.root.h5',\n",
       " '/home/jmbenlloch/reset_data/4495/pmaps/pmaps.gdcsnext.205_4495.root.h5',\n",
       " '/home/jmbenlloch/reset_data/4495/pmaps/pmaps.gdcsnext.206_4495.root.h5',\n",
       " '/home/jmbenlloch/reset_data/4495/pmaps/pmaps.gdcsnext.712_4495.root.h5',\n",
       " '/home/jmbenlloch/reset_data/4495/pmaps/pmaps.gdcsnext.442_4495.root.h5',\n",
       " '/home/jmbenlloch/reset_data/4495/pmaps/pmaps.gdcsnext.572_4495.root.h5',\n",
       " '/home/jmbenlloch/reset_data/4495/pmaps/pmaps.gdcsnext.871_4495.root.h5',\n",
       " '/home/jmbenlloch/reset_data/4495/pmaps/pmaps.gdcsnext.686_4495.root.h5',\n",
       " '/home/jmbenlloch/reset_data/4495/pmaps/pmaps.gdcsnext.267_4495.root.h5',\n",
       " '/home/jmbenlloch/reset_data/4495/pmaps/pmaps.gdcsnext.123_4495.root.h5',\n",
       " '/home/jmbenlloch/reset_data/4495/pmaps/pmaps.gdcsnext.351_4495.root.h5',\n",
       " '/home/jmbenlloch/reset_data/4495/pmaps/pmaps.gdcsnext.699_4495.root.h5',\n",
       " '/home/jmbenlloch/reset_data/4495/pmaps/pmaps.gdcsnext.564_4495.root.h5',\n",
       " '/home/jmbenlloch/reset_data/4495/pmaps/pmaps.gdcsnext.667_4495.root.h5',\n",
       " '/home/jmbenlloch/reset_data/4495/pmaps/pmaps.gdcsnext.357_4495.root.h5',\n",
       " '/home/jmbenlloch/reset_data/4495/pmaps/pmaps.gdcsnext.235_4495.root.h5',\n",
       " '/home/jmbenlloch/reset_data/4495/pmaps/pmaps.gdcsnext.938_4495.root.h5',\n",
       " '/home/jmbenlloch/reset_data/4495/pmaps/pmaps.gdcsnext.826_4495.root.h5',\n",
       " '/home/jmbenlloch/reset_data/4495/pmaps/pmaps.gdcsnext.755_4495.root.h5',\n",
       " '/home/jmbenlloch/reset_data/4495/pmaps/pmaps.gdcsnext.467_4495.root.h5',\n",
       " '/home/jmbenlloch/reset_data/4495/pmaps/pmaps.gdcsnext.741_4495.root.h5',\n",
       " '/home/jmbenlloch/reset_data/4495/pmaps/pmaps.gdcsnext.746_4495.root.h5',\n",
       " '/home/jmbenlloch/reset_data/4495/pmaps/pmaps.gdcsnext.896_4495.root.h5',\n",
       " '/home/jmbenlloch/reset_data/4495/pmaps/pmaps.gdcsnext.874_4495.root.h5',\n",
       " '/home/jmbenlloch/reset_data/4495/pmaps/pmaps.gdcsnext.120_4495.root.h5',\n",
       " '/home/jmbenlloch/reset_data/4495/pmaps/pmaps.gdcsnext.149_4495.root.h5',\n",
       " '/home/jmbenlloch/reset_data/4495/pmaps/pmaps.gdcsnext.281_4495.root.h5',\n",
       " '/home/jmbenlloch/reset_data/4495/pmaps/pmaps.gdcsnext.007_4495.root.h5',\n",
       " '/home/jmbenlloch/reset_data/4495/pmaps/pmaps.gdcsnext.168_4495.root.h5',\n",
       " '/home/jmbenlloch/reset_data/4495/pmaps/pmaps.gdcsnext.460_4495.root.h5',\n",
       " '/home/jmbenlloch/reset_data/4495/pmaps/pmaps.gdcsnext.527_4495.root.h5',\n",
       " '/home/jmbenlloch/reset_data/4495/pmaps/pmaps.gdcsnext.600_4495.root.h5',\n",
       " '/home/jmbenlloch/reset_data/4495/pmaps/pmaps.gdcsnext.813_4495.root.h5',\n",
       " '/home/jmbenlloch/reset_data/4495/pmaps/pmaps.gdcsnext.426_4495.root.h5',\n",
       " '/home/jmbenlloch/reset_data/4495/pmaps/pmaps.gdcsnext.799_4495.root.h5',\n",
       " '/home/jmbenlloch/reset_data/4495/pmaps/pmaps.gdcsnext.269_4495.root.h5',\n",
       " '/home/jmbenlloch/reset_data/4495/pmaps/pmaps.gdcsnext.780_4495.root.h5',\n",
       " '/home/jmbenlloch/reset_data/4495/pmaps/pmaps.gdcsnext.005_4495.root.h5',\n",
       " '/home/jmbenlloch/reset_data/4495/pmaps/pmaps.gdcsnext.810_4495.root.h5',\n",
       " '/home/jmbenlloch/reset_data/4495/pmaps/pmaps.gdcsnext.903_4495.root.h5',\n",
       " '/home/jmbenlloch/reset_data/4495/pmaps/pmaps.gdcsnext.914_4495.root.h5',\n",
       " '/home/jmbenlloch/reset_data/4495/pmaps/pmaps.gdcsnext.570_4495.root.h5',\n",
       " '/home/jmbenlloch/reset_data/4495/pmaps/pmaps.gdcsnext.927_4495.root.h5',\n",
       " '/home/jmbenlloch/reset_data/4495/pmaps/pmaps.gdcsnext.637_4495.root.h5',\n",
       " '/home/jmbenlloch/reset_data/4495/pmaps/pmaps.gdcsnext.033_4495.root.h5',\n",
       " '/home/jmbenlloch/reset_data/4495/pmaps/pmaps.gdcsnext.689_4495.root.h5',\n",
       " '/home/jmbenlloch/reset_data/4495/pmaps/pmaps.gdcsnext.393_4495.root.h5',\n",
       " '/home/jmbenlloch/reset_data/4495/pmaps/pmaps.gdcsnext.194_4495.root.h5',\n",
       " '/home/jmbenlloch/reset_data/4495/pmaps/pmaps.gdcsnext.172_4495.root.h5',\n",
       " '/home/jmbenlloch/reset_data/4495/pmaps/pmaps.gdcsnext.122_4495.root.h5',\n",
       " '/home/jmbenlloch/reset_data/4495/pmaps/pmaps.gdcsnext.345_4495.root.h5',\n",
       " '/home/jmbenlloch/reset_data/4495/pmaps/pmaps.gdcsnext.105_4495.root.h5',\n",
       " '/home/jmbenlloch/reset_data/4495/pmaps/pmaps.gdcsnext.584_4495.root.h5',\n",
       " '/home/jmbenlloch/reset_data/4495/pmaps/pmaps.gdcsnext.777_4495.root.h5',\n",
       " '/home/jmbenlloch/reset_data/4495/pmaps/pmaps.gdcsnext.623_4495.root.h5',\n",
       " '/home/jmbenlloch/reset_data/4495/pmaps/pmaps.gdcsnext.802_4495.root.h5',\n",
       " '/home/jmbenlloch/reset_data/4495/pmaps/pmaps.gdcsnext.668_4495.root.h5',\n",
       " '/home/jmbenlloch/reset_data/4495/pmaps/pmaps.gdcsnext.642_4495.root.h5',\n",
       " '/home/jmbenlloch/reset_data/4495/pmaps/pmaps.gdcsnext.740_4495.root.h5',\n",
       " '/home/jmbenlloch/reset_data/4495/pmaps/pmaps.gdcsnext.050_4495.root.h5',\n",
       " '/home/jmbenlloch/reset_data/4495/pmaps/pmaps.gdcsnext.602_4495.root.h5',\n",
       " '/home/jmbenlloch/reset_data/4495/pmaps/pmaps.gdcsnext.371_4495.root.h5',\n",
       " '/home/jmbenlloch/reset_data/4495/pmaps/pmaps.gdcsnext.181_4495.root.h5',\n",
       " '/home/jmbenlloch/reset_data/4495/pmaps/pmaps.gdcsnext.091_4495.root.h5',\n",
       " '/home/jmbenlloch/reset_data/4495/pmaps/pmaps.gdcsnext.882_4495.root.h5',\n",
       " '/home/jmbenlloch/reset_data/4495/pmaps/pmaps.gdcsnext.254_4495.root.h5',\n",
       " '/home/jmbenlloch/reset_data/4495/pmaps/pmaps.gdcsnext.273_4495.root.h5',\n",
       " '/home/jmbenlloch/reset_data/4495/pmaps/pmaps.gdcsnext.818_4495.root.h5',\n",
       " '/home/jmbenlloch/reset_data/4495/pmaps/pmaps.gdcsnext.204_4495.root.h5',\n",
       " '/home/jmbenlloch/reset_data/4495/pmaps/pmaps.gdcsnext.838_4495.root.h5',\n",
       " '/home/jmbenlloch/reset_data/4495/pmaps/pmaps.gdcsnext.692_4495.root.h5',\n",
       " '/home/jmbenlloch/reset_data/4495/pmaps/pmaps.gdcsnext.611_4495.root.h5',\n",
       " '/home/jmbenlloch/reset_data/4495/pmaps/pmaps.gdcsnext.709_4495.root.h5',\n",
       " '/home/jmbenlloch/reset_data/4495/pmaps/pmaps.gdcsnext.521_4495.root.h5',\n",
       " '/home/jmbenlloch/reset_data/4495/pmaps/pmaps.gdcsnext.187_4495.root.h5',\n",
       " '/home/jmbenlloch/reset_data/4495/pmaps/pmaps.gdcsnext.064_4495.root.h5',\n",
       " '/home/jmbenlloch/reset_data/4495/pmaps/pmaps.gdcsnext.378_4495.root.h5',\n",
       " '/home/jmbenlloch/reset_data/4495/pmaps/pmaps.gdcsnext.517_4495.root.h5',\n",
       " '/home/jmbenlloch/reset_data/4495/pmaps/pmaps.gdcsnext.599_4495.root.h5',\n",
       " '/home/jmbenlloch/reset_data/4495/pmaps/pmaps.gdcsnext.103_4495.root.h5',\n",
       " '/home/jmbenlloch/reset_data/4495/pmaps/pmaps.gdcsnext.369_4495.root.h5',\n",
       " '/home/jmbenlloch/reset_data/4495/pmaps/pmaps.gdcsnext.146_4495.root.h5',\n",
       " '/home/jmbenlloch/reset_data/4495/pmaps/pmaps.gdcsnext.140_4495.root.h5',\n",
       " '/home/jmbenlloch/reset_data/4495/pmaps/pmaps.gdcsnext.576_4495.root.h5']"
      ]
     },
     "execution_count": 2,
     "metadata": {},
     "output_type": "execute_result"
    }
   ],
   "source": [
    "inputfiles"
   ]
  },
  {
   "cell_type": "markdown",
   "metadata": {},
   "source": [
    "# IC functions"
   ]
  },
  {
   "cell_type": "code",
   "execution_count": 3,
   "metadata": {},
   "outputs": [
    {
     "name": "stdout",
     "output_type": "stream",
     "text": [
      "Running on  Tue Dec  5 12:48:02 2017\n"
     ]
    }
   ],
   "source": [
    "import os\n",
    "import functools\n",
    "import itertools\n",
    "import time\n",
    "print(\"Running on \", time.asctime())\n",
    "\n",
    "import numpy             as np\n",
    "import tables            as tb\n",
    "import matplotlib.pyplot as plt\n",
    "\n",
    "import invisible_cities.database.load_db as dbf\n",
    "import invisible_cities.filters.s1s2_filter as s1s2filt\n",
    "import invisible_cities.reco.pmaps_functions  as pmapsf\n",
    "import invisible_cities.reco.pmaps_functions_c  as pmapsfc\n",
    "import invisible_cities.reco.corrections    as corrf\n",
    "import invisible_cities.core.core_functions as coref\n",
    "import invisible_cities.core.core_functions_c as corefc\n",
    "import invisible_cities.core.fit_functions  as fitf\n",
    "import invisible_cities.reco.dst_functions as dstf\n",
    "import invisible_cities.reco.reset_functions as rstf\n",
    "#import invisible_cities.reco.reset_functions_old as rstfOld\n",
    "import invisible_cities.io.table_io as tbiof\n",
    "import invisible_cities.io.pmap_io as pmapio\n",
    "import invisible_cities.io.dst_io as dstio\n",
    "import invisible_cities.reco.xy_algorithms as xyf\n",
    "\n",
    "from invisible_cities.icaro.hst_functions import hist\n",
    "from invisible_cities.icaro.hst_functions import hist2d\n",
    "from invisible_cities.icaro.hst_functions import hist2d_profile\n",
    "from invisible_cities.icaro.hst_functions import labels\n",
    "from invisible_cities.icaro.hst_functions import gausstext\n",
    "\n",
    "from invisible_cities.reco.tbl_functions     import get_event_numbers_and_timestamps_from_file_name\n",
    "from invisible_cities.core.system_of_units import pes, mm, mus, ns\n",
    "\n",
    "from invisible_cities.evm.pmaps import S2, S2Si, Peak"
   ]
  },
  {
   "cell_type": "markdown",
   "metadata": {},
   "source": [
    "### General plotting options"
   ]
  },
  {
   "cell_type": "code",
   "execution_count": 4,
   "metadata": {
    "collapsed": true
   },
   "outputs": [],
   "source": [
    "%matplotlib inline\n",
    "\n",
    "np.warnings.filterwarnings('ignore')\n",
    "\n",
    "plt.rcParams[\"figure.figsize\"]          = 8, 6\n",
    "plt.rcParams[\"font.size\"]               = 15\n",
    "plt.rcParams[\"figure.max_open_warning\"] = 100\n",
    "\n",
    "profOpt = \"--k\"\n",
    "fitOpt  = \"r\""
   ]
  },
  {
   "cell_type": "markdown",
   "metadata": {},
   "source": [
    "### SiPM info"
   ]
  },
  {
   "cell_type": "code",
   "execution_count": 5,
   "metadata": {
    "collapsed": true
   },
   "outputs": [],
   "source": [
    "DataSiPM = dbf.DataSiPM(run_number)\n",
    "DataPMT = dbf.DataPMT(run_number)"
   ]
  },
  {
   "cell_type": "markdown",
   "metadata": {},
   "source": [
    "### Plots"
   ]
  },
  {
   "cell_type": "code",
   "execution_count": 6,
   "metadata": {
    "collapsed": true
   },
   "outputs": [],
   "source": [
    "def plot_map(xy_map, run=\"\"):\n",
    "    x , y  = xy_map._xs\n",
    "    x0, y0 = np.min(x) - np.diff(x)[0]/2, np.min(y) - np.diff(y)[0]/2\n",
    "    x1, y1 = np.max(x) + np.diff(x)[0]/2, np.max(y) + np.diff(y)[0]/2\n",
    "    f      = xy_map._fs\n",
    "    u      = xy_map._us\n",
    "    x, y   = np.repeat(x, y.size), np.tile(y, x.size)\n",
    "\n",
    "    plt.figure(figsize=(20,8))\n",
    "\n",
    "    plt.subplot(1, 2, 1)\n",
    "    hist2d(x, y, f.shape, ((x0, x1), (y0, y1)), weights=f.flatten(), new_figure=False)\n",
    "    plt.colorbar().set_label(\"Correction factor\")\n",
    "    labels(\"x (mm)\", \"y (mm)\", str(run))\n",
    "\n",
    "    plt.subplot(1, 2, 2)\n",
    "    hist2d(x, y, u.shape, ((x0, x1), (y0, y1)), weights=u.flatten(), new_figure=False)\n",
    "    plt.colorbar().set_label(\"Correction uncertainty\")\n",
    "    labels(\"x (mm)\", \"y (mm)\", str(run))"
   ]
  },
  {
   "cell_type": "markdown",
   "metadata": {},
   "source": [
    "#### Function to calculate lifetime"
   ]
  },
  {
   "cell_type": "code",
   "execution_count": 7,
   "metadata": {
    "collapsed": true
   },
   "outputs": [],
   "source": [
    "def lifetime_calculation(z, zrange, energy, erange):\n",
    "    hist(energy, 50, erange)\n",
    "    labels(\"S2 energy (pes)\", \"Entries\", \"Fidualized energy spectrum\")\n",
    "\n",
    "    low_cut   = 11000 * np.exp(-0.0009*z)\n",
    "    high_cut  = 14000 * np.exp(-0.0009*z)\n",
    "    sel       = coref.in_range(energy, low_cut, high_cut) # remove low and high E background\n",
    "\n",
    "    hist2d(z, energy, (100, 50), range=(zrange, erange))\n",
    "    x, y, u_y = fitf.profileX(z[sel], energy[sel], 100, xrange=zrange, yrange=erange)\n",
    "\n",
    "    plt.plot(x, y, profOpt)\n",
    "    plt.plot(z,  low_cut, \"k.\")\n",
    "    plt.plot(z, high_cut, \"k.\")\n",
    "\n",
    "    Zrange_LT = 50, 350\n",
    "    \n",
    "    seed = np.max(y), (x[15] - x[5])/np.log(y[15]/y[5])\n",
    "    f    = fitf.fit(fitf.expo, x, y, seed, fit_range=Zrange_LT, sigma=u_y)\n",
    "\n",
    "    plt.plot(x, f.fn(x), fitOpt)\n",
    "    print(\"Energy at z=0 = {:.1f} +- {:.1f}\".format( f.values[0], f.errors[0]))\n",
    "    print(\"Lifetime      = {:.1f} +- {:.1f}\".format(-f.values[1], f.errors[1]))\n",
    "    print(\"Chi2          = {:.2f}          \".format(f.chi2))\n",
    "\n",
    "    labels(\"Drift time ($\\mu$s)\", \"S2 energy (pes)\", \"Fiducialized energy spectrum vs Z\")\n",
    "\n",
    "    return corrf.LifetimeCorrection(-f.values[1], f.errors[1])"
   ]
  },
  {
   "cell_type": "code",
   "execution_count": 8,
   "metadata": {
    "collapsed": true
   },
   "outputs": [],
   "source": [
    "class ResetDST(tb.IsDescription):\n",
    "    X        = tb.Float64Col(pos=0)\n",
    "    Y        = tb.Float64Col(pos=1)\n",
    "    Z        = tb.Float64Col(pos=2)\n",
    "    E        = tb.Float64Col(pos=3)\n",
    "    EventID  = tb.UInt32Col(pos=4)\n",
    "    PeakNo = tb.UInt32Col(pos=5)\n",
    "    Iteration = tb.UInt32Col(pos=6)"
   ]
  },
  {
   "cell_type": "code",
   "execution_count": 9,
   "metadata": {
    "collapsed": true
   },
   "outputs": [],
   "source": [
    "def rebin_s2si(s2, s2si, rf):\n",
    "    \"\"\"given an s2 and a corresponding s2si, rebin them by a factor rf\"\"\"\n",
    "    assert rf >= 1 and rf % 1 == 0\n",
    "    t, e, sipms = pmapsf.rebin_s2si_peak(s2[0], s2[1], s2si, rf)\n",
    "    s2d_rebin = [t, e]\n",
    "    s2sid_rebin = sipms\n",
    "\n",
    "    return s2d_rebin, s2sid_rebin"
   ]
  },
  {
   "cell_type": "code",
   "execution_count": 10,
   "metadata": {
    "collapsed": true
   },
   "outputs": [],
   "source": [
    "def rebin_s2pmt(s2pmt, stride):\n",
    "    \"\"\"rebin: s2 times (taking mean), s2 energies, and s2 sipm qs, by stride\"\"\"\n",
    "    # cython rebin_array is returning memoryview so we need to cast as np array\n",
    "    return   [corefc.rebin_array(s2pmt.t , stride, remainder=True, mean=True), \\\n",
    "              corefc.rebin_array(s2pmt.E , stride, remainder=True)]"
   ]
  },
  {
   "cell_type": "markdown",
   "metadata": {},
   "source": [
    "##  Read data\n",
    "\n",
    "### PMap parameter selection"
   ]
  },
  {
   "cell_type": "code",
   "execution_count": 11,
   "metadata": {
    "collapsed": true
   },
   "outputs": [],
   "source": [
    "init_val = {}\n",
    "\n",
    "init_val['s1_emin'] = 54 * pes\n",
    "init_val['s1_emax'] = 2400. * pes\n",
    "init_val['s1_wmin'] = 7*25 * ns\n",
    "init_val['s1_wmax'] = 16*25 * ns\n",
    "init_val['s1_hmin'] = 12. * pes\n",
    "init_val['s1_hmax'] = 400. * pes\n",
    "init_val['s1_num'] = 1\n",
    "init_val['s1_ethr'] = 0.5 * pes\n",
    "\n",
    "init_val['s2_emin'] = 200000. * pes\n",
    "init_val['s2_emax'] = 2.e6 * pes\n",
    "init_val['s2_wmin'] = 4.* mus\n",
    "init_val['s2_wmax'] = 500. * mus\n",
    "init_val['s2_hmin'] = 600. * pes\n",
    "init_val['s2_hmax'] = 60000. * pes\n",
    "init_val['s2_numMin'] = 1\n",
    "init_val['s2_numMax'] = 3\n",
    "init_val['s2_ethr'] = 0. * pes\n",
    "init_val['s2_nsipmmin'] = 1\n",
    "init_val['s2_nsipmmax'] = 1792\n",
    "\n",
    "def refresh_selector(param_val):\n",
    "    selector = s1s2filt.S12Selector(s1_nmin = param_val['s1_num'], s1_nmax = param_val['s1_num'], s1_emin = param_val['s1_emin'], s1_emax = param_val['s1_emax'], s1_ethr = param_val['s1_ethr'],\n",
    "                                    s1_wmin = param_val['s1_wmin'], s1_wmax = param_val['s1_wmax'], s1_hmin = param_val['s1_hmin'], s1_hmax = param_val['s1_hmax'],\n",
    "                                    s2_nmin = param_val['s2_numMin'], s2_nmax = param_val['s2_numMax'], s2_emin = param_val['s2_emin'], s2_emax = param_val['s2_emax'], \n",
    "                                    s2_wmin = param_val['s2_wmin'], s2_wmax = param_val['s2_wmax'], s2_hmin = param_val['s2_hmin'], s2_hmax = param_val['s2_hmax'], \n",
    "                                    s2_nsipmmin = param_val['s2_nsipmmin'], s2_nsipmmax = param_val['s2_nsipmmax'], s2_ethr = param_val['s2_ethr'])\n",
    "\n",
    "    return selector"
   ]
  },
  {
   "cell_type": "markdown",
   "metadata": {},
   "source": [
    "### Compute lifetime correction"
   ]
  },
  {
   "cell_type": "code",
   "execution_count": 12,
   "metadata": {
    "collapsed": true
   },
   "outputs": [],
   "source": [
    "ZCorr = corrf.LifetimeCorrection(1093.77, 23.99)"
   ]
  },
  {
   "cell_type": "markdown",
   "metadata": {},
   "source": [
    "### Load correction maps"
   ]
  },
  {
   "cell_type": "code",
   "execution_count": 13,
   "metadata": {},
   "outputs": [
    {
     "data": {
      "image/png": "[encoded data removed]",
      "text/plain": [
       "<matplotlib.figure.Figure at 0x7f87843f7d30>"
      ]
     },
     "metadata": {},
     "output_type": "display_data"
    },
    {
     "data": {
      "image/png": "[encoded data removed]",
      "text/plain": [
       "<matplotlib.figure.Figure at 0x7f874032d278>"
      ]
     },
     "metadata": {},
     "output_type": "display_data"
    }
   ],
   "source": [
    "pmt_xy_map = []\n",
    "sipm_xy_map = []\n",
    "modePMT = \"Sum\"\n",
    "#modePMT = \"Individual\"\n",
    "nPMT = 11\n",
    "pmt_sens = np.arange(0,nPMT,1)\n",
    "\n",
    "pmtcorr = \"/Users/ansimez/Documents/InvCit/hdf5/{}/PMT_Map_corr_keV\".format(map_run_number)\n",
    "sipmcorr = \"/Users/ansimez/Documents/InvCit/hdf5/{}/SiPM_Map_corr_z\".format(map_run_number)\n",
    "\n",
    "pmtcorr = \"/home/jmbenlloch/reset_data/mapas/PMT_Map_corr_keV.h5\"\n",
    "pmtcorr_i = \"/home/jmbenlloch/reset_data/mapas/PMT_Map_corr_keV_{}_4734.h5\"\n",
    "sipmcorr = \"/home/jmbenlloch/reset_data/mapas/SiPM_Map_corr_z{}.0_keV.h5\"\n",
    "\n",
    "zstep = 100\n",
    "z_scan = np.arange(0,600,zstep)\n",
    "\n",
    "for zmap in z_scan:\n",
    "    sipmcorr_file = sipmcorr.format(zmap)\n",
    "    sipm_xy_map.append(dstf.load_xy_corrections(sipmcorr_file, group=\"ResetMap\", node=\"SiPM\"))\n",
    "\n",
    "if modePMT == \"Sum\":\n",
    "    pmt_xy_map.append(dstf.load_xy_corrections(pmtcorr, group=\"ResetMap\", node=\"PMT\"))\n",
    "elif modePMT == \"Individual\":\n",
    "    for nsens in pmt_sens:\n",
    "        pmtcorr_file = pmtcorr_i.format(nsens)\n",
    "        pmt_xy_map.append(dstf.load_xy_corrections(pmtcorr_file, group=\"ResetMap\", node=\"PMT\"))\n",
    "#        pmt_xy_map.append(dstf.load_xy_corrections(pmtcorr_file+\".h5\"))\n",
    "else:\n",
    "    print(\"Invalid mode\")\n",
    "    \n",
    "    \n",
    "plot_map(pmt_xy_map[0])\n",
    "plot_map(sipm_xy_map[3])"
   ]
  },
  {
   "cell_type": "markdown",
   "metadata": {},
   "source": [
    "## Load event"
   ]
  },
  {
   "cell_type": "code",
   "execution_count": 14,
   "metadata": {},
   "outputs": [
    {
     "name": "stdout",
     "output_type": "stream",
     "text": [
      "Running on  Tue Dec  5 12:48:11 2017\n",
      "file: 0\n",
      "evt:  21215\n"
     ]
    }
   ],
   "source": [
    "slice_width = 2.\n",
    "\n",
    "sipm_dist = 20.\n",
    "point_dist = 20.\n",
    "sizeX = 2.\n",
    "sizeY = 2.\n",
    "sipm_thr = 5.\n",
    "iterations = 100\n",
    "fCathode = True\n",
    "fAnode = True\n",
    "e_thres = 0.\n",
    "verbose = False\n",
    "verboseMLEM = True\n",
    "rMax = 198\n",
    "#zstep = 100\n",
    "#modePMT = \"Individual\"\n",
    "#nPMT = 11\n",
    "\n",
    "#outputfolder = \"/Users/ansimez/Documents/InvCit/hdf5/{}/reset_dst/\".format(run_number)\n",
    "outputfolder = '/home/jmbenlloch/reset_data/4495/reset_dst'\n",
    "if not os.path.exists(outputfolder):\n",
    "    os.mkdir(outputfolder)\n",
    "    \n",
    "in_limit = 189\n",
    "filestep = 1\n",
    "s2pmt_file = {}\n",
    "\n",
    "#for fnumber, file in enumerate(inputfiles[in_limit:in_limit+filestep]):\n",
    "for fnumber, file in enumerate(['/home/jmbenlloch/reset_data/4495/pmaps/pmaps.gdcsnext.189_4495.root.h5']):\n",
    "    outputfile = outputfolder + \"reset_dst_\"+modePMT+\"_{}_select.h5\".format(fnumber+in_limit)\n",
    "    h5out = tb.open_file(outputfile, 'w')\n",
    "    dst_table = tbiof.make_table(h5out, \n",
    "                            group = \"Reset_DST\",\n",
    "                            name = \"Reset voxels\",\n",
    "                            fformat = ResetDST,\n",
    "                            description = 'Reset voxels',\n",
    "                            compression = \"ZLIB4\")\n",
    "    row = dst_table.row \n",
    "    print(\"Running on \", time.asctime())\n",
    "    try: \n",
    "#        s1_file, s2_file, s2si_file, _, s2pmt_file = pmapio.load_pmaps_with_ipmt(file)\n",
    "        s1_file, s2_file, s2si_file, = pmapio.load_pmaps(file)\n",
    "    except: \n",
    "        print(\"File {} could not be opened\".format(file))\n",
    "    else:\n",
    "        common_events = set(s1_file.keys()) & set(s2_file.keys()) & set(s2si_file.keys())\n",
    "        s1_all = dict({k:v for k,v in s1_file.items() if k in common_events})\n",
    "        s2_all = dict({k:v for k,v in s2_file.items() if k in common_events})\n",
    "        s2si_all =  dict({k:v for k,v in s2si_file.items() if k in common_events})\n",
    "        s2pmt_all = dict({k:v for k,v in s2pmt_file.items() if k in common_events})\n",
    "        \n",
    "        select = refresh_selector(init_val)\n",
    "\n",
    "#        for evt in range(1,2):\n",
    "        for evt in s1_all:\n",
    "            if(evt != 21215):\n",
    "                continue\n",
    "            else:\n",
    "                print(\"file: {}\".format(fnumber))\n",
    "            if(verbose):\n",
    "                print(\"Filter\")\n",
    "                %timeit(s1s2filt.s1s2_filter(select, s1_all[evt], s2_all[evt], s2si_all[evt]))\n",
    "\n",
    "            if not s1s2filt.s1s2_filter(select, s1_all[evt], s2_all[evt], s2si_all[evt]):\n",
    "                continue\n",
    "            s1_cut = select.select_valid_peaks(s1_all[evt], select.s1_ethr, select.s1e, select.s1w, select.s1h)\n",
    "            s2_cut = select.select_valid_peaks(s2_all[evt], select.s2_ethr, select.s2e, select.s2w, select.s2h)\n",
    "            s2si_cut = select.select_s2si(s2si_all[evt], select.nsi)\n",
    "    \n",
    "            print(\"evt: \", evt)\n",
    "            #print(\"Filter passed\")\n",
    "            #print(fnumber, file)\n",
    "            if(verbose):\n",
    "                print(\"select_valid_peaks\")\n",
    "                %timeit(select.select_valid_peaks(s1_all[evt], select.s1_ethr, select.s1e, select.s1w, select.s1h))\n",
    "                %timeit(select.select_valid_peaks(s2_all[evt], select.s2_ethr, select.s2e, select.s2w, select.s2h))\n",
    "                %timeit(select.select_s2si(s2si_all[evt], select.nsi))\n",
    "            \n",
    "            s1 = s1_all[evt].peak_waveform(0)\n",
    "            t0 = s1.t[np.argmax(s1.E)]\n",
    "\n",
    "            s2_cut = [peakno for peakno, v in s2_cut.items() if v == True]\n",
    "            s2si_cut = [peakno for peakno, v in s2si_cut.items() if v == True]\n",
    "            \n",
    "            valid_peaks = set(s2_cut) & set(s2si_cut)\n",
    "\n",
    "            for no in valid_peaks:\n",
    "                s2 = s2si_all[evt].s2d[no]\n",
    "                s2si = s2si_all[evt].s2sid[no]\n",
    "                if modePMT == \"Individual\":\n",
    "                    s2pmt = []\n",
    "                    for nsens in pmt_sens:\n",
    "                        s2pmt.append(rebin_s2pmt(s2pmt_all[evt].pmt_waveform(no, nsens), slice_width))\n",
    "                s2, s2si = rebin_s2si(s2, s2si, slice_width)\n",
    "                if(verbose):\n",
    "                    print(\"Rebin\")\n",
    "                    %timeit(rebin_s2si(s2, s2si, slice_width))\n",
    "                    \n",
    "                for tbin, e in enumerate(s2[1]):\n",
    "                    slice_ = pmapsfc.sipm_ids_and_charges_in_slice(s2si, tbin)\n",
    "                    if len(slice_[0]) <= 0:\n",
    "                        continue\n",
    "                    if(verbose):\n",
    "                        print(\"Charges in slice\")\n",
    "                        %timeit(pmapsfc.sipm_ids_and_charges_in_slice(s2si, tbin))\n",
    "                    z = (np.average(s2[0][tbin], weights=s2[1][tbin]) - t0)/1000.\n",
    "                    if(z>550):\n",
    "                        continue\n",
    "                    if(verbose):\n",
    "                        print(\"Z calc\")\n",
    "                        %timeit((np.average(s2[0][tbin], weights=s2[1][tbin]) - t0)/1000.)\n",
    "                    #Create voxels\n",
    "                    sens_q = np.array(slice_[1]*ZCorr(z).value)\n",
    "                    if len(sens_q[sens_q>sipm_thr]) <= 0:\n",
    "                        continue     \n",
    "                    \n",
    "                    break\n",
    "                    vox = rstf.CreateVoxels(DataSiPM, np.array(slice_[0]), sens_q, point_dist, sipm_thr, sizeX, sizeY, rMax)\n",
    "                    #print (\"vox: \", vox)\n",
    "#                    voxOld = rstfOld.CreateVoxels(DataSiPM, np.array(slice_[0]), sens_q, point_dist, sipm_thr, sizeX, sizeY, rMax)\n",
    "                    if len(vox[0]) <= 0:\n",
    "                        continue\n",
    "                    if(verbose):\n",
    "                        print(\"Create vox\")\n",
    "                        %timeit(rstf.CreateVoxels(DataSiPM, np.array(slice_[0]), sens_q, point_dist, sipm_thr, sizeX, sizeY))\n",
    "                    #Create anode and cathode response \n",
    "                    anode_response = rstf.CreateSiPMresponse(DataSiPM, np.array(slice_[0]), sens_q, sipm_dist, sipm_thr, vox)\n",
    "#                    anode_responseOld = rstfOld.CreateSiPMresponse(DataSiPM, np.array(slice_[0]), sens_q, sipm_dist, sipm_thr, voxOld)\n",
    "\n",
    "                    if modePMT == \"Sum\":\n",
    "                        cath_response = np.array([e*ZCorr(z).value])\n",
    "                    elif modePMT == \"Individual\":\n",
    "                        cath_response = []\n",
    "                        for nsens in pmt_sens:\n",
    "                            cath_response.append(s2pmt[nsens][1][tbin]*ZCorr(z).value)\n",
    "                    else:\n",
    "                        print(\"Invalid mode\")\n",
    "                    \n",
    "                    if(verbose):\n",
    "                        print(\"Anode and cath response\")\n",
    "                        %timeit(rstf.CreateSiPMresponse(DataSiPM, np.array(slice_[0]), sens_q, sipm_dist, sipm_thr, vox))\n",
    "                        %timeit(np.array([e*ZCorr(z).value]))\n",
    "                    \n",
    "                    #Run MLEM\n",
    "                    imageIter = vox\n",
    "#                    imageIterOld = voxOld\n",
    "#                    imageIter2 = vox\n",
    "                    voxDX, voxDY = rstf.computeDiff(DataSiPM, vox, anode_response)\n",
    "#                    voxDXOld, voxDYOld = rstfOld.computeDiff(DataSiPM, voxOld, anode_responseOld)\n",
    "#                    selVoxOld, selSensOld = rstfOld.createSel(voxDXOld, voxDYOld, anode_responseOld, sipm_dist)\n",
    "                    selVox, selSens = rstf.createSel(voxDX, voxDY, anode_response, sipm_dist)\n",
    "                    if(verbose):\n",
    "                        print(\"voxD and sel and prob\")\n",
    "                        %timeit(rstf.computeDiff(DataSiPM, vox, anode_response))\n",
    "                        %timeit(rstf.createSel(voxDX, voxDY, anode_response, sipm_dist))\n",
    "                        %timeit(rstf.computeProb(pmt_xy_map, sipm_xy_map, voxDX, voxDY, vox[0], vox[1]))\n",
    "#                    print(\"Slice ini at \", time.asctime())\n",
    "                    z_index = int(z//zstep )\n",
    "#                    print(z)\n",
    "#                    print(z_index)\n",
    "                    sipm_prob, pmt_prob = rstf.computeProb(pmt_xy_map, sipm_xy_map[z_index], voxDX, voxDY, vox[0], vox[1])\n",
    "#                    sipm_probOld, pmt_probOld = rstfOld.computeProb(pmt_xy_map, sipm_xy_map[z_index], voxDXOld, voxDYOld, voxOld[0], voxOld[1])\n",
    "\n",
    "                    j = 0\n",
    "                    for j in range(iterations):\n",
    "                        if(verboseMLEM):\n",
    "                            print(\"MLEM_step\")\n",
    "                            %timeit rstf.MLEM_step(voxDX, voxDY, imageIter, selVox, selSens, anode_response, cath_response, pmt_prob, sipm_prob, sipm_dist=sipm_dist, eThres=e_thres, fCathode = fCathode, fAnode = fAnode)\n",
    "                            print(\"AnodeForward\")\n",
    "                            %timeit(rstf.ComputeAnodeForward(voxDX, voxDY, imageIter, anode_response, sipm_dist, sipm_prob, selVox))\n",
    "                            print(\"CathodeForward\")\n",
    "                            %timeit(rstf.ComputeCathForward(vox, cath_response, pmt_prob))\n",
    "#                        imageIter = rstf.MLEM_step(voxDX, voxDY, imageIter, anode_response, cath_response, pmt_xy_map, sipm_xy_map, sipm_dist=sipm_dist, eThres=e_thres, fCathode = fCathode, fAnode = fAnode)    \n",
    "#                        anode_forward = rstf.ComputeAnodeForward(voxDX, voxDY, imageIter, anode_response, sipm_dist, sipm_prob, selVox)\n",
    "#                        cath_forward = rstf.ComputeCathForward(vox, cath_response, pmt_prob)\n",
    "#                        anode_forwardOld = rstfOld.ComputeAnodeForward2(voxDXOld, voxDYOld, imageIterOld, anode_responseOld, sipm_dist, sipm_probOld, selVoxOld)\n",
    "#                        cath_forwardOld = rstfOld.ComputeCathForward2(voxOld, cath_response, pmt_probOld)\n",
    "                        imageIter = rstf.MLEM_step(voxDX, voxDY, imageIter, selVox, selSens, anode_response, cath_response, pmt_prob, sipm_prob, sipm_dist=sipm_dist, eThres=e_thres, fCathode = fCathode, fAnode = fAnode)  \n",
    "#                        imageIterOld = rstfOld.MLEM_step2(voxDXOld, voxDYOld, imageIterOld, selVoxOld, selSensOld, anode_responseOld, cath_response, pmt_probOld, sipm_probOld, sipm_dist=sipm_dist, eThres=e_thres, fCathode = fCathode, fAnode = fAnode)  \n",
    "                        \n",
    "#                        for iv in range(len(imageIter[0])):\n",
    "#                            if imageIter[2][iv] <= 0.00001:\n",
    "#                                continue\n",
    "#                            row['X'] = imageIter[0][iv]\n",
    "#                            row['Y'] = imageIter[1][iv]\n",
    "#                            row['Z'] = z\n",
    "#                            row['E'] = imageIter[2][iv]\n",
    "#                            row['PeakNo'] = no\n",
    "#                            row['EventID'] = evt\n",
    "#                            row['Iteration'] = j+1\n",
    "#                            row.append() \n",
    "                        \n",
    "    #Save Event\n",
    "                    for iv in range(len(imageIter[0])):\n",
    "                        if imageIter[2][iv] <= 0.1:\n",
    "                            continue\n",
    "                        row['X'] = imageIter[0][iv]\n",
    "                        row['Y'] = imageIter[1][iv]\n",
    "                        row['Z'] = z\n",
    "                        row['E'] = imageIter[2][iv]\n",
    "                        row['PeakNo'] = no\n",
    "                        row['EventID'] = evt\n",
    "                        row['Iteration'] = j+1\n",
    "                        row.append() \n",
    "    h5out.close()                    \n"
   ]
  },
  {
   "cell_type": "code",
   "execution_count": 15,
   "metadata": {
    "collapsed": true
   },
   "outputs": [],
   "source": [
    "vox = rstf.CreateVoxels(DataSiPM, np.array(slice_[0]), sens_q, point_dist, sipm_thr, sizeX, sizeY, rMax)"
   ]
  },
  {
   "cell_type": "code",
   "execution_count": 16,
   "metadata": {
    "collapsed": true
   },
   "outputs": [],
   "source": [
    "anode_response = rstf.CreateSiPMresponse(DataSiPM, np.array(slice_[0]), sens_q, sipm_dist, sipm_thr, vox)"
   ]
  },
  {
   "cell_type": "code",
   "execution_count": 17,
   "metadata": {
    "collapsed": true
   },
   "outputs": [],
   "source": [
    "voxDX, voxDY = rstf.computeDiff(DataSiPM, vox, anode_response)"
   ]
  },
  {
   "cell_type": "code",
   "execution_count": 18,
   "metadata": {
    "collapsed": true
   },
   "outputs": [],
   "source": [
    "selVox, selSens = rstf.createSel(voxDX, voxDY, anode_response, sipm_dist)"
   ]
  },
  {
   "cell_type": "code",
   "execution_count": 19,
   "metadata": {
    "collapsed": true
   },
   "outputs": [],
   "source": [
    "z_index = int(z//zstep )\n",
    "sipm_prob, pmt_prob = rstf.computeProb(pmt_xy_map, sipm_xy_map[z_index], voxDX, voxDY, vox[0], vox[1])"
   ]
  },
  {
   "cell_type": "code",
   "execution_count": 20,
   "metadata": {
    "collapsed": true
   },
   "outputs": [],
   "source": [
    "cath_response = np.array([e*ZCorr(z).value])"
   ]
  },
  {
   "cell_type": "code",
   "execution_count": 21,
   "metadata": {
    "collapsed": true
   },
   "outputs": [],
   "source": [
    "imageIter = vox\n",
    "imageIter = rstf.MLEM_step(voxDX, voxDY, imageIter, selVox, selSens, anode_response, cath_response, pmt_prob, sipm_prob, sipm_dist=sipm_dist, eThres=e_thres, fCathode = fCathode, fAnode = fAnode)  "
   ]
  },
  {
   "cell_type": "code",
   "execution_count": 22,
   "metadata": {},
   "outputs": [
    {
     "name": "stdout",
     "output_type": "stream",
     "text": [
      "144 ms ± 2.95 ms per loop (mean ± std. dev. of 7 runs, 10 loops each)\n"
     ]
    }
   ],
   "source": [
    "%timeit(rstf.MLEM_step(voxDX, voxDY, imageIter, selVox, selSens, anode_response, cath_response, pmt_prob, sipm_prob, sipm_dist=sipm_dist, eThres=e_thres, fCathode = fCathode, fAnode = fAnode))"
   ]
  },
  {
   "cell_type": "markdown",
   "metadata": {},
   "source": [
    "# CUDA"
   ]
  },
  {
   "cell_type": "markdown",
   "metadata": {},
   "source": [
    "## Voxels"
   ]
  },
  {
   "cell_type": "code",
   "execution_count": 59,
   "metadata": {
    "collapsed": true
   },
   "outputs": [],
   "source": [
    "def CreateVoxels(DataSiPM, sens_id, sens_q, point_dist, sipm_thr, sizeX, sizeY, rMax):\n",
    "    voxX = []\n",
    "    voxY = []\n",
    "    voxE = []\n",
    "    dist = point_dist\n",
    "    selC = (sens_q > sipm_thr)\n",
    "    rangex = np.arange(DataSiPM.X[sens_id[selC]].values.min()-dist, DataSiPM.X[sens_id[selC]].values.max()+dist, sizeX)\n",
    "    rangey = np.arange(DataSiPM.Y[sens_id[selC]].values.min()-dist, DataSiPM.Y[sens_id[selC]].values.max()+dist, sizeY)\n",
    "    for x in rangex:\n",
    "        for y in rangey:\n",
    "            if(np.sqrt(x*x+y*y) > rMax):\n",
    "                continue\n",
    "            voxX.append(x)\n",
    "            voxY.append(y)\n",
    "            voxE.append(sens_q.mean()) # Why mean?\n",
    "    #TODO try to avoid using lists before creating the numpy array        \n",
    "    data = np.empty(len(voxX), dtype={'names':('x', 'y', 'E'),\n",
    "                          'formats':('f4', 'f4', 'f4')})\n",
    "    data['x'] = voxX\n",
    "    data['y'] = voxY\n",
    "    data['E'] = voxE\n",
    "    return data\n"
   ]
  },
  {
   "cell_type": "code",
   "execution_count": 60,
   "metadata": {},
   "outputs": [
    {
     "name": "stdout",
     "output_type": "stream",
     "text": [
      "(1430,)\n",
      "[('x', '<f4'), ('y', '<f4'), ('E', '<f4')]\n"
     ]
    }
   ],
   "source": [
    "voxels = CreateVoxels(DataSiPM, np.array(slice_[0]), sens_q, point_dist, sipm_thr, sizeX, sizeY, rMax)\n",
    "print(voxels.shape)\n",
    "print(voxels.dtype)"
   ]
  },
  {
   "cell_type": "markdown",
   "metadata": {},
   "source": [
    "# Example"
   ]
  },
  {
   "cell_type": "code",
   "execution_count": 25,
   "metadata": {},
   "outputs": [
    {
     "name": "stdout",
     "output_type": "stream",
     "text": [
      "original arrays\n",
      "[( 115.,  25.,  6.39644432) ( 115.,  27.,  6.39644432)\n",
      " ( 115.,  29.,  6.39644432) ..., ( 193.,  39.,  6.39644432)\n",
      " ( 193.,  41.,  6.39644432) ( 193.,  43.,  6.39644432)]\n",
      "doubled arrays\n",
      "[( 230.,  50.,  12.79288864) ( 230.,  54.,  12.79288864)\n",
      " ( 230.,  58.,  12.79288864) ..., ( 193.,  39.,   6.39644432)\n",
      " ( 193.,  41.,   6.39644432) ( 193.,  43.,   6.39644432)]\n"
     ]
    }
   ],
   "source": [
    "import pycuda.driver as cuda\n",
    "import pycuda.autoinit\n",
    "import numpy\n",
    "from pycuda.compiler import SourceModule\n",
    "\n",
    "# Copy data to device\n",
    "voxels_d = cuda.to_device(voxels)\n",
    "\n",
    "print(\"original arrays\")\n",
    "print(voxels)\n",
    "\n",
    "mod = SourceModule(\"\"\"\n",
    "    #include <stdio.h>\n",
    "    \n",
    "    struct Voxels {\n",
    "        float x;\n",
    "        float y;\n",
    "        float E;\n",
    "    };\n",
    "\n",
    "    __global__ void double_array(Voxels *v)\n",
    "    {\n",
    "        v = v + threadIdx.x;\n",
    "        v->x *= 2;\n",
    "        v->y *= 2;\n",
    "        v->E *= 2;\n",
    "        printf(\"x: %f, y: %f, E: %f\\\\n\", v->x, v->y, v->E);\n",
    "    }\n",
    "    \"\"\")\n",
    "func = mod.get_function(\"double_array\")\n",
    "func(voxels_d, block=(500, 1, 1), grid=(1, 1))\n",
    "\n",
    "print(\"doubled arrays\")\n",
    "voxels = cuda.from_device(voxels_d, voxels.shape, voxels.dtype)\n",
    "print(voxels)"
   ]
  },
  {
   "cell_type": "markdown",
   "metadata": {},
   "source": [
    "## SiPM response"
   ]
  },
  {
   "cell_type": "code",
   "execution_count": 26,
   "metadata": {
    "collapsed": true
   },
   "outputs": [],
   "source": [
    "def CreateSiPMresponse(DataSiPM, sens_id, sens_q, sipm_dist, sipm_thr, vox):\n",
    "    ids     = []\n",
    "    charges = []\n",
    "    selDB = (DataSiPM.X.values >= vox[0].min()-sipm_dist) & (DataSiPM.X.values <= vox[0].max()+sipm_dist)\n",
    "    selDB = selDB & (DataSiPM.Y.values >= vox[1].min()-sipm_dist) & (DataSiPM.Y.values <= vox[1].max()+sipm_dist)\n",
    "    for ID in DataSiPM[selDB].index.values:\n",
    "        sel = (sens_id==ID)\n",
    "        ids.append(ID)\n",
    "        if sens_q[sel] > sipm_thr:\n",
    "            charges.append(sens_q[sel])\n",
    "        else:\n",
    "            charges.append(0)\n",
    "            \n",
    "    data = np.empty(len(ids), dtype={'names':('id', 'charge'),\n",
    "                          'formats':('i4', 'f4')})\n",
    "    data['id']     = ids\n",
    "    data['charge'] = charges\n",
    "    return data\n"
   ]
  },
  {
   "cell_type": "code",
   "execution_count": 27,
   "metadata": {},
   "outputs": [
    {
     "name": "stdout",
     "output_type": "stream",
     "text": [
      "(144,)\n",
      "[('id', '<i4'), ('charge', '<f4')]\n"
     ]
    }
   ],
   "source": [
    "anode_response = CreateSiPMresponse(DataSiPM, np.array(slice_[0]), sens_q, sipm_dist, sipm_thr, vox)\n",
    "print (anode_response.shape)\n",
    "print (anode_response.dtype)"
   ]
  },
  {
   "cell_type": "code",
   "execution_count": 28,
   "metadata": {},
   "outputs": [
    {
     "data": {
      "text/plain": [
       "array([(1352,   0.        ), (1353,   0.        ), (1354,   0.        ),\n",
       "       (1355,   0.        ), (1356,   0.        ), (1357,   0.        ),\n",
       "       (1358,   0.        ), (1359,   0.        ), (1360,   0.        ),\n",
       "       (1361,   0.        ), (1362,   0.        ), (1363,   0.        ),\n",
       "       (1364,   0.        ), (1365,   0.        ), (1366,   0.        ),\n",
       "       (1367,   0.        ), (1368,   0.        ), (1369,   0.        ),\n",
       "       (1370,   0.        ), (1371,   0.        ), (1372,   0.        ),\n",
       "       (1373,   0.        ), (1374,   0.        ), (1375,   0.        ),\n",
       "       (1376,   0.        ), (1377,   0.        ), (1378,   0.        ),\n",
       "       (1379,   0.        ), (1380,   0.        ), (1381,   0.        ),\n",
       "       (1382,   0.        ), (1383,   0.        ), (1384,  14.72511387),\n",
       "       (1385,  18.30488396), (1386,   6.26837349), (1387,   0.        ),\n",
       "       (1388,   0.        ), (1389,   0.        ), (1390,   0.        ),\n",
       "       (1391,   0.        ), (1392,  14.59842777), (1393,  23.50427055),\n",
       "       (1394,   6.8357563 ), (1395,   0.        ), (1396,   7.65335655),\n",
       "       (1397,   0.        ), (1398,   0.        ), (1399,   0.        ),\n",
       "       (1400,   0.        ), (1401,   9.99260044), (1402,  10.94429874),\n",
       "       (1403,   0.        ), (1404,   0.        ), (1405,   0.        ),\n",
       "       (1406,   0.        ), (1407,   0.        ), (1420,   0.        ),\n",
       "       (1421,   0.        ), (1422,   0.        ), (1423,   0.        ),\n",
       "       (1428,   0.        ), (1429,   0.        ), (1430,   0.        ),\n",
       "       (1431,   0.        ), (1436,   0.        ), (1437,   0.        ),\n",
       "       (1438,   0.        ), (1439,   0.        ), (1444,   0.        ),\n",
       "       (1445,   0.        ), (1446,   0.        ), (1447,   0.        ),\n",
       "       (1452,   0.        ), (1453,   0.        ), (1454,   0.        ),\n",
       "       (1455,   0.        ), (1460,   0.        ), (1461,   0.        ),\n",
       "       (1462,   0.        ), (1463,   0.        ), (1468,   0.        ),\n",
       "       (1469,   0.        ), (1470,   0.        ), (1471,   0.        ),\n",
       "       (1600,   0.        ), (1601,   0.        ), (1602,   0.        ),\n",
       "       (1603,   0.        ), (1604,   0.        ), (1605,   0.        ),\n",
       "       (1606,   0.        ), (1607,   0.        ), (1608,   0.        ),\n",
       "       (1609,   5.28288317), (1610,   0.        ), (1611,   0.        ),\n",
       "       (1612,   0.        ), (1613,   0.        ), (1614,   0.        ),\n",
       "       (1615,   0.        ), (1616,   0.        ), (1617,   0.        ),\n",
       "       (1618,   0.        ), (1619,   0.        ), (1620,   0.        ),\n",
       "       (1621,   0.        ), (1622,   0.        ), (1623,   0.        ),\n",
       "       (1624,   0.        ), (1625,   0.        ), (1626,   0.        ),\n",
       "       (1627,   0.        ), (1628,   0.        ), (1629,   0.        ),\n",
       "       (1630,   0.        ), (1631,   0.        ), (1632,   0.        ),\n",
       "       (1633,   0.        ), (1634,   0.        ), (1635,   0.        ),\n",
       "       (1636,   0.        ), (1637,   0.        ), (1638,   0.        ),\n",
       "       (1639,   0.        ), (1668,   0.        ), (1669,   0.        ),\n",
       "       (1670,   0.        ), (1671,   0.        ), (1676,   0.        ),\n",
       "       (1677,   0.        ), (1678,   0.        ), (1679,   0.        ),\n",
       "       (1684,   0.        ), (1685,   0.        ), (1686,   0.        ),\n",
       "       (1687,   0.        ), (1692,   0.        ), (1693,   0.        ),\n",
       "       (1694,   0.        ), (1695,   0.        ), (1700,   0.        ),\n",
       "       (1701,   0.        ), (1702,   0.        ), (1703,   0.        )],\n",
       "      dtype=[('id', '<i4'), ('charge', '<f4')])"
      ]
     },
     "execution_count": 28,
     "metadata": {},
     "output_type": "execute_result"
    }
   ],
   "source": [
    "anode_response"
   ]
  },
  {
   "cell_type": "markdown",
   "metadata": {},
   "source": [
    "## Compute probabilities"
   ]
  },
  {
   "cell_type": "code",
   "execution_count": 29,
   "metadata": {
    "collapsed": true
   },
   "outputs": [],
   "source": [
    "def computeProb(pmt_xy_map, sipm_xy_map, voxDX, voxDY, voxX, voxY):\n",
    "    xyprob = [sipm_xy_map(voxDX[j], voxDY[j]).value for j in range(len(voxDX))]\n",
    "    pmtprob = []\n",
    "    for j in range(len(voxDX)):\n",
    "        pmtprob.append([pmt_xy_map[i](voxX[j], voxY[j]).value[0] for i in range(len(pmt_xy_map))])\n",
    "    return np.array(xyprob, dtype='f4'), np.array(pmtprob, dtype='f4')\n"
   ]
  },
  {
   "cell_type": "code",
   "execution_count": 30,
   "metadata": {
    "collapsed": true
   },
   "outputs": [],
   "source": [
    "z_index = int(z//zstep )\n",
    "sipm_prob, pmt_prob = computeProb(pmt_xy_map, sipm_xy_map[z_index], voxDX, voxDY, vox[0], vox[1])"
   ]
  },
  {
   "cell_type": "code",
   "execution_count": 31,
   "metadata": {},
   "outputs": [
    {
     "name": "stdout",
     "output_type": "stream",
     "text": [
      "(1430, 1)\n",
      "float32\n"
     ]
    }
   ],
   "source": [
    "print(pmt_prob.shape)\n",
    "print(pmt_prob.dtype)"
   ]
  },
  {
   "cell_type": "code",
   "execution_count": 32,
   "metadata": {},
   "outputs": [
    {
     "name": "stdout",
     "output_type": "stream",
     "text": [
      "(1430, 144)\n",
      "float32\n"
     ]
    }
   ],
   "source": [
    "print(sipm_prob.shape)\n",
    "print(sipm_prob.dtype)"
   ]
  },
  {
   "cell_type": "markdown",
   "metadata": {},
   "source": [
    "## Compute diff"
   ]
  },
  {
   "cell_type": "code",
   "execution_count": 33,
   "metadata": {
    "collapsed": true
   },
   "outputs": [],
   "source": [
    "def computeDiff(DataSiPM, oldVox, anode_response):\n",
    "    sensx = DataSiPM.X[anode_response['id']].values\n",
    "    sensy =  DataSiPM.Y[anode_response['id']].values\n",
    "    voxD = np.array([[oldVox[0][j] - sensx, oldVox[1][j] - sensy] for j in range(len(oldVox[0]))], dtype='f4')\n",
    "    return voxD[:,0], voxD[:,1]"
   ]
  },
  {
   "cell_type": "code",
   "execution_count": 34,
   "metadata": {
    "collapsed": true
   },
   "outputs": [],
   "source": [
    "voxDX, voxDY = computeDiff(DataSiPM, vox, anode_response)"
   ]
  },
  {
   "cell_type": "code",
   "execution_count": 35,
   "metadata": {},
   "outputs": [
    {
     "name": "stdout",
     "output_type": "stream",
     "text": [
      "(1430, 144)\n",
      "float32\n"
     ]
    }
   ],
   "source": [
    "print(voxDX.shape)\n",
    "print(voxDX.dtype)"
   ]
  },
  {
   "cell_type": "code",
   "execution_count": 36,
   "metadata": {},
   "outputs": [
    {
     "name": "stdout",
     "output_type": "stream",
     "text": [
      "(1430, 144)\n",
      "float32\n"
     ]
    }
   ],
   "source": [
    "print(voxDY.shape)\n",
    "print(voxDY.dtype)"
   ]
  },
  {
   "cell_type": "markdown",
   "metadata": {},
   "source": [
    "## Create selection"
   ]
  },
  {
   "cell_type": "code",
   "execution_count": 37,
   "metadata": {
    "collapsed": true
   },
   "outputs": [],
   "source": [
    "import numba"
   ]
  },
  {
   "cell_type": "code",
   "execution_count": 38,
   "metadata": {
    "collapsed": true
   },
   "outputs": [],
   "source": [
    "@numba.autojit\n",
    "def createSel(voxDX, voxDY, anode_response, sipm_dist):\n",
    "    selVox = []\n",
    "    selSens = []\n",
    "    for sensor in range(len(anode_response)):\n",
    "        selVox.append( (np.abs(voxDX[:,sensor]) <= sipm_dist) & (np.abs(voxDY[:,sensor]) <= sipm_dist) )\n",
    "    for voxel in range(len(voxDX)):\n",
    "        selSens.append( (np.abs(voxDX[voxel]) <= sipm_dist) & (np.abs(voxDY[voxel]) <= sipm_dist) )\n",
    "    return np.array(selVox), np.array(selSens)"
   ]
  },
  {
   "cell_type": "code",
   "execution_count": 39,
   "metadata": {
    "collapsed": true
   },
   "outputs": [],
   "source": [
    "selVox, selSens = rstf.createSel(voxDX, voxDY, anode_response, sipm_dist)"
   ]
  },
  {
   "cell_type": "code",
   "execution_count": 40,
   "metadata": {},
   "outputs": [
    {
     "name": "stdout",
     "output_type": "stream",
     "text": [
      "(144, 1430)\n",
      "bool\n"
     ]
    }
   ],
   "source": [
    "print(selVox.shape)\n",
    "print(selVox.dtype)"
   ]
  },
  {
   "cell_type": "code",
   "execution_count": 41,
   "metadata": {},
   "outputs": [
    {
     "name": "stdout",
     "output_type": "stream",
     "text": [
      "(1430, 144)\n",
      "bool\n"
     ]
    }
   ],
   "source": [
    "print(selSens.shape)\n",
    "print(selSens.dtype)"
   ]
  },
  {
   "cell_type": "markdown",
   "metadata": {},
   "source": [
    "# Cathode response"
   ]
  },
  {
   "cell_type": "code",
   "execution_count": 42,
   "metadata": {},
   "outputs": [
    {
     "data": {
      "text/plain": [
       "array([ 722.64624023], dtype=float32)"
      ]
     },
     "execution_count": 42,
     "metadata": {},
     "output_type": "execute_result"
    }
   ],
   "source": [
    "cath_response = np.array([e*ZCorr(z).value], dtype='f4')\n",
    "cath_response"
   ]
  },
  {
   "cell_type": "markdown",
   "metadata": {},
   "source": [
    "## MLEM step"
   ]
  },
  {
   "cell_type": "code",
   "execution_count": 43,
   "metadata": {},
   "outputs": [
    {
     "ename": "IndexError",
     "evalue": "too many indices for array",
     "output_type": "error",
     "traceback": [
      "\u001b[0;31m---------------------------------------------------------------------------\u001b[0m",
      "\u001b[0;31mIndexError\u001b[0m                                Traceback (most recent call last)",
      "\u001b[0;32m<ipython-input-43-9a9f8272e254>\u001b[0m in \u001b[0;36m<module>\u001b[0;34m()\u001b[0m\n\u001b[1;32m      1\u001b[0m \u001b[0mimageIter\u001b[0m \u001b[0;34m=\u001b[0m \u001b[0mvox\u001b[0m\u001b[0;34m\u001b[0m\u001b[0m\n\u001b[0;32m----> 2\u001b[0;31m \u001b[0mimageIter\u001b[0m \u001b[0;34m=\u001b[0m \u001b[0mrstf\u001b[0m\u001b[0;34m.\u001b[0m\u001b[0mMLEM_step\u001b[0m\u001b[0;34m(\u001b[0m\u001b[0mvoxDX\u001b[0m\u001b[0;34m,\u001b[0m \u001b[0mvoxDY\u001b[0m\u001b[0;34m,\u001b[0m \u001b[0mimageIter\u001b[0m\u001b[0;34m,\u001b[0m \u001b[0mselVox\u001b[0m\u001b[0;34m,\u001b[0m \u001b[0mselSens\u001b[0m\u001b[0;34m,\u001b[0m \u001b[0manode_response\u001b[0m\u001b[0;34m,\u001b[0m \u001b[0mcath_response\u001b[0m\u001b[0;34m,\u001b[0m \u001b[0mpmt_prob\u001b[0m\u001b[0;34m,\u001b[0m \u001b[0msipm_prob\u001b[0m\u001b[0;34m,\u001b[0m \u001b[0msipm_dist\u001b[0m\u001b[0;34m=\u001b[0m\u001b[0msipm_dist\u001b[0m\u001b[0;34m,\u001b[0m \u001b[0meThres\u001b[0m\u001b[0;34m=\u001b[0m\u001b[0me_thres\u001b[0m\u001b[0;34m,\u001b[0m \u001b[0mfCathode\u001b[0m \u001b[0;34m=\u001b[0m \u001b[0mfCathode\u001b[0m\u001b[0;34m,\u001b[0m \u001b[0mfAnode\u001b[0m \u001b[0;34m=\u001b[0m \u001b[0mfAnode\u001b[0m\u001b[0;34m)\u001b[0m\u001b[0;34m\u001b[0m\u001b[0m\n\u001b[0m",
      "\u001b[0;32m~/IC/invisible_cities/reco/reset_functions.py\u001b[0m in \u001b[0;36mMLEM_step\u001b[0;34m(voxDX, voxDY, oldVox, selVox, selSens, anode_response, cath_response, pmt_prob, xy_prob, sipm_dist, eThres, fCathode, fAnode)\u001b[0m\n\u001b[1;32m     65\u001b[0m         \u001b[0;32mif\u001b[0m \u001b[0mfAnode\u001b[0m\u001b[0;34m:\u001b[0m\u001b[0;34m\u001b[0m\u001b[0m\n\u001b[1;32m     66\u001b[0m             \u001b[0mselS\u001b[0m \u001b[0;34m=\u001b[0m \u001b[0mselSens\u001b[0m\u001b[0;34m[\u001b[0m\u001b[0mj\u001b[0m\u001b[0;34m]\u001b[0m\u001b[0;34m\u001b[0m\u001b[0m\n\u001b[0;32m---> 67\u001b[0;31m             \u001b[0;32mif\u001b[0m \u001b[0mnp\u001b[0m\u001b[0;34m.\u001b[0m\u001b[0msum\u001b[0m\u001b[0;34m(\u001b[0m\u001b[0manode_response\u001b[0m\u001b[0;34m[\u001b[0m\u001b[0mselS\u001b[0m\u001b[0;34m,\u001b[0m\u001b[0;36m1\u001b[0m\u001b[0;34m]\u001b[0m\u001b[0;34m)\u001b[0m \u001b[0;34m==\u001b[0m \u001b[0;36m0.\u001b[0m\u001b[0;34m:\u001b[0m \u001b[0;31m# Check when can this happen\u001b[0m\u001b[0;34m\u001b[0m\u001b[0m\n\u001b[0m\u001b[1;32m     68\u001b[0m                 \u001b[0mnewVoxE\u001b[0m\u001b[0;34m.\u001b[0m\u001b[0mappend\u001b[0m\u001b[0;34m(\u001b[0m\u001b[0;36m0.\u001b[0m\u001b[0;34m)\u001b[0m\u001b[0;34m\u001b[0m\u001b[0m\n\u001b[1;32m     69\u001b[0m                 \u001b[0mnewVoxX\u001b[0m\u001b[0;34m.\u001b[0m\u001b[0mappend\u001b[0m\u001b[0;34m(\u001b[0m\u001b[0moldVox\u001b[0m\u001b[0;34m[\u001b[0m\u001b[0;36m0\u001b[0m\u001b[0;34m,\u001b[0m\u001b[0mj\u001b[0m\u001b[0;34m]\u001b[0m\u001b[0;34m)\u001b[0m\u001b[0;34m\u001b[0m\u001b[0m\n",
      "\u001b[0;31mIndexError\u001b[0m: too many indices for array"
     ]
    }
   ],
   "source": [
    "imageIter = vox\n",
    "imageIter = rstf.MLEM_step(voxDX, voxDY, imageIter, selVox, selSens, anode_response, cath_response, pmt_prob, sipm_prob, sipm_dist=sipm_dist, eThres=e_thres, fCathode = fCathode, fAnode = fAnode)  "
   ]
  },
  {
   "cell_type": "code",
   "execution_count": null,
   "metadata": {},
   "outputs": [],
   "source": [
    "imageIter"
   ]
  },
  {
   "cell_type": "code",
   "execution_count": null,
   "metadata": {},
   "outputs": [],
   "source": [
    "anode_response[0]"
   ]
  },
  {
   "cell_type": "code",
   "execution_count": null,
   "metadata": {},
   "outputs": [],
   "source": [
    "selSens.shape"
   ]
  },
  {
   "cell_type": "code",
   "execution_count": null,
   "metadata": {},
   "outputs": [],
   "source": [
    "sipm_prob.shape"
   ]
  },
  {
   "cell_type": "code",
   "execution_count": null,
   "metadata": {},
   "outputs": [],
   "source": [
    "selSens.transpose == selVox"
   ]
  },
  {
   "cell_type": "code",
   "execution_count": null,
   "metadata": {
    "collapsed": true
   },
   "outputs": [],
   "source": []
  },
  {
   "cell_type": "markdown",
   "metadata": {},
   "source": [
    "# MLEM step"
   ]
  },
  {
   "cell_type": "code",
   "execution_count": 62,
   "metadata": {},
   "outputs": [],
   "source": [
    "import pycuda.driver as cuda\n",
    "import pycuda.autoinit\n",
    "import numpy\n",
    "from pycuda.compiler import SourceModule\n",
    "\n",
    "# Copy data to device\n",
    "voxels_d         = cuda.to_device(voxels)\n",
    "anode_response_d = cuda.to_device(anode_response)\n",
    "cath_response_d  = cuda.to_device(cath_response)\n",
    "pmt_prob_d       = cuda.to_device(pmt_prob)\n",
    "sipm_prob_d      = cuda.to_device(sipm_prob)\n",
    "selSens_d        = cuda.to_device(selSens)"
   ]
  },
  {
   "cell_type": "code",
   "execution_count": 98,
   "metadata": {},
   "outputs": [],
   "source": [
    "kernel_code = open('mlem_step.cu').read()\n",
    "mod = SourceModule(kernel_code)\n",
    "func = mod.get_function(\"mlem_step\")"
   ]
  },
  {
   "cell_type": "code",
   "execution_count": 99,
   "metadata": {
    "collapsed": true
   },
   "outputs": [],
   "source": [
    "func(voxels_d, anode_response_d, cath_response_d, pmt_prob_d, sipm_prob_d, selSens_d, np.int32(1430), np.int32(144), np.int32(1), block=(1, 1, 1), grid=(1430, 1))"
   ]
  },
  {
   "cell_type": "code",
   "execution_count": 92,
   "metadata": {},
   "outputs": [
    {
     "data": {
      "text/plain": [
       "array([ 6.39644432,  6.39644432,  6.39644432, ...,  6.39644432,\n",
       "        6.39644432,  6.39644432], dtype=float32)"
      ]
     },
     "execution_count": 92,
     "metadata": {},
     "output_type": "execute_result"
    }
   ],
   "source": [
    "voxels['E']"
   ]
  },
  {
   "cell_type": "code",
   "execution_count": 93,
   "metadata": {},
   "outputs": [
    {
     "data": {
      "text/plain": [
       "0.43979418"
      ]
     },
     "execution_count": 93,
     "metadata": {},
     "output_type": "execute_result"
    }
   ],
   "source": [
    "sipm_prob[1373,143]"
   ]
  },
  {
   "cell_type": "code",
   "execution_count": 94,
   "metadata": {},
   "outputs": [
    {
     "ename": "IndexError",
     "evalue": "index 1963533 is out of bounds for axis 0 with size 205920",
     "output_type": "error",
     "traceback": [
      "\u001b[0;31m---------------------------------------------------------------------------\u001b[0m",
      "\u001b[0;31mIndexError\u001b[0m                                Traceback (most recent call last)",
      "\u001b[0;32m<ipython-input-94-f70990b96d3d>\u001b[0m in \u001b[0;36m<module>\u001b[0;34m()\u001b[0m\n\u001b[0;32m----> 1\u001b[0;31m \u001b[0mt\u001b[0m\u001b[0;34m[\u001b[0m\u001b[0;36m1963533\u001b[0m\u001b[0;34m]\u001b[0m\u001b[0;34m\u001b[0m\u001b[0m\n\u001b[0m",
      "\u001b[0;31mIndexError\u001b[0m: index 1963533 is out of bounds for axis 0 with size 205920"
     ]
    }
   ],
   "source": [
    "t[1963533]"
   ]
  },
  {
   "cell_type": "code",
   "execution_count": 95,
   "metadata": {},
   "outputs": [
    {
     "data": {
      "text/plain": [
       "(1430, 144)"
      ]
     },
     "execution_count": 95,
     "metadata": {},
     "output_type": "execute_result"
    }
   ],
   "source": [
    "sipm_prob.shape"
   ]
  },
  {
   "cell_type": "code",
   "execution_count": null,
   "metadata": {
    "collapsed": true
   },
   "outputs": [],
   "source": []
  }
 ],
 "metadata": {
  "kernelspec": {
   "display_name": "Python 3",
   "language": "python",
   "name": "python3"
  },
  "language_info": {
   "codemirror_mode": {
    "name": "ipython",
    "version": 3
   },
   "file_extension": ".py",
   "mimetype": "text/x-python",
   "name": "python",
   "nbconvert_exporter": "python",
   "pygments_lexer": "ipython3",
   "version": "3.6.2"
  }
 },
 "nbformat": 4,
 "nbformat_minor": 2
}
