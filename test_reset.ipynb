{
 "cells": [
  {
   "cell_type": "code",
   "execution_count": 1,
   "metadata": {
    "collapsed": true
   },
   "outputs": [],
   "source": [
    "import invisible_cities.reset.reset_utils as reset\n",
    "\n",
    "from invisible_cities.core.system_of_units import pes, mm, mus, ns\n",
    "import invisible_cities.reco.corrections    as corrf\n",
    "import invisible_cities.database.load_db as dbf \n",
    "import reset_functions_event as rstf\n",
    "\n",
    "# Initialize RESET\n",
    "iterations = 100\n",
    "pitch      = 10\n",
    "run_number = 4495\n",
    "nsipms     = 1792\n",
    "npmts      = 1 \n",
    "dist       = 20. \n",
    "sipm_dist  = 20. \n",
    "pmt_dist   = 200 # max distance included in the param file\n",
    "sipm_thr   = 5.\n",
    "#x_size     = 2.\n",
    "#y_size     = 2.\n",
    "\n",
    "x_size     = 10.\n",
    "y_size     = 10.\n",
    "\n",
    "\n",
    "rmax       = 198 #\n",
    "slice_width = 2.\n",
    "pmt_param  = \"/home/jmbenlloch/reset_data/mapas/PMT_Map_corr_keV.h5\"\n",
    "sipm_param = \"/home/jmbenlloch/reset_data/mapas/SiPM_Map_corr_z0.0_keV.h5\"\n",
    "\n",
    "pmap_file = '4495_21215.h5'\n",
    "\n",
    "pmap_conf = {}\n",
    "pmap_conf['s1_emin'] = 54 * pes \n",
    "pmap_conf['s1_emax'] = 2400. * pes \n",
    "pmap_conf['s1_wmin'] = 7*25 * ns\n",
    "pmap_conf['s1_wmax'] = 16*25 * ns\n",
    "pmap_conf['s1_hmin'] = 12. * pes \n",
    "pmap_conf['s1_hmax'] = 400. * pes \n",
    "pmap_conf['s1_num'] = 1 \n",
    "pmap_conf['s1_ethr'] = 0.5 * pes \n",
    "\n",
    "pmap_conf['s2_emin'] = 200000. * pes \n",
    "pmap_conf['s2_emax'] = 2.e6 * pes \n",
    "pmap_conf['s2_wmin'] = 4.* mus \n",
    "pmap_conf['s2_wmax'] = 500. * mus \n",
    "pmap_conf['s2_hmin'] = 600. * pes \n",
    "pmap_conf['s2_hmax'] = 60000. * pes \n",
    "pmap_conf['s2_numMin'] = 1 \n",
    "pmap_conf['s2_numMax'] = 3 \n",
    "pmap_conf['s2_ethr'] = 0. * pes \n",
    "pmap_conf['s2_nsipmmin'] = 1 \n",
    "pmap_conf['s2_nsipmmax'] = 1792\n",
    "\n",
    "# Read file and select peaks\n",
    "selector = reset.refresh_selector(pmap_conf)\n",
    "s1s, s2s, s2sis, peaks = reset.load_and_select_peaks(pmap_file, 21215, selector)\n",
    "\n",
    "# Lifetime correction\n",
    "ZCorr = corrf.LifetimeCorrection(1093.77, 23.99)\n",
    "\n",
    "# Sensors info\n",
    "data_sipm = dbf.DataSiPM(run_number)\n",
    "\n",
    "# Take the first peak\n",
    "peak = next(iter(peaks))\n",
    "evt = 21215\n",
    "sipm_thr = sipm_thr\n",
    "\n",
    "# Prepare data\n",
    "voxels_data, slices, energies, zs = reset.prepare_data(s1s, s2s, s2sis, slice_width, evt, peak, data_sipm, nsipms, sipm_thr, dist, ZCorr)\n",
    "slices_start = reset.slices_start(voxels_data, x_size, y_size)\n",
    "\n",
    "\n",
    "#rst = rstf.RESET(run_number, nsipms, npmts, dist, sipm_dist, pmt_dist, sipm_thr, x_size, y_size, rmax, sipm_param, pmt_param)\n",
    "#voxels, slices = rst.run(voxels, slices, energies, slices_start, iterations)\n",
    "#reset.write_hdf5(voxels, slices, zs) \n",
    "#rst._destroy_context()"
   ]
  },
  {
   "cell_type": "markdown",
   "metadata": {},
   "source": [
    "# Create voxels"
   ]
  },
  {
   "cell_type": "code",
   "execution_count": 2,
   "metadata": {
    "collapsed": true
   },
   "outputs": [],
   "source": [
    "import numpy as np"
   ]
  },
  {
   "cell_type": "code",
   "execution_count": 3,
   "metadata": {
    "collapsed": true
   },
   "outputs": [],
   "source": [
    "def create_voxels(voxels_data, slices_start, xsize, ysize, rmax):\n",
    "    max_voxels = slices_start[-1]\n",
    "    nslices = voxels_data.xmin.shape[0]\n",
    "\n",
    "    nvoxels = 0 \n",
    "\n",
    "    voxels_dt  = np.dtype([('x', 'f4'), ('y', 'f4'), ('E', 'f4')])\n",
    "    voxels     = np.empty(max_voxels, dtype=voxels_dt)\n",
    "    slice_ids  = np.empty(max_voxels, dtype='i4')\n",
    "    address    = np.empty(max_voxels, dtype='i4')\n",
    "\n",
    "    slice_start_voxels = np.zeros(nslices+1, dtype='i4')\n",
    "\n",
    "    for slice_id in range(nslices):\n",
    "        xmin   = voxels_data.xmin[slice_id];\n",
    "        xmax   = voxels_data.xmax[slice_id];\n",
    "        ymin   = voxels_data.ymin[slice_id];\n",
    "        ymax   = voxels_data.ymax[slice_id];\n",
    "        charge = voxels_data.charge[slice_id];\n",
    "        xsteps = (xmax - xmin) / xsize + 1;\n",
    "        ysteps = (ymax - ymin) / ysize + 1;\n",
    "\n",
    "        xs = np.linspace(xmin, xmax, xsteps)\n",
    "        ys = np.linspace(ymin, ymax, ysteps)\n",
    "\n",
    "        voxels_nc = np.array([(x, y, charge) for x in xs for y in ys], dtype=voxels_dt)\n",
    "        check_actives = np.vectorize(lambda v: np.sqrt(v[0]**2 + v[1]**2) < rmax, otypes=[bool])\n",
    "        actives = check_actives(voxels_nc)\n",
    "        nactive = actives.sum()\n",
    "        start = slice_start_voxels[slice_id]\n",
    "        end = start + nactive\n",
    "        voxels[start:end] = voxels_nc[actives]\n",
    "        slice_ids[start:end] = slice_id\n",
    "\n",
    "        slice_start_voxels[slice_id+1] = end \n",
    "        nvoxels = nvoxels + nactive\n",
    "\n",
    "        print(slice_id, nactive, end)\n",
    "\n",
    "        address[slices_start[slice_id]:slices_start[slice_id+1]] = actives\n",
    "\n",
    "    address = address.cumsum()\n",
    "\n",
    "    reset_voxels = ResetVoxels(nvoxels, voxels[:nvoxels],\n",
    "                               slice_ids[:nvoxels], slice_start_voxels,\n",
    "                               address)\n",
    "\n",
    "    return reset_voxels"
   ]
  },
  {
   "cell_type": "code",
   "execution_count": 4,
   "metadata": {},
   "outputs": [
    {
     "name": "stderr",
     "output_type": "stream",
     "text": [
      "/home/jmbenlloch/miniconda3/envs/IC3.6/lib/python3.6/site-packages/ipykernel_launcher.py:23: DeprecationWarning: object of type <class 'numpy.float64'> cannot be safely interpreted as an integer.\n",
      "/home/jmbenlloch/miniconda3/envs/IC3.6/lib/python3.6/site-packages/ipykernel_launcher.py:24: DeprecationWarning: object of type <class 'numpy.float64'> cannot be safely interpreted as an integer.\n"
     ]
    },
    {
     "name": "stdout",
     "output_type": "stream",
     "text": [
      "0 67 67\n",
      "1 106 173\n",
      "2 297 470\n",
      "3 402 872\n",
      "4 532 1404\n",
      "5 313 1717\n",
      "6 485 2202\n",
      "7 911 3113\n",
      "8 1026 4139\n",
      "9 996 5135\n",
      "10 1104 6239\n",
      "11 893 7132\n",
      "12 771 7903\n",
      "13 509 8412\n",
      "14 297 8709\n",
      "15 248 8957\n",
      "16 234 9191\n",
      "17 152 9343\n",
      "18 136 9479\n",
      "19 121 9600\n",
      "20 41 9641\n",
      "21 39 9680\n",
      "22 39 9719\n",
      "23 49 9768\n",
      "24 66 9834\n",
      "25 79 9913\n",
      "26 103 10016\n",
      "27 53 10069\n",
      "28 46 10115\n",
      "29 41 10156\n",
      "30 67 10223\n",
      "31 80 10303\n",
      "32 793 11096\n",
      "33 75 11171\n",
      "34 84 11255\n",
      "35 75 11330\n",
      "36 75 11405\n",
      "37 63 11468\n",
      "38 69 11537\n",
      "39 120 11657\n",
      "40 63 11720\n",
      "41 85 11805\n",
      "42 63 11868\n",
      "43 69 11937\n",
      "44 75 12012\n",
      "45 76 12088\n",
      "46 87 12175\n",
      "47 84 12259\n",
      "48 74 12333\n",
      "49 181 12514\n",
      "50 87 12601\n",
      "51 77 12678\n",
      "52 77 12755\n",
      "53 72 12827\n",
      "54 71 12898\n",
      "55 55 12953\n",
      "56 59 13012\n",
      "57 47 13059\n",
      "58 36 13095\n",
      "59 28 13123\n",
      "60 47 13170\n",
      "61 34 13204\n",
      "62 40 13244\n",
      "63 54 13298\n",
      "64 286 13584\n",
      "65 242 13826\n"
     ]
    },
    {
     "ename": "NameError",
     "evalue": "name 'ResetVoxels' is not defined",
     "output_type": "error",
     "traceback": [
      "\u001b[0;31m---------------------------------------------------------------------------\u001b[0m",
      "\u001b[0;31mNameError\u001b[0m                                 Traceback (most recent call last)",
      "\u001b[0;32m<ipython-input-4-621be874bcf5>\u001b[0m in \u001b[0;36m<module>\u001b[0;34m()\u001b[0m\n\u001b[0;32m----> 1\u001b[0;31m \u001b[0mnvoxels\u001b[0m\u001b[0;34m,\u001b[0m \u001b[0mvoxels\u001b[0m\u001b[0;34m,\u001b[0m \u001b[0mslice_ids\u001b[0m\u001b[0;34m,\u001b[0m \u001b[0mslice_start\u001b[0m\u001b[0;34m,\u001b[0m \u001b[0maddress\u001b[0m \u001b[0;34m=\u001b[0m \u001b[0mcreate_voxels\u001b[0m\u001b[0;34m(\u001b[0m\u001b[0mvoxels_data\u001b[0m\u001b[0;34m,\u001b[0m \u001b[0mslices_start\u001b[0m\u001b[0;34m,\u001b[0m \u001b[0mx_size\u001b[0m\u001b[0;34m,\u001b[0m \u001b[0my_size\u001b[0m\u001b[0;34m,\u001b[0m \u001b[0mrmax\u001b[0m\u001b[0;34m)\u001b[0m\u001b[0;34m\u001b[0m\u001b[0m\n\u001b[0m",
      "\u001b[0;32m<ipython-input-3-0375aedb6d4f>\u001b[0m in \u001b[0;36mcreate_voxels\u001b[0;34m(voxels_data, slices_start, xsize, ysize, rmax)\u001b[0m\n\u001b[1;32m     42\u001b[0m     \u001b[0maddress\u001b[0m \u001b[0;34m=\u001b[0m \u001b[0maddress\u001b[0m\u001b[0;34m.\u001b[0m\u001b[0mcumsum\u001b[0m\u001b[0;34m(\u001b[0m\u001b[0;34m)\u001b[0m\u001b[0;34m\u001b[0m\u001b[0m\n\u001b[1;32m     43\u001b[0m \u001b[0;34m\u001b[0m\u001b[0m\n\u001b[0;32m---> 44\u001b[0;31m     reset_voxels = ResetVoxels(nvoxels, voxels[:nvoxels],\n\u001b[0m\u001b[1;32m     45\u001b[0m                                \u001b[0mslice_ids\u001b[0m\u001b[0;34m[\u001b[0m\u001b[0;34m:\u001b[0m\u001b[0mnvoxels\u001b[0m\u001b[0;34m]\u001b[0m\u001b[0;34m,\u001b[0m \u001b[0mslice_start_voxels\u001b[0m\u001b[0;34m,\u001b[0m\u001b[0;34m\u001b[0m\u001b[0m\n\u001b[1;32m     46\u001b[0m                                address)\n",
      "\u001b[0;31mNameError\u001b[0m: name 'ResetVoxels' is not defined"
     ]
    }
   ],
   "source": [
    "nvoxels, voxels, slice_ids, slice_start, address = create_voxels(voxels_data, slices_start, x_size, y_size, rmax)"
   ]
  },
  {
   "cell_type": "code",
   "execution_count": null,
   "metadata": {
    "collapsed": true
   },
   "outputs": [],
   "source": [
    "xsize = x_size\n",
    "ysize = y_size\n",
    "\n",
    "max_voxels = slices_start[-1]\n",
    "nslices = voxels_data.xmin.shape[0]\n",
    "\n",
    "nvoxels = 0 \n",
    "\n",
    "voxels_dt  = np.dtype([('x', 'f4'), ('y', 'f4'), ('E', 'f4')])\n",
    "voxels     = np.empty(max_voxels, dtype=voxels_dt)\n",
    "slice_ids  = np.empty(max_voxels, dtype='i4')\n",
    "#address    = np.empty(max_voxels, dtype='i4')\n",
    "address    = np.zeros(max_voxels, dtype='i4')\n",
    "\n",
    "slice_start_voxels = np.zeros(nslices+1, dtype='i4')\n",
    "\n",
    "count = 0\n",
    "\n",
    "#for slice_id in range(nslices):\n",
    "for slice_id in [8]:\n",
    "    xmin   = voxels_data.xmin[slice_id];\n",
    "    xmax   = voxels_data.xmax[slice_id];\n",
    "    ymin   = voxels_data.ymin[slice_id];\n",
    "    ymax   = voxels_data.ymax[slice_id];\n",
    "    charge = voxels_data.charge[slice_id];\n",
    "    xsteps = (xmax - xmin) / xsize + 1;\n",
    "    ysteps = (ymax - ymin) / ysize + 1;\n",
    "\n",
    "    xs = np.linspace(xmin, xmax, xsteps)\n",
    "    ys = np.linspace(ymin, ymax, ysteps)\n",
    "\n",
    "    voxels_nc = np.array([(x, y, charge) for x in xs for y in ys], dtype=voxels_dt)\n",
    "    check_actives = np.vectorize(lambda v: np.sqrt(v[0]**2 + v[1]**2) < rmax, otypes=[bool])\n",
    "    actives = check_actives(voxels_nc)\n",
    "    nactive = actives.sum()\n",
    "    start = slice_start_voxels[slice_id]\n",
    "    end = start + nactive\n",
    "    voxels[start:end] = voxels_nc[actives]\n",
    "    slice_ids[start:end] = slice_id\n",
    "\n",
    "    slice_start_voxels[slice_id+1] = end \n",
    "    nvoxels = nvoxels + nactive\n",
    "\n",
    "    print(\"{}\\t{}\\t{}\\t{}\\t{}\\t\".format(slice_id, count, nactive, start, end))\n",
    "    count = count + nactive\n",
    "\n",
    "    address[slices_start[slice_id]:slices_start[slice_id+1]] = actives\n",
    "#    print(address[slices_start[slice_id]:slices_start[slice_id+1]].sum())\n",
    "\n",
    "address = address.cumsum()"
   ]
  },
  {
   "cell_type": "code",
   "execution_count": null,
   "metadata": {
    "collapsed": true
   },
   "outputs": [],
   "source": [
    "actives"
   ]
  },
  {
   "cell_type": "code",
   "execution_count": null,
   "metadata": {
    "collapsed": true
   },
   "outputs": [],
   "source": [
    "address[slice_start[slice_id]:slice_start[slice_id+1]] + 2203"
   ]
  },
  {
   "cell_type": "code",
   "execution_count": 195,
   "metadata": {},
   "outputs": [
    {
     "data": {
      "text/plain": [
       "911"
      ]
     },
     "execution_count": 195,
     "metadata": {},
     "output_type": "execute_result"
    }
   ],
   "source": [
    "actives.sum()"
   ]
  },
  {
   "cell_type": "markdown",
   "metadata": {},
   "source": [
    "# Anode response"
   ]
  },
  {
   "cell_type": "code",
   "execution_count": 7,
   "metadata": {
    "collapsed": true
   },
   "outputs": [],
   "source": [
    "def create_anode_response(nslices, nsensors, slices):\n",
    "    total_sensors = nslices * nsensors\n",
    "    anode_response = np.zeros(total_sensors, dtype='f4')\n",
    "\n",
    "    slice_id = 0\n",
    "    ncharges = slices.charges.shape[0]\n",
    "\n",
    "    for s in range(ncharges):\n",
    "        if s >= slices.start[slice_id+1]:\n",
    "            slice_id = slice_id + 1\n",
    "\n",
    "        position = slices.sensors[s] + nsensors * slice_id\n",
    "        anode_response[position] = slices.charges[s]\n",
    "    \n",
    "    return anode_response"
   ]
  },
  {
   "cell_type": "code",
   "execution_count": 8,
   "metadata": {},
   "outputs": [
    {
     "data": {
      "text/plain": [
       "2.6653137"
      ]
     },
     "execution_count": 8,
     "metadata": {},
     "output_type": "execute_result"
    }
   ],
   "source": [
    "anode_response[1023]"
   ]
  },
  {
   "cell_type": "code",
   "execution_count": 6,
   "metadata": {
    "collapsed": true
   },
   "outputs": [],
   "source": [
    "nslices = voxels_data.xmin.shape[0]\n",
    "anode_response = create_anode_response(nslices, nsipms, slices)"
   ]
  },
  {
   "cell_type": "markdown",
   "metadata": {},
   "source": [
    "# Create cathode response"
   ]
  },
  {
   "cell_type": "code",
   "execution_count": 43,
   "metadata": {},
   "outputs": [
    {
     "data": {
      "text/plain": [
       "array([7.2264624e+02, 4.1959043e+03, 1.0519784e+04, 1.7254588e+04,\n",
       "       1.8523502e+04, 1.6994426e+04, 2.0278189e+04, 2.7795934e+04,\n",
       "       4.0335648e+04, 5.2568531e+04, 5.2349938e+04, 3.8738012e+04,\n",
       "       2.6826695e+04, 2.3684562e+04, 2.2167107e+04, 1.8603082e+04,\n",
       "       1.3202256e+04, 8.4173896e+03, 5.6608184e+03, 3.5756594e+03,\n",
       "       2.5694243e+03, 2.6684583e+03, 2.1014158e+03, 2.2701426e+03,\n",
       "       2.9455864e+03, 4.9063867e+03, 5.2197192e+03, 4.2988892e+03,\n",
       "       2.9707058e+03, 2.2736929e+03, 2.2044587e+03, 2.7128088e+03,\n",
       "       3.9867952e+03, 5.7572329e+03, 5.8722012e+03, 4.9187495e+03,\n",
       "       3.6355945e+03, 3.1717122e+03, 3.4265986e+03, 4.5101162e+03,\n",
       "       5.6360449e+03, 5.3188843e+03, 3.5691736e+03, 3.8035217e+03,\n",
       "       3.9004221e+03, 4.5042705e+03, 4.7847246e+03, 5.0263403e+03,\n",
       "       5.1779131e+03, 4.5697681e+03, 3.8743059e+03, 4.2185522e+03,\n",
       "       4.8349048e+03, 4.8407236e+03, 4.1809199e+03, 3.4839041e+03,\n",
       "       3.0245417e+03, 2.2185493e+03, 1.7951973e+03, 1.6025044e+03,\n",
       "       1.6584933e+03, 1.6702694e+03, 1.4926334e+03, 1.5757200e+03,\n",
       "       1.1543745e+03, 1.6744716e+02, 1.4404129e-37, 0.0000000e+00],\n",
       "      dtype=float32)"
      ]
     },
     "execution_count": 43,
     "metadata": {},
     "output_type": "execute_result"
    }
   ],
   "source": [
    "energies"
   ]
  },
  {
   "cell_type": "markdown",
   "metadata": {},
   "source": [
    "# Compute active sensors"
   ]
  },
  {
   "cell_type": "code",
   "execution_count": 44,
   "metadata": {
    "collapsed": true
   },
   "outputs": [],
   "source": [
    "import math"
   ]
  },
  {
   "cell_type": "code",
   "execution_count": 45,
   "metadata": {
    "collapsed": true
   },
   "outputs": [],
   "source": [
    "import invisible_cities.reco.dst_functions as dstf\n",
    "\n",
    "pmt_param_file   = \"/home/jmbenlloch/reset_data/mapas/PMT_Map_corr_keV.h5\"\n",
    "sipm_param_file  = \"/home/jmbenlloch/reset_data/mapas/SiPM_Map_corr_z0.0_keV.h5\"\n",
    "\n",
    "sipm_param = dstf.load_xy_corrections(sipm_param_file, group=\"ResetMap\", node=\"SiPM\")\n",
    "#dstf.load_xy_corrections(pmtcorr+\".h5\", group=\"ResetMap\", node=\"PMT\")"
   ]
  },
  {
   "cell_type": "code",
   "execution_count": 46,
   "metadata": {
    "collapsed": true
   },
   "outputs": [],
   "source": [
    "sipms_per_voxel = int(math.floor(2 * sipm_dist / pitch) + 1)**2\n",
    "voxels_per_sipm = int((2 * sipm_dist)**2 / (x_size * y_size))\n",
    "xs = data_sipm.X\n",
    "ys = data_sipm.Y"
   ]
  },
  {
   "cell_type": "code",
   "execution_count": 145,
   "metadata": {
    "collapsed": true
   },
   "outputs": [],
   "source": [
    "def compute_probabilities(voxels, nvoxels, xs, ys, nsensors, sensors_per_voxel, sensor_dist, sensor_param, sensor_response):\n",
    "    probs_size = nvoxels * sensors_per_voxel\n",
    "    sensor_ids = np.empty(probs_size, dtype='i4')\n",
    "    probs      = np.empty(probs_size, dtype='f4')\n",
    "    fwd_num    = np.empty(probs_size, dtype='f4')\n",
    "    voxel_starts = np.zeros(nvoxels+1, dtype='i4')\n",
    "\n",
    "    sensor_starts = np.zeros(nsensors * nslices + 1, dtype='i4')\n",
    "\n",
    "    last_position = 0\n",
    "    for i, v in enumerate(voxels):\n",
    "        for s in range(nsensors):\n",
    "            xdist = v[0] - xs[s]\n",
    "            ydist = v[1] - ys[s]\n",
    "            active = ((abs(xdist) <= sensor_dist) and (abs(ydist) <= sensor_dist))\n",
    "            if active:\n",
    "                #print(v, s, xdist, ydist)\n",
    "                sens_idx = slice_ids[i] * nsensors + s\n",
    "                sensor_starts[sens_idx + 1] = sensor_starts[sens_idx + 1] + 1\n",
    "                \n",
    "                #sensor_ids[last_position] = s\n",
    "                sensor_ids[last_position] = sens_idx\n",
    "                prob                      = sensor_param(xdist, ydist).value\n",
    "                probs     [last_position] = prob\n",
    "                fwd_num   [last_position] = prob * sensor_response[sens_idx]\n",
    "                last_position = last_position + 1\n",
    "\n",
    "                \n",
    "        voxel_starts[i+1] = last_position\n",
    "    \n",
    "    sensor_starts = sensor_starts.cumsum()\n",
    "        \n",
    "    return probs[:last_position], sensor_ids[:last_position], voxel_starts, sensor_starts, last_position, fwd_num[:last_position]"
   ]
  },
  {
   "cell_type": "code",
   "execution_count": 146,
   "metadata": {
    "collapsed": true
   },
   "outputs": [],
   "source": [
    "probs, sensor_ids, voxel_starts, sensor_starts, nprobs, fwd_num = compute_probabilities(voxels[:1000], 1000, xs, ys, nsipms, sipms_per_voxel, sipm_dist, sipm_param, anode_response)"
   ]
  },
  {
   "cell_type": "code",
   "execution_count": 147,
   "metadata": {},
   "outputs": [
    {
     "data": {
      "text/plain": [
       "array([1352, 1360, 1368, ..., 8285, 8286, 8287], dtype=int32)"
      ]
     },
     "execution_count": 147,
     "metadata": {},
     "output_type": "execute_result"
    }
   ],
   "source": [
    "sensor_ids"
   ]
  },
  {
   "cell_type": "markdown",
   "metadata": {},
   "source": [
    "# Sensor probs"
   ]
  },
  {
   "cell_type": "code",
   "execution_count": 49,
   "metadata": {
    "collapsed": true
   },
   "outputs": [],
   "source": [
    "nsensors = nsipms"
   ]
  },
  {
   "cell_type": "code",
   "execution_count": 148,
   "metadata": {
    "collapsed": true
   },
   "outputs": [],
   "source": [
    "# offset one position to get the ending position of the last element\n",
    "sensor_counts = np.zeros(nsensors * nslices + 1, dtype='i4')\n",
    "voxel_ids    = np.empty(nprobs, dtype='i4')\n",
    "sensor_probs = np.empty(nprobs, dtype='f4')\n",
    "\n",
    "vidx = 0\n",
    "for i, p in enumerate(probs):\n",
    "    if i >= voxel_starts[vidx + 1]:\n",
    "        vidx = vidx + 1\n",
    "    \n",
    "    sidx     = sensor_ids[i]\n",
    "    slice_id = slice_ids[vidx]\n",
    "    \n",
    "    count = sensor_counts[sidx + 1]\n",
    "    pos   = sensor_starts[sidx] + count\n",
    "    \n",
    "    sensor_probs[pos] = p\n",
    "    voxel_ids[pos] = vidx\n",
    "    \n",
    "    sensor_counts[sidx + 1] = count + 1\n",
    "    \n",
    "active_sensors = sensor_counts > 0\n",
    "sensor_starts_ids = np.where(active_sensors)[0] - 1\n",
    "sensor_starts_c = sensor_counts.cumsum()[sensor_starts_ids]"
   ]
  },
  {
   "cell_type": "code",
   "execution_count": 149,
   "metadata": {
    "collapsed": true
   },
   "outputs": [],
   "source": [
    "def compute_sensor_probs(probs, nprobs, nsensors, voxel_starts, sensor_ids, slice_ids):\n",
    "    # offset one position to get the ending position of the last element\n",
    "    sensor_counts = np.zeros(nsensors * nslices + 1, dtype='i4')\n",
    "    voxel_ids    = np.empty(nprobs, dtype='i4')\n",
    "    sensor_probs = np.empty(nprobs, dtype='f4')\n",
    "\n",
    "    vidx = 0\n",
    "    for i, p in enumerate(probs):\n",
    "        if i >= voxel_starts[vidx + 1]:\n",
    "            vidx = vidx + 1\n",
    "\n",
    "        sidx     = sensor_ids[i]\n",
    "        slice_id = slice_ids[vidx]\n",
    "\n",
    "        count = sensor_counts[sidx + 1]\n",
    "        pos   = sensor_starts[sidx] + count\n",
    "\n",
    "        sensor_probs[pos] = p\n",
    "        voxel_ids[pos] = vidx\n",
    "\n",
    "        sensor_counts[sidx + 1] = count + 1\n",
    "\n",
    "    active_sensors = sensor_counts > 0\n",
    "    sensor_starts_c_ids = np.where(active_sensors)[0] - 1\n",
    "    sensor_starts_c = sensor_counts.cumsum()[np.concatenate((sensor_starts_c_ids, [-1]))]\n",
    "    \n",
    "    return sensor_probs, sensor_starts, sensor_starts_c, sensor_starts_c_ids"
   ]
  },
  {
   "cell_type": "code",
   "execution_count": 150,
   "metadata": {
    "collapsed": true
   },
   "outputs": [],
   "source": [
    "sensor_probs, sensor_starts, sensor_starts_c, sensor_starts_c_ids = compute_sensor_probs(probs, nprobs, nsipms, voxel_starts, sensor_ids, slice_ids)"
   ]
  },
  {
   "cell_type": "code",
   "execution_count": 151,
   "metadata": {},
   "outputs": [
    {
     "data": {
      "text/plain": [
       "(1662,)"
      ]
     },
     "execution_count": 151,
     "metadata": {},
     "output_type": "execute_result"
    }
   ],
   "source": [
    "sensor_starts_c_ids.shape"
   ]
  },
  {
   "cell_type": "code",
   "execution_count": 152,
   "metadata": {},
   "outputs": [
    {
     "data": {
      "text/plain": [
       "array([    0,     0,     0, ..., 24958, 24958, 24958])"
      ]
     },
     "execution_count": 152,
     "metadata": {},
     "output_type": "execute_result"
    }
   ],
   "source": [
    "sensor_starts"
   ]
  },
  {
   "cell_type": "code",
   "execution_count": 153,
   "metadata": {},
   "outputs": [
    {
     "data": {
      "text/plain": [
       "(1662,)"
      ]
     },
     "execution_count": 153,
     "metadata": {},
     "output_type": "execute_result"
    }
   ],
   "source": [
    "sensor_starts_ids.shape"
   ]
  },
  {
   "cell_type": "code",
   "execution_count": 154,
   "metadata": {},
   "outputs": [
    {
     "data": {
      "text/plain": [
       "(1663,)"
      ]
     },
     "execution_count": 154,
     "metadata": {},
     "output_type": "execute_result"
    }
   ],
   "source": [
    "sensor_starts_c.shape"
   ]
  },
  {
   "cell_type": "code",
   "execution_count": 155,
   "metadata": {},
   "outputs": [
    {
     "data": {
      "text/plain": [
       "array([    0,     1,     3, ..., 24953, 24955, 24958])"
      ]
     },
     "execution_count": 155,
     "metadata": {},
     "output_type": "execute_result"
    }
   ],
   "source": [
    "sensor_starts_c"
   ]
  },
  {
   "cell_type": "markdown",
   "metadata": {},
   "source": [
    "# Forward denom"
   ]
  },
  {
   "cell_type": "code",
   "execution_count": 156,
   "metadata": {
    "collapsed": true
   },
   "outputs": [],
   "source": [
    "def forward_denoms(nsensors, nslices, voxels, sensor_probs, voxel_ids, sensor_starts, sensor_starts_ids):\n",
    "    nsensor_active = sensor_starts_ids.shape[0]\n",
    "    denoms = np.zeros(nsensors * nslices, dtype='f4')\n",
    "\n",
    "    for id in np.arange(nsensor_active):\n",
    "        start = sensor_starts[id]\n",
    "        end   = sensor_starts[id+1]\n",
    "\n",
    "        denom = 0.\n",
    "        for i in np.arange(start, end):\n",
    "            vid = voxel_ids[i]\n",
    "            denom += voxels[vid][2] * sensor_probs[i]\n",
    "\n",
    "        sid = sensor_starts_c_ids[id]\n",
    "        denoms[sid] = denom\n",
    "\n",
    "    return denoms"
   ]
  },
  {
   "cell_type": "code",
   "execution_count": 157,
   "metadata": {},
   "outputs": [
    {
     "data": {
      "text/plain": [
       "array([0., 0., 0., ..., 0., 0., 0.], dtype=float32)"
      ]
     },
     "execution_count": 157,
     "metadata": {},
     "output_type": "execute_result"
    }
   ],
   "source": [
    "forward_denoms(nsipms, nslices, voxels, sensor_probs, voxel_ids, sensor_starts_c, sensor_starts_c_ids)"
   ]
  },
  {
   "cell_type": "markdown",
   "metadata": {},
   "source": [
    "# MLEM step"
   ]
  },
  {
   "cell_type": "code",
   "execution_count": 163,
   "metadata": {
    "collapsed": true
   },
   "outputs": [],
   "source": [
    "def mlem_step(voxels, nvoxels, voxel_starts, probs, sensor_ids, fwd_num, fwd_denoms):\n",
    "    #for vidx in np.arange(nvoxels):\n",
    "    for vidx in np.arange(1000):\n",
    "        start = voxel_starts[vidx]\n",
    "        end   = voxel_starts[vidx+1]\n",
    "\n",
    "        eff = 0\n",
    "        fwd = 0\n",
    "        for i in np.arange(start, end):\n",
    "            eff += probs[i]\n",
    "            sidx = sensor_ids[i]\n",
    "\n",
    "            value = fwd_num[i] / denoms[sidx]\n",
    "\n",
    "            #TODO check is finite\n",
    "            if(np.isfinite(value)):\n",
    "                fwd += value\n",
    "\n",
    "        voxels[vidx][2] = voxels[vidx][2] / eff * fwd"
   ]
  },
  {
   "cell_type": "markdown",
   "metadata": {},
   "source": [
    "# check probs"
   ]
  },
  {
   "cell_type": "code",
   "execution_count": null,
   "metadata": {
    "collapsed": true
   },
   "outputs": [],
   "source": [
    "import pandas as pd\n",
    "sipm_corr = pd.read_hdf(\"/home/jmbenlloch/reset_data/mapas/SiPM_Map_corr_z0.0_keV.h5\")"
   ]
  },
  {
   "cell_type": "code",
   "execution_count": null,
   "metadata": {
    "collapsed": true
   },
   "outputs": [],
   "source": [
    "factors = sipm_corr.factor.values"
   ]
  },
  {
   "cell_type": "code",
   "execution_count": null,
   "metadata": {
    "collapsed": true
   },
   "outputs": [],
   "source": [
    "value = 0.18359876\n",
    "np.abs(factors - value).argmin()"
   ]
  },
  {
   "cell_type": "code",
   "execution_count": null,
   "metadata": {
    "collapsed": true
   },
   "outputs": [],
   "source": [
    "sipm_corr[3009:3011]"
   ]
  },
  {
   "cell_type": "code",
   "execution_count": null,
   "metadata": {
    "collapsed": true
   },
   "outputs": [],
   "source": [
    "value_cuda = 0.18654083\n",
    "np.abs(factors - value_cuda).argmin()"
   ]
  },
  {
   "cell_type": "code",
   "execution_count": null,
   "metadata": {
    "collapsed": true
   },
   "outputs": [],
   "source": [
    "import scipy\n",
    "scipy.interpolate.NearestNDInterpolator(1)"
   ]
  },
  {
   "cell_type": "code",
   "execution_count": null,
   "metadata": {
    "collapsed": true
   },
   "outputs": [],
   "source": [
    "xs_param = np.linspace(-29.5, 29.5, 60)\n",
    "ys_param = np.linspace(-29.5, 29.5, 60)"
   ]
  },
  {
   "cell_type": "code",
   "execution_count": null,
   "metadata": {
    "collapsed": true
   },
   "outputs": [],
   "source": [
    "coords = np.array([(x, y) for x in xs_param for y in ys_param])"
   ]
  },
  {
   "cell_type": "code",
   "execution_count": null,
   "metadata": {
    "collapsed": true
   },
   "outputs": [],
   "source": [
    "factors.shape"
   ]
  },
  {
   "cell_type": "code",
   "execution_count": null,
   "metadata": {
    "collapsed": true
   },
   "outputs": [],
   "source": [
    "coords.shape"
   ]
  },
  {
   "cell_type": "code",
   "execution_count": null,
   "metadata": {
    "collapsed": true
   },
   "outputs": [],
   "source": [
    "interp = scipy.interpolate.NearestNDInterpolator(coords, np.arange(coords.shape[0]))"
   ]
  },
  {
   "cell_type": "code",
   "execution_count": null,
   "metadata": {
    "collapsed": true
   },
   "outputs": [],
   "source": [
    "interp(20, -20)"
   ]
  }
 ],
 "metadata": {
  "kernelspec": {
   "display_name": "Python 3",
   "language": "python",
   "name": "python3"
  },
  "language_info": {
   "codemirror_mode": {
    "name": "ipython",
    "version": 3
   },
   "file_extension": ".py",
   "mimetype": "text/x-python",
   "name": "python",
   "nbconvert_exporter": "python",
   "pygments_lexer": "ipython3",
   "version": "3.6.2"
  }
 },
 "nbformat": 4,
 "nbformat_minor": 2
}
