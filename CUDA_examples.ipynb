{
 "cells": [
  {
   "cell_type": "code",
   "execution_count": 39,
   "metadata": {
    "scrolled": true
   },
   "outputs": [
    {
     "name": "stdout",
     "output_type": "stream",
     "text": [
      "original arrays\n",
      "[ 1.  2.  3.]\n",
      "[ 0.  4.]\n",
      "doubled arrays\n",
      "[ 2.  4.  6.]\n",
      "[ 0.  8.]\n",
      "doubled second only\n",
      "[ 2.  4.  6.]\n",
      "[  0.  16.]\n",
      "doubled again\n",
      "[  4.   8.  12.]\n",
      "[  0.  32.]\n",
      "doubled second only again\n",
      "[  4.   8.  12.]\n",
      "[  0.  64.]\n"
     ]
    }
   ],
   "source": [
    "# prepared invocations and structures -----------------------------------------\n",
    "from __future__ import print_function\n",
    "from __future__ import absolute_import\n",
    "import pycuda.driver as cuda\n",
    "import pycuda.autoinit\n",
    "import numpy\n",
    "from pycuda.compiler import SourceModule\n",
    "\n",
    "class DoubleOpStruct:\n",
    "    mem_size = 8 + numpy.uintp(0).nbytes\n",
    "    def __init__(self, array, struct_arr_ptr):\n",
    "        self.data = cuda.to_device(array)\n",
    "        self.shape, self.dtype = array.shape, array.dtype\n",
    "        \"\"\"\n",
    "        numpy.getbuffer() needed due to lack of new-style buffer interface for\n",
    "        scalar numpy arrays as of numpy version 1.9.1\n",
    "\n",
    "        see: https://github.com/inducer/pycuda/pull/60\n",
    "        \"\"\"\n",
    "        cuda.memcpy_htod(int(struct_arr_ptr),\n",
    "                         memoryview(numpy.int32(array.size)))\n",
    "        cuda.memcpy_htod(int(struct_arr_ptr) + 8,\n",
    "                         memoryview(numpy.uintp(int(self.data))))\n",
    "\n",
    "    def __str__(self):\n",
    "        return str(cuda.from_device(self.data, self.shape, self.dtype))\n",
    "\n",
    "struct_arr = cuda.mem_alloc(2 * DoubleOpStruct.mem_size)\n",
    "do2_ptr = int(struct_arr) + DoubleOpStruct.mem_size\n",
    "\n",
    "array1 = DoubleOpStruct(numpy.array([1, 2, 3], dtype=numpy.float32), struct_arr)\n",
    "array2 = DoubleOpStruct(numpy.array([0, 4], dtype=numpy.float32), do2_ptr)\n",
    "\n",
    "print(\"original arrays\")\n",
    "print(array1)\n",
    "print(array2)\n",
    "\n",
    "mod = SourceModule(\"\"\"\n",
    "    struct DoubleOperation {\n",
    "        int datalen, __padding; // so 64-bit ptrs can be aligned\n",
    "        float *ptr;\n",
    "    };\n",
    "\n",
    "\n",
    "    __global__ void double_array(DoubleOperation *a)\n",
    "    {\n",
    "        a = a + blockIdx.x;\n",
    "        for (int idx = threadIdx.x; idx < a->datalen; idx += blockDim.x)\n",
    "        {\n",
    "            float *a_ptr = a->ptr;\n",
    "            a_ptr[idx] *= 2;\n",
    "        }\n",
    "    }\n",
    "    \"\"\")\n",
    "func = mod.get_function(\"double_array\")\n",
    "func(struct_arr, block=(32, 1, 1), grid=(2, 1))\n",
    "\n",
    "print(\"doubled arrays\")\n",
    "print(array1)\n",
    "print(array2)\n",
    "\n",
    "func(numpy.uintp(do2_ptr), block=(32, 1, 1), grid=(1, 1))\n",
    "print(\"doubled second only\")\n",
    "print(array1)\n",
    "print(array2)\n",
    "\n",
    "if cuda.get_version() < (4, ):\n",
    "    func.prepare(\"P\", block=(32, 1, 1))\n",
    "    func.prepared_call((2, 1), struct_arr)\n",
    "else:\n",
    "    func.prepare(\"P\")\n",
    "    block = (32, 1, 1)\n",
    "    func.prepared_call((2, 1), block, struct_arr)\n",
    "\n",
    "\n",
    "print(\"doubled again\")\n",
    "print(array1)\n",
    "print(array2)\n",
    "\n",
    "if cuda.get_version() < (4, ):\n",
    "    func.prepared_call((1, 1), do2_ptr)\n",
    "else:\n",
    "    func.prepared_call((1, 1), block, do2_ptr)\n",
    "\n",
    "\n",
    "print(\"doubled second only again\")\n",
    "print(array1)\n",
    "print(array2)\n"
   ]
  },
  {
   "cell_type": "code",
   "execution_count": 40,
   "metadata": {},
   "outputs": [
    {
     "data": {
      "text/plain": [
       "8"
      ]
     },
     "execution_count": 40,
     "metadata": {},
     "output_type": "execute_result"
    }
   ],
   "source": [
    "numpy.uintp(0).nbytes"
   ]
  },
  {
   "cell_type": "code",
   "execution_count": 41,
   "metadata": {
    "collapsed": true
   },
   "outputs": [],
   "source": [
    "array = numpy.array([1, 2, 3], dtype=numpy.float32)"
   ]
  },
  {
   "cell_type": "code",
   "execution_count": 42,
   "metadata": {},
   "outputs": [
    {
     "data": {
      "text/plain": [
       "<pycuda._driver.DeviceAllocation at 0x7f33ee2e9d00>"
      ]
     },
     "execution_count": 42,
     "metadata": {},
     "output_type": "execute_result"
    }
   ],
   "source": [
    "cuda.to_device(array)"
   ]
  },
  {
   "cell_type": "code",
   "execution_count": 43,
   "metadata": {},
   "outputs": [
    {
     "data": {
      "text/plain": [
       "dtype('float32')"
      ]
     },
     "execution_count": 43,
     "metadata": {},
     "output_type": "execute_result"
    }
   ],
   "source": [
    "array.dtype"
   ]
  },
  {
   "cell_type": "code",
   "execution_count": 44,
   "metadata": {},
   "outputs": [
    {
     "data": {
      "text/plain": [
       "int"
      ]
     },
     "execution_count": 44,
     "metadata": {},
     "output_type": "execute_result"
    }
   ],
   "source": [
    "type(array.size)"
   ]
  },
  {
   "cell_type": "code",
   "execution_count": 45,
   "metadata": {},
   "outputs": [
    {
     "data": {
      "text/plain": [
       "numpy.int32"
      ]
     },
     "execution_count": 45,
     "metadata": {},
     "output_type": "execute_result"
    }
   ],
   "source": [
    "type(numpy.int32(array.size))"
   ]
  },
  {
   "cell_type": "code",
   "execution_count": null,
   "metadata": {
    "collapsed": true
   },
   "outputs": [],
   "source": []
  },
  {
   "cell_type": "markdown",
   "metadata": {},
   "source": [
    "# Prepare data"
   ]
  },
  {
   "cell_type": "code",
   "execution_count": 89,
   "metadata": {},
   "outputs": [
    {
     "name": "stdout",
     "output_type": "stream",
     "text": [
      "[('x', '<i4'), ('y', '<i4'), ('E', '<i4')]\n"
     ]
    }
   ],
   "source": [
    "import numpy as np\n",
    "data = np.zeros(3, dtype={'names':('x', 'y', 'E'),\n",
    "                          'formats':('i', 'i', 'i')})\n",
    "                          #'formats':('f8', 'f8', 'f8')})\n",
    "print(data.dtype)"
   ]
  },
  {
   "cell_type": "code",
   "execution_count": 90,
   "metadata": {},
   "outputs": [
    {
     "data": {
      "text/plain": [
       "array([(0, 0, 0), (0, 0, 0), (0, 0, 0)],\n",
       "      dtype=[('x', '<i4'), ('y', '<i4'), ('E', '<i4')])"
      ]
     },
     "execution_count": 90,
     "metadata": {},
     "output_type": "execute_result"
    }
   ],
   "source": [
    "data"
   ]
  },
  {
   "cell_type": "code",
   "execution_count": 91,
   "metadata": {
    "collapsed": true
   },
   "outputs": [],
   "source": [
    "data[0] = (1,2,3)\n",
    "data[1] = (4,5,6)\n",
    "data[2] = (7,8,9)"
   ]
  },
  {
   "cell_type": "code",
   "execution_count": 92,
   "metadata": {},
   "outputs": [
    {
     "data": {
      "text/plain": [
       "array([(1, 2, 3), (4, 5, 6), (7, 8, 9)],\n",
       "      dtype=[('x', '<i4'), ('y', '<i4'), ('E', '<i4')])"
      ]
     },
     "execution_count": 92,
     "metadata": {},
     "output_type": "execute_result"
    }
   ],
   "source": [
    "data"
   ]
  },
  {
   "cell_type": "code",
   "execution_count": 93,
   "metadata": {},
   "outputs": [],
   "source": [
    "data_ptr = memoryview(data)"
   ]
  },
  {
   "cell_type": "code",
   "execution_count": 94,
   "metadata": {},
   "outputs": [
    {
     "data": {
      "text/plain": [
       "<memory at 0x7f33f5c1d948>"
      ]
     },
     "execution_count": 94,
     "metadata": {},
     "output_type": "execute_result"
    }
   ],
   "source": [
    "data_ptr"
   ]
  },
  {
   "cell_type": "code",
   "execution_count": null,
   "metadata": {
    "collapsed": true
   },
   "outputs": [],
   "source": []
  },
  {
   "cell_type": "markdown",
   "metadata": {},
   "source": [
    "# Read the structure"
   ]
  },
  {
   "cell_type": "code",
   "execution_count": 99,
   "metadata": {},
   "outputs": [
    {
     "data": {
      "text/plain": [
       "12"
      ]
     },
     "execution_count": 99,
     "metadata": {},
     "output_type": "execute_result"
    }
   ],
   "source": [
    "cuda.to_device(data)\n",
    "data.dtype.itemsize"
   ]
  },
  {
   "cell_type": "code",
   "execution_count": 110,
   "metadata": {},
   "outputs": [
    {
     "name": "stdout",
     "output_type": "stream",
     "text": [
      "original arrays\n",
      "[(1, 2, 3) (4, 5, 6) (7, 8, 9)]\n",
      "doubled arrays\n",
      "[(1, 2, 3) (4, 5, 6) (7, 8, 9)]\n"
     ]
    }
   ],
   "source": [
    "# prepared invocations and structures -----------------------------------------\n",
    "from __future__ import print_function\n",
    "from __future__ import absolute_import\n",
    "import pycuda.driver as cuda\n",
    "import pycuda.autoinit\n",
    "import numpy\n",
    "from pycuda.compiler import SourceModule\n",
    "\n",
    "class Voxels:\n",
    "    #mem_size = 8 + numpy.uintp(0).nbytes\n",
    "    def __init__(self, array, struct_arr_ptr):\n",
    "        self.data = cuda.to_device(array)\n",
    "        self.shape, self.dtype = array.shape, array.dtype\n",
    "        self.mem_size = array.dtype.itemsize\n",
    "\n",
    "    def __str__(self):\n",
    "        return str(cuda.from_device(self.data, self.shape, self.dtype))\n",
    "\n",
    "mem_size = data.dtype.itemsize\n",
    "struct_arr = cuda.mem_alloc(1 * mem_size)\n",
    "array1 = Voxels(data, struct_arr)\n",
    "\n",
    "print(\"original arrays\")\n",
    "print(array1)\n",
    "\n",
    "mod = SourceModule(\"\"\"\n",
    "    #include <stdio.h>\n",
    "    \n",
    "    struct Voxels {\n",
    "        int x;\n",
    "        int y;\n",
    "        int E;\n",
    "    };\n",
    "\n",
    "    __global__ void double_array(Voxels *v)\n",
    "    {\n",
    "        v = v + blockIdx.x;\n",
    "        printf(\"x: %d, y: %d, E: %d\\\\n\", v->x, v->y, v->E);\n",
    "    }\n",
    "    \"\"\")\n",
    "func = mod.get_function(\"double_array\")\n",
    "func(struct_arr, block=(3, 1, 1), grid=(1, 1))\n",
    "\n",
    "print(\"doubled arrays\")\n",
    "print(array1)"
   ]
  },
  {
   "cell_type": "code",
   "execution_count": 107,
   "metadata": {},
   "outputs": [
    {
     "data": {
      "text/plain": [
       "array([(1, 2, 3), (4, 5, 6), (7, 8, 9)],\n",
       "      dtype=[('x', '<i4'), ('y', '<i4'), ('E', '<i4')])"
      ]
     },
     "execution_count": 107,
     "metadata": {},
     "output_type": "execute_result"
    }
   ],
   "source": [
    "data"
   ]
  },
  {
   "cell_type": "code",
   "execution_count": null,
   "metadata": {
    "collapsed": true
   },
   "outputs": [],
   "source": []
  },
  {
   "cell_type": "code",
   "execution_count": null,
   "metadata": {
    "collapsed": true
   },
   "outputs": [],
   "source": []
  },
  {
   "cell_type": "code",
   "execution_count": 114,
   "metadata": {
    "collapsed": true
   },
   "outputs": [],
   "source": [
    "import pycuda.driver as cuda\n",
    "import pycuda.autoinit\n",
    "from pycuda.compiler import SourceModule\n",
    "\n",
    "mod = SourceModule(\"\"\"\n",
    "    #include <stdio.h>\n",
    "\n",
    "    __global__ void say_hi()\n",
    "    {\n",
    "      printf(\"I am %d.%d\\\\n\", threadIdx.x, threadIdx.y);\n",
    "    }\n",
    "    \"\"\")\n",
    "\n",
    "func = mod.get_function(\"say_hi\")\n",
    "func(block=(4,4,1))"
   ]
  },
  {
   "cell_type": "code",
   "execution_count": null,
   "metadata": {
    "collapsed": true
   },
   "outputs": [],
   "source": []
  }
 ],
 "metadata": {
  "kernelspec": {
   "display_name": "Python 3",
   "language": "python",
   "name": "python3"
  },
  "language_info": {
   "codemirror_mode": {
    "name": "ipython",
    "version": 3
   },
   "file_extension": ".py",
   "mimetype": "text/x-python",
   "name": "python",
   "nbconvert_exporter": "python",
   "pygments_lexer": "ipython3",
   "version": "3.6.2"
  }
 },
 "nbformat": 4,
 "nbformat_minor": 2
}
